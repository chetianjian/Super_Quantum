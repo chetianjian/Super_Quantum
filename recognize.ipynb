{
 "cells": [
  {
   "cell_type": "code",
   "execution_count": 1,
   "id": "32caf39f",
   "metadata": {
    "ExecuteTime": {
     "end_time": "2022-10-28T12:37:41.222196Z",
     "start_time": "2022-10-28T12:37:39.582357Z"
    }
   },
   "outputs": [],
   "source": [
    "import numpy as np\n",
    "import pandas as pd\n",
    "from main import FactorGenerator as FG\n",
    "from utils import draw_line\n",
    "import matplotlib.pyplot as plt\n",
    "import seaborn as sns"
   ]
  },
  {
   "cell_type": "code",
   "execution_count": 2,
   "id": "c6441f56",
   "metadata": {
    "ExecuteTime": {
     "end_time": "2022-10-28T12:38:18.655679Z",
     "start_time": "2022-10-28T12:37:42.911239Z"
    }
   },
   "outputs": [
    {
     "name": "stdout",
     "output_type": "stream",
     "text": [
      "Enter yes if you want to load the minute close data.no\n"
     ]
    }
   ],
   "source": [
    "fg = FG()"
   ]
  },
  {
   "cell_type": "code",
   "execution_count": 3,
   "id": "1c64470d",
   "metadata": {
    "scrolled": true
   },
   "outputs": [
    {
     "name": "stdout",
     "output_type": "stream",
     "text": [
      "Completed 0 iterations, minimum approximates: 0.11112, accuracy: 2.469127901205681e-05\n",
      "Completed 1000000 iterations, minimum approximates: 0.9999596469281645, accuracy: 4.0356740171887395e-10\n",
      "Completed 2000000 iterations, minimum approximates: 0.9999999981680603, accuracy: 1.84297022087776e-14\n",
      "Completed 3000000 iterations, minimum approximates: 0.9999999999944489, accuracy: 0.0\n",
      "Completed 4000000 iterations, minimum approximates: 0.9999999999944489, accuracy: 0.0\n",
      "Completed 5000000 iterations, minimum approximates: 0.9999999999944489, accuracy: 0.0\n",
      "Completed 6000000 iterations, minimum approximates: 0.9999999999944489, accuracy: 0.0\n",
      "Completed 7000000 iterations, minimum approximates: 0.9999999999944489, accuracy: 0.0\n",
      "Completed 8000000 iterations, minimum approximates: 0.9999999999944489, accuracy: 0.0\n",
      "Completed 9000000 iterations, minimum approximates: 0.9999999999944489, accuracy: 0.0\n"
     ]
    }
   ],
   "source": [
    "vroc = fg.VROC()\n",
    "reference_price = fg.ReferencePrice()\n",
    "geometry = fg.Geometry()\n",
    "energy = fg.Energy()"
   ]
  },
  {
   "cell_type": "code",
   "execution_count": 4,
   "id": "b82a7905",
   "metadata": {},
   "outputs": [],
   "source": [
    "top1 = fg.rate.loc[\"2015-09-16\"].dropna().sort_values(ascending=False)\n",
    "top2 = fg.rate.loc[[\"2015-11-04\", \"2015-11-05\", \"2015-11-06\", \"2015-11-09\"], :].apply(sum, axis=0).dropna().sort_values(ascending=False) / 4\n",
    "top3 = fg.rate.loc[[\"2015-08-27\", \"2015-08-28\"], :].apply(sum, axis=0).dropna().sort_values(ascending=False) / 2"
   ]
  },
  {
   "cell_type": "code",
   "execution_count": 5,
   "id": "a668adc0",
   "metadata": {},
   "outputs": [],
   "source": [
    "assert len(top1) == len(top2) == len(top3)"
   ]
  },
  {
   "cell_type": "code",
   "execution_count": 6,
   "id": "54f74b85",
   "metadata": {},
   "outputs": [
    {
     "name": "stdout",
     "output_type": "stream",
     "text": [
      "国投: 0.5761933075952311\n",
      "国投: 0.6247158403841058\n",
      "\n",
      "\n",
      "宋城: 0.4445338005235547\n",
      "宋城: 0.5116775580431796\n",
      "\n",
      "\n",
      "海联讯: 0.4277967440802212\n",
      "海联讯: 0.5967858232993158\n",
      "\n",
      "\n",
      "双箭: 0.5131445226826229\n",
      "双箭: 0.6467510796841001\n",
      "\n",
      "\n",
      "富临: 0.4507354956911617\n",
      "富临: 0.5744110860423944\n",
      "\n",
      "\n",
      "雷柏: 0.35696374785514035\n",
      "雷柏: 0.49440260374538875\n",
      "\n",
      "\n",
      "中核: 0.5466429751473486\n",
      "中核: 0.6317013823893878\n",
      "\n",
      "\n",
      "保利: 0.4795411369781765\n",
      "保利: 0.5705506862985633\n"
     ]
    }
   ],
   "source": [
    "print(\"国投: \" + str(fg.hs300[\"hs300_return\"].corr(fg.rate[\"600061.SH\"])))\n",
    "print(\"国投: \" + str(fg.zz500[\"zz500_return\"].corr(fg.rate[\"600061.SH\"])))\n",
    "print(\"\\n\")\n",
    "print(\"宋城: \" + str(fg.hs300[\"hs300_return\"].corr(fg.rate[\"300144.SZ\"])))\n",
    "print(\"宋城: \" + str(fg.zz500[\"zz500_return\"].corr(fg.rate[\"300144.SZ\"])))\n",
    "print(\"\\n\")\n",
    "print(\"海联讯: \" + str(fg.hs300[\"hs300_return\"].corr(fg.rate[\"300277.SZ\"])))\n",
    "print(\"海联讯: \" + str(fg.zz500[\"zz500_return\"].corr(fg.rate[\"300277.SZ\"])))\n",
    "print(\"\\n\")\n",
    "print(\"双箭: \" + str(fg.hs300[\"hs300_return\"].corr(fg.rate[\"002381.SZ\"])))\n",
    "print(\"双箭: \" + str(fg.zz500[\"zz500_return\"].corr(fg.rate[\"002381.SZ\"])))\n",
    "print(\"\\n\")\n",
    "print(\"富临: \" + str(fg.hs300[\"hs300_return\"].corr(fg.rate[\"002357.SZ\"])))\n",
    "print(\"富临: \" + str(fg.zz500[\"zz500_return\"].corr(fg.rate[\"002357.SZ\"])))\n",
    "print(\"\\n\")\n",
    "print(\"雷柏: \" + str(fg.hs300[\"hs300_return\"].corr(fg.rate[\"002577.SZ\"])))\n",
    "print(\"雷柏: \" + str(fg.zz500[\"zz500_return\"].corr(fg.rate[\"002577.SZ\"])))\n",
    "print(\"\\n\")\n",
    "print(\"中核: \" + str(fg.hs300[\"hs300_return\"].corr(fg.rate[\"000777.SZ\"])))\n",
    "print(\"中核: \" + str(fg.zz500[\"zz500_return\"].corr(fg.rate[\"000777.SZ\"])))\n",
    "print(\"\\n\")\n",
    "print(\"保利: \" + str(fg.hs300[\"hs300_return\"].corr(fg.rate[\"002037.SZ\"])))\n",
    "print(\"保利: \" + str(fg.zz500[\"zz500_return\"].corr(fg.rate[\"002037.SZ\"])))"
   ]
  },
  {
   "cell_type": "code",
   "execution_count": 30,
   "id": "533ad4e9",
   "metadata": {},
   "outputs": [],
   "source": []
  },
  {
   "cell_type": "code",
   "execution_count": 31,
   "id": "d521f899",
   "metadata": {},
   "outputs": [
    {
     "data": {
      "text/html": [
       "<div>\n",
       "<style scoped>\n",
       "    .dataframe tbody tr th:only-of-type {\n",
       "        vertical-align: middle;\n",
       "    }\n",
       "\n",
       "    .dataframe tbody tr th {\n",
       "        vertical-align: top;\n",
       "    }\n",
       "\n",
       "    .dataframe thead th {\n",
       "        text-align: right;\n",
       "    }\n",
       "</style>\n",
       "<table border=\"1\" class=\"dataframe\">\n",
       "  <thead>\n",
       "    <tr style=\"text-align: right;\">\n",
       "      <th></th>\n",
       "      <th>000001.SZ</th>\n",
       "      <th>000002.SZ</th>\n",
       "      <th>000004.SZ</th>\n",
       "      <th>000005.SZ</th>\n",
       "      <th>000006.SZ</th>\n",
       "      <th>000007.SZ</th>\n",
       "      <th>000008.SZ</th>\n",
       "      <th>000009.SZ</th>\n",
       "      <th>000010.SZ</th>\n",
       "      <th>000011.SZ</th>\n",
       "      <th>...</th>\n",
       "      <th>688787.SH</th>\n",
       "      <th>688788.SH</th>\n",
       "      <th>688789.SH</th>\n",
       "      <th>688793.SH</th>\n",
       "      <th>688798.SH</th>\n",
       "      <th>688799.SH</th>\n",
       "      <th>688800.SH</th>\n",
       "      <th>688819.SH</th>\n",
       "      <th>688981.SH</th>\n",
       "      <th>689009.SH</th>\n",
       "    </tr>\n",
       "    <tr>\n",
       "      <th>trade_date</th>\n",
       "      <th></th>\n",
       "      <th></th>\n",
       "      <th></th>\n",
       "      <th></th>\n",
       "      <th></th>\n",
       "      <th></th>\n",
       "      <th></th>\n",
       "      <th></th>\n",
       "      <th></th>\n",
       "      <th></th>\n",
       "      <th></th>\n",
       "      <th></th>\n",
       "      <th></th>\n",
       "      <th></th>\n",
       "      <th></th>\n",
       "      <th></th>\n",
       "      <th></th>\n",
       "      <th></th>\n",
       "      <th></th>\n",
       "      <th></th>\n",
       "      <th></th>\n",
       "    </tr>\n",
       "  </thead>\n",
       "  <tbody>\n",
       "    <tr>\n",
       "      <th>2021-06-22</th>\n",
       "      <td>2798.297280</td>\n",
       "      <td>3464.599240</td>\n",
       "      <td>150.260078</td>\n",
       "      <td>19.219240</td>\n",
       "      <td>249.075225</td>\n",
       "      <td>45.558072</td>\n",
       "      <td>59.677596</td>\n",
       "      <td>159.558090</td>\n",
       "      <td>52.773210</td>\n",
       "      <td>49.558598</td>\n",
       "      <td>...</td>\n",
       "      <td>NaN</td>\n",
       "      <td>134.418487</td>\n",
       "      <td>NaN</td>\n",
       "      <td>NaN</td>\n",
       "      <td>NaN</td>\n",
       "      <td>NaN</td>\n",
       "      <td>NaN</td>\n",
       "      <td>42.233063</td>\n",
       "      <td>57.08</td>\n",
       "      <td>79.776913</td>\n",
       "    </tr>\n",
       "    <tr>\n",
       "      <th>2021-06-23</th>\n",
       "      <td>2819.007360</td>\n",
       "      <td>3503.206000</td>\n",
       "      <td>147.430602</td>\n",
       "      <td>19.219240</td>\n",
       "      <td>248.090472</td>\n",
       "      <td>47.848028</td>\n",
       "      <td>59.408778</td>\n",
       "      <td>158.554580</td>\n",
       "      <td>52.241490</td>\n",
       "      <td>49.437329</td>\n",
       "      <td>...</td>\n",
       "      <td>NaN</td>\n",
       "      <td>134.770500</td>\n",
       "      <td>NaN</td>\n",
       "      <td>NaN</td>\n",
       "      <td>NaN</td>\n",
       "      <td>NaN</td>\n",
       "      <td>NaN</td>\n",
       "      <td>42.872343</td>\n",
       "      <td>58.54</td>\n",
       "      <td>83.619238</td>\n",
       "    </tr>\n",
       "    <tr>\n",
       "      <th>2021-06-24</th>\n",
       "      <td>2811.697920</td>\n",
       "      <td>3478.898040</td>\n",
       "      <td>140.431371</td>\n",
       "      <td>19.628160</td>\n",
       "      <td>247.598229</td>\n",
       "      <td>47.606980</td>\n",
       "      <td>59.408778</td>\n",
       "      <td>159.457739</td>\n",
       "      <td>52.374420</td>\n",
       "      <td>48.911830</td>\n",
       "      <td>...</td>\n",
       "      <td>NaN</td>\n",
       "      <td>131.582273</td>\n",
       "      <td>NaN</td>\n",
       "      <td>NaN</td>\n",
       "      <td>NaN</td>\n",
       "      <td>NaN</td>\n",
       "      <td>NaN</td>\n",
       "      <td>42.872343</td>\n",
       "      <td>57.70</td>\n",
       "      <td>80.442916</td>\n",
       "    </tr>\n",
       "    <tr>\n",
       "      <th>2021-06-25</th>\n",
       "      <td>2845.808640</td>\n",
       "      <td>3504.635880</td>\n",
       "      <td>134.846879</td>\n",
       "      <td>19.832620</td>\n",
       "      <td>247.105986</td>\n",
       "      <td>49.535364</td>\n",
       "      <td>59.408778</td>\n",
       "      <td>164.675991</td>\n",
       "      <td>52.241490</td>\n",
       "      <td>49.841559</td>\n",
       "      <td>...</td>\n",
       "      <td>NaN</td>\n",
       "      <td>133.452967</td>\n",
       "      <td>NaN</td>\n",
       "      <td>NaN</td>\n",
       "      <td>NaN</td>\n",
       "      <td>NaN</td>\n",
       "      <td>NaN</td>\n",
       "      <td>42.375125</td>\n",
       "      <td>59.31</td>\n",
       "      <td>84.018840</td>\n",
       "    </tr>\n",
       "    <tr>\n",
       "      <th>2021-06-28</th>\n",
       "      <td>2775.150720</td>\n",
       "      <td>3443.151040</td>\n",
       "      <td>137.304056</td>\n",
       "      <td>19.014780</td>\n",
       "      <td>247.105986</td>\n",
       "      <td>49.776412</td>\n",
       "      <td>59.139960</td>\n",
       "      <td>181.133555</td>\n",
       "      <td>52.374420</td>\n",
       "      <td>49.558598</td>\n",
       "      <td>...</td>\n",
       "      <td>NaN</td>\n",
       "      <td>141.609600</td>\n",
       "      <td>NaN</td>\n",
       "      <td>NaN</td>\n",
       "      <td>NaN</td>\n",
       "      <td>NaN</td>\n",
       "      <td>NaN</td>\n",
       "      <td>44.546647</td>\n",
       "      <td>59.06</td>\n",
       "      <td>88.281259</td>\n",
       "    </tr>\n",
       "    <tr>\n",
       "      <th>...</th>\n",
       "      <td>...</td>\n",
       "      <td>...</td>\n",
       "      <td>...</td>\n",
       "      <td>...</td>\n",
       "      <td>...</td>\n",
       "      <td>...</td>\n",
       "      <td>...</td>\n",
       "      <td>...</td>\n",
       "      <td>...</td>\n",
       "      <td>...</td>\n",
       "      <td>...</td>\n",
       "      <td>...</td>\n",
       "      <td>...</td>\n",
       "      <td>...</td>\n",
       "      <td>...</td>\n",
       "      <td>...</td>\n",
       "      <td>...</td>\n",
       "      <td>...</td>\n",
       "      <td>...</td>\n",
       "      <td>...</td>\n",
       "      <td>...</td>\n",
       "    </tr>\n",
       "    <tr>\n",
       "      <th>2022-09-05</th>\n",
       "      <td>1558.881010</td>\n",
       "      <td>2756.970258</td>\n",
       "      <td>70.066767</td>\n",
       "      <td>18.912549</td>\n",
       "      <td>222.153352</td>\n",
       "      <td>106.543213</td>\n",
       "      <td>66.129227</td>\n",
       "      <td>150.682038</td>\n",
       "      <td>48.918241</td>\n",
       "      <td>43.661436</td>\n",
       "      <td>...</td>\n",
       "      <td>53.479240</td>\n",
       "      <td>58.402003</td>\n",
       "      <td>187.843839</td>\n",
       "      <td>37.526936</td>\n",
       "      <td>113.409114</td>\n",
       "      <td>33.539311</td>\n",
       "      <td>149.737456</td>\n",
       "      <td>39.946914</td>\n",
       "      <td>39.94</td>\n",
       "      <td>44.212355</td>\n",
       "    </tr>\n",
       "    <tr>\n",
       "      <th>2022-09-06</th>\n",
       "      <td>1550.199795</td>\n",
       "      <td>2866.156382</td>\n",
       "      <td>69.992307</td>\n",
       "      <td>19.117009</td>\n",
       "      <td>226.201671</td>\n",
       "      <td>99.191171</td>\n",
       "      <td>66.666863</td>\n",
       "      <td>151.688598</td>\n",
       "      <td>48.785311</td>\n",
       "      <td>44.728431</td>\n",
       "      <td>...</td>\n",
       "      <td>54.142580</td>\n",
       "      <td>58.945012</td>\n",
       "      <td>185.543260</td>\n",
       "      <td>37.567670</td>\n",
       "      <td>113.610193</td>\n",
       "      <td>33.518860</td>\n",
       "      <td>151.332115</td>\n",
       "      <td>42.310698</td>\n",
       "      <td>40.05</td>\n",
       "      <td>45.902979</td>\n",
       "    </tr>\n",
       "    <tr>\n",
       "      <th>2022-09-07</th>\n",
       "      <td>1529.117172</td>\n",
       "      <td>2813.170221</td>\n",
       "      <td>68.949868</td>\n",
       "      <td>19.219239</td>\n",
       "      <td>226.707715</td>\n",
       "      <td>97.744961</td>\n",
       "      <td>66.398069</td>\n",
       "      <td>154.808934</td>\n",
       "      <td>49.582891</td>\n",
       "      <td>45.112550</td>\n",
       "      <td>...</td>\n",
       "      <td>55.097387</td>\n",
       "      <td>59.473731</td>\n",
       "      <td>189.531601</td>\n",
       "      <td>37.689875</td>\n",
       "      <td>113.318628</td>\n",
       "      <td>33.242775</td>\n",
       "      <td>152.435338</td>\n",
       "      <td>43.435818</td>\n",
       "      <td>40.23</td>\n",
       "      <td>45.267714</td>\n",
       "    </tr>\n",
       "    <tr>\n",
       "      <th>2022-09-08</th>\n",
       "      <td>1532.837557</td>\n",
       "      <td>2822.804097</td>\n",
       "      <td>67.684050</td>\n",
       "      <td>19.117009</td>\n",
       "      <td>226.707715</td>\n",
       "      <td>97.744961</td>\n",
       "      <td>66.666887</td>\n",
       "      <td>149.776134</td>\n",
       "      <td>48.652381</td>\n",
       "      <td>44.685752</td>\n",
       "      <td>...</td>\n",
       "      <td>54.524503</td>\n",
       "      <td>57.758967</td>\n",
       "      <td>188.928829</td>\n",
       "      <td>36.977016</td>\n",
       "      <td>107.798982</td>\n",
       "      <td>32.711054</td>\n",
       "      <td>157.961482</td>\n",
       "      <td>42.960997</td>\n",
       "      <td>39.94</td>\n",
       "      <td>44.089401</td>\n",
       "    </tr>\n",
       "    <tr>\n",
       "      <th>2022-09-09</th>\n",
       "      <td>1577.483311</td>\n",
       "      <td>2914.326801</td>\n",
       "      <td>68.279729</td>\n",
       "      <td>19.117009</td>\n",
       "      <td>227.213759</td>\n",
       "      <td>97.865485</td>\n",
       "      <td>66.935658</td>\n",
       "      <td>149.272854</td>\n",
       "      <td>48.918202</td>\n",
       "      <td>45.368628</td>\n",
       "      <td>...</td>\n",
       "      <td>54.333541</td>\n",
       "      <td>58.016181</td>\n",
       "      <td>185.211735</td>\n",
       "      <td>37.241792</td>\n",
       "      <td>103.143980</td>\n",
       "      <td>32.721279</td>\n",
       "      <td>149.025375</td>\n",
       "      <td>42.527464</td>\n",
       "      <td>40.20</td>\n",
       "      <td>44.775896</td>\n",
       "    </tr>\n",
       "  </tbody>\n",
       "</table>\n",
       "<p>300 rows × 4988 columns</p>\n",
       "</div>"
      ],
      "text/plain": [
       "              000001.SZ    000002.SZ   000004.SZ  000005.SZ   000006.SZ  \\\n",
       "trade_date                                                                \n",
       "2021-06-22  2798.297280  3464.599240  150.260078  19.219240  249.075225   \n",
       "2021-06-23  2819.007360  3503.206000  147.430602  19.219240  248.090472   \n",
       "2021-06-24  2811.697920  3478.898040  140.431371  19.628160  247.598229   \n",
       "2021-06-25  2845.808640  3504.635880  134.846879  19.832620  247.105986   \n",
       "2021-06-28  2775.150720  3443.151040  137.304056  19.014780  247.105986   \n",
       "...                 ...          ...         ...        ...         ...   \n",
       "2022-09-05  1558.881010  2756.970258   70.066767  18.912549  222.153352   \n",
       "2022-09-06  1550.199795  2866.156382   69.992307  19.117009  226.201671   \n",
       "2022-09-07  1529.117172  2813.170221   68.949868  19.219239  226.707715   \n",
       "2022-09-08  1532.837557  2822.804097   67.684050  19.117009  226.707715   \n",
       "2022-09-09  1577.483311  2914.326801   68.279729  19.117009  227.213759   \n",
       "\n",
       "             000007.SZ  000008.SZ   000009.SZ  000010.SZ  000011.SZ  ...  \\\n",
       "trade_date                                                           ...   \n",
       "2021-06-22   45.558072  59.677596  159.558090  52.773210  49.558598  ...   \n",
       "2021-06-23   47.848028  59.408778  158.554580  52.241490  49.437329  ...   \n",
       "2021-06-24   47.606980  59.408778  159.457739  52.374420  48.911830  ...   \n",
       "2021-06-25   49.535364  59.408778  164.675991  52.241490  49.841559  ...   \n",
       "2021-06-28   49.776412  59.139960  181.133555  52.374420  49.558598  ...   \n",
       "...                ...        ...         ...        ...        ...  ...   \n",
       "2022-09-05  106.543213  66.129227  150.682038  48.918241  43.661436  ...   \n",
       "2022-09-06   99.191171  66.666863  151.688598  48.785311  44.728431  ...   \n",
       "2022-09-07   97.744961  66.398069  154.808934  49.582891  45.112550  ...   \n",
       "2022-09-08   97.744961  66.666887  149.776134  48.652381  44.685752  ...   \n",
       "2022-09-09   97.865485  66.935658  149.272854  48.918202  45.368628  ...   \n",
       "\n",
       "            688787.SH   688788.SH   688789.SH  688793.SH   688798.SH  \\\n",
       "trade_date                                                             \n",
       "2021-06-22        NaN  134.418487         NaN        NaN         NaN   \n",
       "2021-06-23        NaN  134.770500         NaN        NaN         NaN   \n",
       "2021-06-24        NaN  131.582273         NaN        NaN         NaN   \n",
       "2021-06-25        NaN  133.452967         NaN        NaN         NaN   \n",
       "2021-06-28        NaN  141.609600         NaN        NaN         NaN   \n",
       "...               ...         ...         ...        ...         ...   \n",
       "2022-09-05  53.479240   58.402003  187.843839  37.526936  113.409114   \n",
       "2022-09-06  54.142580   58.945012  185.543260  37.567670  113.610193   \n",
       "2022-09-07  55.097387   59.473731  189.531601  37.689875  113.318628   \n",
       "2022-09-08  54.524503   57.758967  188.928829  36.977016  107.798982   \n",
       "2022-09-09  54.333541   58.016181  185.211735  37.241792  103.143980   \n",
       "\n",
       "            688799.SH   688800.SH  688819.SH  688981.SH  689009.SH  \n",
       "trade_date                                                          \n",
       "2021-06-22        NaN         NaN  42.233063      57.08  79.776913  \n",
       "2021-06-23        NaN         NaN  42.872343      58.54  83.619238  \n",
       "2021-06-24        NaN         NaN  42.872343      57.70  80.442916  \n",
       "2021-06-25        NaN         NaN  42.375125      59.31  84.018840  \n",
       "2021-06-28        NaN         NaN  44.546647      59.06  88.281259  \n",
       "...               ...         ...        ...        ...        ...  \n",
       "2022-09-05  33.539311  149.737456  39.946914      39.94  44.212355  \n",
       "2022-09-06  33.518860  151.332115  42.310698      40.05  45.902979  \n",
       "2022-09-07  33.242775  152.435338  43.435818      40.23  45.267714  \n",
       "2022-09-08  32.711054  157.961482  42.960997      39.94  44.089401  \n",
       "2022-09-09  32.721279  149.025375  42.527464      40.20  44.775896  \n",
       "\n",
       "[300 rows x 4988 columns]"
      ]
     },
     "execution_count": 31,
     "metadata": {},
     "output_type": "execute_result"
    }
   ],
   "source": []
  },
  {
   "cell_type": "code",
   "execution_count": 214,
   "id": "9a40e134",
   "metadata": {},
   "outputs": [],
   "source": [
    "def RP(series):\n",
    "    series = (series.diff(1) / series.shift(1)).reset_index(drop=True)\n",
    "    if not series.any():\n",
    "        return np.nan\n",
    "    avg, std = series.mean(), series.std()\n",
    "    upper = series[series > avg + std]\n",
    "    lower = series[series < avg - std]\n",
    "    if len(upper) == 0:\n",
    "        upper = 0\n",
    "    else:\n",
    "        upper = np.nanmedian(upper.index)\n",
    "    if len(lower) == 0:\n",
    "        lower = 0\n",
    "    else:\n",
    "        lower = np.nanmedian(lower.index)\n",
    "    return lower - upper"
   ]
  },
  {
   "cell_type": "code",
   "execution_count": 215,
   "id": "299d235f",
   "metadata": {},
   "outputs": [
    {
     "data": {
      "text/html": [
       "<div>\n",
       "<style scoped>\n",
       "    .dataframe tbody tr th:only-of-type {\n",
       "        vertical-align: middle;\n",
       "    }\n",
       "\n",
       "    .dataframe tbody tr th {\n",
       "        vertical-align: top;\n",
       "    }\n",
       "\n",
       "    .dataframe thead th {\n",
       "        text-align: right;\n",
       "    }\n",
       "</style>\n",
       "<table border=\"1\" class=\"dataframe\">\n",
       "  <thead>\n",
       "    <tr style=\"text-align: right;\">\n",
       "      <th></th>\n",
       "      <th>000001.SZ</th>\n",
       "      <th>000002.SZ</th>\n",
       "      <th>000004.SZ</th>\n",
       "      <th>000005.SZ</th>\n",
       "      <th>000006.SZ</th>\n",
       "      <th>000007.SZ</th>\n",
       "      <th>000008.SZ</th>\n",
       "      <th>000009.SZ</th>\n",
       "      <th>000010.SZ</th>\n",
       "      <th>000011.SZ</th>\n",
       "      <th>...</th>\n",
       "      <th>688787.SH</th>\n",
       "      <th>688788.SH</th>\n",
       "      <th>688789.SH</th>\n",
       "      <th>688793.SH</th>\n",
       "      <th>688798.SH</th>\n",
       "      <th>688799.SH</th>\n",
       "      <th>688800.SH</th>\n",
       "      <th>688819.SH</th>\n",
       "      <th>688981.SH</th>\n",
       "      <th>689009.SH</th>\n",
       "    </tr>\n",
       "    <tr>\n",
       "      <th>trade_date</th>\n",
       "      <th></th>\n",
       "      <th></th>\n",
       "      <th></th>\n",
       "      <th></th>\n",
       "      <th></th>\n",
       "      <th></th>\n",
       "      <th></th>\n",
       "      <th></th>\n",
       "      <th></th>\n",
       "      <th></th>\n",
       "      <th></th>\n",
       "      <th></th>\n",
       "      <th></th>\n",
       "      <th></th>\n",
       "      <th></th>\n",
       "      <th></th>\n",
       "      <th></th>\n",
       "      <th></th>\n",
       "      <th></th>\n",
       "      <th></th>\n",
       "      <th></th>\n",
       "    </tr>\n",
       "  </thead>\n",
       "  <tbody>\n",
       "    <tr>\n",
       "      <th>2021-06-22</th>\n",
       "      <td>NaN</td>\n",
       "      <td>NaN</td>\n",
       "      <td>NaN</td>\n",
       "      <td>NaN</td>\n",
       "      <td>NaN</td>\n",
       "      <td>NaN</td>\n",
       "      <td>NaN</td>\n",
       "      <td>NaN</td>\n",
       "      <td>NaN</td>\n",
       "      <td>NaN</td>\n",
       "      <td>...</td>\n",
       "      <td>NaN</td>\n",
       "      <td>NaN</td>\n",
       "      <td>NaN</td>\n",
       "      <td>NaN</td>\n",
       "      <td>NaN</td>\n",
       "      <td>NaN</td>\n",
       "      <td>NaN</td>\n",
       "      <td>NaN</td>\n",
       "      <td>NaN</td>\n",
       "      <td>NaN</td>\n",
       "    </tr>\n",
       "    <tr>\n",
       "      <th>2021-06-23</th>\n",
       "      <td>NaN</td>\n",
       "      <td>NaN</td>\n",
       "      <td>NaN</td>\n",
       "      <td>NaN</td>\n",
       "      <td>NaN</td>\n",
       "      <td>NaN</td>\n",
       "      <td>NaN</td>\n",
       "      <td>NaN</td>\n",
       "      <td>NaN</td>\n",
       "      <td>NaN</td>\n",
       "      <td>...</td>\n",
       "      <td>NaN</td>\n",
       "      <td>NaN</td>\n",
       "      <td>NaN</td>\n",
       "      <td>NaN</td>\n",
       "      <td>NaN</td>\n",
       "      <td>NaN</td>\n",
       "      <td>NaN</td>\n",
       "      <td>NaN</td>\n",
       "      <td>NaN</td>\n",
       "      <td>NaN</td>\n",
       "    </tr>\n",
       "    <tr>\n",
       "      <th>2021-06-24</th>\n",
       "      <td>NaN</td>\n",
       "      <td>NaN</td>\n",
       "      <td>NaN</td>\n",
       "      <td>NaN</td>\n",
       "      <td>NaN</td>\n",
       "      <td>NaN</td>\n",
       "      <td>NaN</td>\n",
       "      <td>NaN</td>\n",
       "      <td>NaN</td>\n",
       "      <td>NaN</td>\n",
       "      <td>...</td>\n",
       "      <td>NaN</td>\n",
       "      <td>NaN</td>\n",
       "      <td>NaN</td>\n",
       "      <td>NaN</td>\n",
       "      <td>NaN</td>\n",
       "      <td>NaN</td>\n",
       "      <td>NaN</td>\n",
       "      <td>NaN</td>\n",
       "      <td>NaN</td>\n",
       "      <td>NaN</td>\n",
       "    </tr>\n",
       "    <tr>\n",
       "      <th>2021-06-25</th>\n",
       "      <td>NaN</td>\n",
       "      <td>NaN</td>\n",
       "      <td>NaN</td>\n",
       "      <td>NaN</td>\n",
       "      <td>NaN</td>\n",
       "      <td>NaN</td>\n",
       "      <td>NaN</td>\n",
       "      <td>NaN</td>\n",
       "      <td>NaN</td>\n",
       "      <td>NaN</td>\n",
       "      <td>...</td>\n",
       "      <td>NaN</td>\n",
       "      <td>NaN</td>\n",
       "      <td>NaN</td>\n",
       "      <td>NaN</td>\n",
       "      <td>NaN</td>\n",
       "      <td>NaN</td>\n",
       "      <td>NaN</td>\n",
       "      <td>NaN</td>\n",
       "      <td>NaN</td>\n",
       "      <td>NaN</td>\n",
       "    </tr>\n",
       "    <tr>\n",
       "      <th>2021-06-28</th>\n",
       "      <td>NaN</td>\n",
       "      <td>NaN</td>\n",
       "      <td>NaN</td>\n",
       "      <td>NaN</td>\n",
       "      <td>NaN</td>\n",
       "      <td>NaN</td>\n",
       "      <td>NaN</td>\n",
       "      <td>NaN</td>\n",
       "      <td>NaN</td>\n",
       "      <td>NaN</td>\n",
       "      <td>...</td>\n",
       "      <td>NaN</td>\n",
       "      <td>NaN</td>\n",
       "      <td>NaN</td>\n",
       "      <td>NaN</td>\n",
       "      <td>NaN</td>\n",
       "      <td>NaN</td>\n",
       "      <td>NaN</td>\n",
       "      <td>NaN</td>\n",
       "      <td>NaN</td>\n",
       "      <td>NaN</td>\n",
       "    </tr>\n",
       "    <tr>\n",
       "      <th>...</th>\n",
       "      <td>...</td>\n",
       "      <td>...</td>\n",
       "      <td>...</td>\n",
       "      <td>...</td>\n",
       "      <td>...</td>\n",
       "      <td>...</td>\n",
       "      <td>...</td>\n",
       "      <td>...</td>\n",
       "      <td>...</td>\n",
       "      <td>...</td>\n",
       "      <td>...</td>\n",
       "      <td>...</td>\n",
       "      <td>...</td>\n",
       "      <td>...</td>\n",
       "      <td>...</td>\n",
       "      <td>...</td>\n",
       "      <td>...</td>\n",
       "      <td>...</td>\n",
       "      <td>...</td>\n",
       "      <td>...</td>\n",
       "      <td>...</td>\n",
       "    </tr>\n",
       "    <tr>\n",
       "      <th>2022-01-21</th>\n",
       "      <td>-8.0</td>\n",
       "      <td>-15.0</td>\n",
       "      <td>-14.0</td>\n",
       "      <td>9.0</td>\n",
       "      <td>-6.5</td>\n",
       "      <td>8.5</td>\n",
       "      <td>3.5</td>\n",
       "      <td>-13.5</td>\n",
       "      <td>-6.5</td>\n",
       "      <td>-11.0</td>\n",
       "      <td>...</td>\n",
       "      <td>-48.0</td>\n",
       "      <td>-21.0</td>\n",
       "      <td>-3.0</td>\n",
       "      <td>-10.0</td>\n",
       "      <td>12.5</td>\n",
       "      <td>31.0</td>\n",
       "      <td>17.5</td>\n",
       "      <td>-15.0</td>\n",
       "      <td>7.5</td>\n",
       "      <td>6.5</td>\n",
       "    </tr>\n",
       "    <tr>\n",
       "      <th>2022-01-24</th>\n",
       "      <td>4.0</td>\n",
       "      <td>-15.0</td>\n",
       "      <td>-14.5</td>\n",
       "      <td>9.0</td>\n",
       "      <td>-20.0</td>\n",
       "      <td>8.5</td>\n",
       "      <td>3.5</td>\n",
       "      <td>-12.5</td>\n",
       "      <td>-6.5</td>\n",
       "      <td>-13.0</td>\n",
       "      <td>...</td>\n",
       "      <td>-45.0</td>\n",
       "      <td>-21.0</td>\n",
       "      <td>-2.0</td>\n",
       "      <td>-10.0</td>\n",
       "      <td>22.0</td>\n",
       "      <td>31.0</td>\n",
       "      <td>26.5</td>\n",
       "      <td>-15.0</td>\n",
       "      <td>7.5</td>\n",
       "      <td>6.5</td>\n",
       "    </tr>\n",
       "    <tr>\n",
       "      <th>2022-01-25</th>\n",
       "      <td>4.0</td>\n",
       "      <td>-13.5</td>\n",
       "      <td>-19.5</td>\n",
       "      <td>22.5</td>\n",
       "      <td>-10.5</td>\n",
       "      <td>8.5</td>\n",
       "      <td>4.5</td>\n",
       "      <td>-13.0</td>\n",
       "      <td>-2.5</td>\n",
       "      <td>-12.0</td>\n",
       "      <td>...</td>\n",
       "      <td>-38.0</td>\n",
       "      <td>-19.0</td>\n",
       "      <td>-2.0</td>\n",
       "      <td>-1.5</td>\n",
       "      <td>22.5</td>\n",
       "      <td>32.0</td>\n",
       "      <td>26.5</td>\n",
       "      <td>-16.0</td>\n",
       "      <td>8.5</td>\n",
       "      <td>6.5</td>\n",
       "    </tr>\n",
       "    <tr>\n",
       "      <th>2022-01-26</th>\n",
       "      <td>16.0</td>\n",
       "      <td>-13.0</td>\n",
       "      <td>-25.0</td>\n",
       "      <td>19.5</td>\n",
       "      <td>-6.0</td>\n",
       "      <td>9.5</td>\n",
       "      <td>4.5</td>\n",
       "      <td>-13.0</td>\n",
       "      <td>-4.5</td>\n",
       "      <td>-35.0</td>\n",
       "      <td>...</td>\n",
       "      <td>-31.0</td>\n",
       "      <td>-15.0</td>\n",
       "      <td>-4.0</td>\n",
       "      <td>14.5</td>\n",
       "      <td>22.5</td>\n",
       "      <td>32.0</td>\n",
       "      <td>26.0</td>\n",
       "      <td>-4.5</td>\n",
       "      <td>8.5</td>\n",
       "      <td>9.5</td>\n",
       "    </tr>\n",
       "    <tr>\n",
       "      <th>2022-01-27</th>\n",
       "      <td>16.0</td>\n",
       "      <td>-10.0</td>\n",
       "      <td>-17.0</td>\n",
       "      <td>19.5</td>\n",
       "      <td>-5.5</td>\n",
       "      <td>10.0</td>\n",
       "      <td>4.5</td>\n",
       "      <td>-13.5</td>\n",
       "      <td>6.5</td>\n",
       "      <td>-34.0</td>\n",
       "      <td>...</td>\n",
       "      <td>-7.0</td>\n",
       "      <td>-9.0</td>\n",
       "      <td>-5.0</td>\n",
       "      <td>14.5</td>\n",
       "      <td>22.5</td>\n",
       "      <td>32.0</td>\n",
       "      <td>26.0</td>\n",
       "      <td>3.0</td>\n",
       "      <td>8.5</td>\n",
       "      <td>9.5</td>\n",
       "    </tr>\n",
       "  </tbody>\n",
       "</table>\n",
       "<p>150 rows × 4988 columns</p>\n",
       "</div>"
      ],
      "text/plain": [
       "            000001.SZ  000002.SZ  000004.SZ  000005.SZ  000006.SZ  000007.SZ  \\\n",
       "trade_date                                                                     \n",
       "2021-06-22        NaN        NaN        NaN        NaN        NaN        NaN   \n",
       "2021-06-23        NaN        NaN        NaN        NaN        NaN        NaN   \n",
       "2021-06-24        NaN        NaN        NaN        NaN        NaN        NaN   \n",
       "2021-06-25        NaN        NaN        NaN        NaN        NaN        NaN   \n",
       "2021-06-28        NaN        NaN        NaN        NaN        NaN        NaN   \n",
       "...               ...        ...        ...        ...        ...        ...   \n",
       "2022-01-21       -8.0      -15.0      -14.0        9.0       -6.5        8.5   \n",
       "2022-01-24        4.0      -15.0      -14.5        9.0      -20.0        8.5   \n",
       "2022-01-25        4.0      -13.5      -19.5       22.5      -10.5        8.5   \n",
       "2022-01-26       16.0      -13.0      -25.0       19.5       -6.0        9.5   \n",
       "2022-01-27       16.0      -10.0      -17.0       19.5       -5.5       10.0   \n",
       "\n",
       "            000008.SZ  000009.SZ  000010.SZ  000011.SZ  ...  688787.SH  \\\n",
       "trade_date                                              ...              \n",
       "2021-06-22        NaN        NaN        NaN        NaN  ...        NaN   \n",
       "2021-06-23        NaN        NaN        NaN        NaN  ...        NaN   \n",
       "2021-06-24        NaN        NaN        NaN        NaN  ...        NaN   \n",
       "2021-06-25        NaN        NaN        NaN        NaN  ...        NaN   \n",
       "2021-06-28        NaN        NaN        NaN        NaN  ...        NaN   \n",
       "...               ...        ...        ...        ...  ...        ...   \n",
       "2022-01-21        3.5      -13.5       -6.5      -11.0  ...      -48.0   \n",
       "2022-01-24        3.5      -12.5       -6.5      -13.0  ...      -45.0   \n",
       "2022-01-25        4.5      -13.0       -2.5      -12.0  ...      -38.0   \n",
       "2022-01-26        4.5      -13.0       -4.5      -35.0  ...      -31.0   \n",
       "2022-01-27        4.5      -13.5        6.5      -34.0  ...       -7.0   \n",
       "\n",
       "            688788.SH  688789.SH  688793.SH  688798.SH  688799.SH  688800.SH  \\\n",
       "trade_date                                                                     \n",
       "2021-06-22        NaN        NaN        NaN        NaN        NaN        NaN   \n",
       "2021-06-23        NaN        NaN        NaN        NaN        NaN        NaN   \n",
       "2021-06-24        NaN        NaN        NaN        NaN        NaN        NaN   \n",
       "2021-06-25        NaN        NaN        NaN        NaN        NaN        NaN   \n",
       "2021-06-28        NaN        NaN        NaN        NaN        NaN        NaN   \n",
       "...               ...        ...        ...        ...        ...        ...   \n",
       "2022-01-21      -21.0       -3.0      -10.0       12.5       31.0       17.5   \n",
       "2022-01-24      -21.0       -2.0      -10.0       22.0       31.0       26.5   \n",
       "2022-01-25      -19.0       -2.0       -1.5       22.5       32.0       26.5   \n",
       "2022-01-26      -15.0       -4.0       14.5       22.5       32.0       26.0   \n",
       "2022-01-27       -9.0       -5.0       14.5       22.5       32.0       26.0   \n",
       "\n",
       "            688819.SH  688981.SH  689009.SH  \n",
       "trade_date                                   \n",
       "2021-06-22        NaN        NaN        NaN  \n",
       "2021-06-23        NaN        NaN        NaN  \n",
       "2021-06-24        NaN        NaN        NaN  \n",
       "2021-06-25        NaN        NaN        NaN  \n",
       "2021-06-28        NaN        NaN        NaN  \n",
       "...               ...        ...        ...  \n",
       "2022-01-21      -15.0        7.5        6.5  \n",
       "2022-01-24      -15.0        7.5        6.5  \n",
       "2022-01-25      -16.0        8.5        6.5  \n",
       "2022-01-26       -4.5        8.5        9.5  \n",
       "2022-01-27        3.0        8.5        9.5  \n",
       "\n",
       "[150 rows x 4988 columns]"
      ]
     },
     "execution_count": 215,
     "metadata": {},
     "output_type": "execute_result"
    }
   ],
   "source": []
  },
  {
   "cell_type": "code",
   "execution_count": 4,
   "id": "e4869d46",
   "metadata": {},
   "outputs": [],
   "source": [
    "Intraday = fg.CP_Intraday()"
   ]
  },
  {
   "cell_type": "code",
   "execution_count": 6,
   "id": "6972a27f",
   "metadata": {},
   "outputs": [
    {
     "data": {
      "text/html": [
       "<div>\n",
       "<style scoped>\n",
       "    .dataframe tbody tr th:only-of-type {\n",
       "        vertical-align: middle;\n",
       "    }\n",
       "\n",
       "    .dataframe tbody tr th {\n",
       "        vertical-align: top;\n",
       "    }\n",
       "\n",
       "    .dataframe thead th {\n",
       "        text-align: right;\n",
       "    }\n",
       "</style>\n",
       "<table border=\"1\" class=\"dataframe\">\n",
       "  <thead>\n",
       "    <tr style=\"text-align: right;\">\n",
       "      <th></th>\n",
       "      <th>000001.SZ</th>\n",
       "      <th>000002.SZ</th>\n",
       "      <th>000004.SZ</th>\n",
       "      <th>000005.SZ</th>\n",
       "      <th>000006.SZ</th>\n",
       "      <th>000007.SZ</th>\n",
       "      <th>000008.SZ</th>\n",
       "      <th>000009.SZ</th>\n",
       "      <th>000010.SZ</th>\n",
       "      <th>000011.SZ</th>\n",
       "      <th>...</th>\n",
       "      <th>688787.SH</th>\n",
       "      <th>688788.SH</th>\n",
       "      <th>688789.SH</th>\n",
       "      <th>688793.SH</th>\n",
       "      <th>688798.SH</th>\n",
       "      <th>688799.SH</th>\n",
       "      <th>688800.SH</th>\n",
       "      <th>688819.SH</th>\n",
       "      <th>688981.SH</th>\n",
       "      <th>689009.SH</th>\n",
       "    </tr>\n",
       "    <tr>\n",
       "      <th>trade_date</th>\n",
       "      <th></th>\n",
       "      <th></th>\n",
       "      <th></th>\n",
       "      <th></th>\n",
       "      <th></th>\n",
       "      <th></th>\n",
       "      <th></th>\n",
       "      <th></th>\n",
       "      <th></th>\n",
       "      <th></th>\n",
       "      <th></th>\n",
       "      <th></th>\n",
       "      <th></th>\n",
       "      <th></th>\n",
       "      <th></th>\n",
       "      <th></th>\n",
       "      <th></th>\n",
       "      <th></th>\n",
       "      <th></th>\n",
       "      <th></th>\n",
       "      <th></th>\n",
       "    </tr>\n",
       "  </thead>\n",
       "  <tbody>\n",
       "    <tr>\n",
       "      <th>2021-10-08</th>\n",
       "      <td>-9.5</td>\n",
       "      <td>13.0</td>\n",
       "      <td>3.0</td>\n",
       "      <td>7.0</td>\n",
       "      <td>1.0</td>\n",
       "      <td>12.0</td>\n",
       "      <td>-7.0</td>\n",
       "      <td>-27.0</td>\n",
       "      <td>-9.0</td>\n",
       "      <td>-39.0</td>\n",
       "      <td>...</td>\n",
       "      <td>2.0</td>\n",
       "      <td>13.0</td>\n",
       "      <td>21.0</td>\n",
       "      <td>2.5</td>\n",
       "      <td>-24.0</td>\n",
       "      <td>19.0</td>\n",
       "      <td>-26.5</td>\n",
       "      <td>1.5</td>\n",
       "      <td>5.5</td>\n",
       "      <td>-19.0</td>\n",
       "    </tr>\n",
       "    <tr>\n",
       "      <th>2021-10-11</th>\n",
       "      <td>1.5</td>\n",
       "      <td>1.5</td>\n",
       "      <td>-6.5</td>\n",
       "      <td>11.0</td>\n",
       "      <td>1.0</td>\n",
       "      <td>68.5</td>\n",
       "      <td>1.5</td>\n",
       "      <td>15.0</td>\n",
       "      <td>-9.5</td>\n",
       "      <td>-5.0</td>\n",
       "      <td>...</td>\n",
       "      <td>-26.0</td>\n",
       "      <td>26.0</td>\n",
       "      <td>31.5</td>\n",
       "      <td>14.0</td>\n",
       "      <td>11.0</td>\n",
       "      <td>48.0</td>\n",
       "      <td>-18.0</td>\n",
       "      <td>-0.5</td>\n",
       "      <td>-10.0</td>\n",
       "      <td>49.5</td>\n",
       "    </tr>\n",
       "    <tr>\n",
       "      <th>2021-10-12</th>\n",
       "      <td>1.0</td>\n",
       "      <td>70.0</td>\n",
       "      <td>-2.5</td>\n",
       "      <td>-2.5</td>\n",
       "      <td>5.5</td>\n",
       "      <td>-91.0</td>\n",
       "      <td>-3.0</td>\n",
       "      <td>-5.0</td>\n",
       "      <td>-2.5</td>\n",
       "      <td>4.0</td>\n",
       "      <td>...</td>\n",
       "      <td>-32.5</td>\n",
       "      <td>-46.0</td>\n",
       "      <td>-16.0</td>\n",
       "      <td>-19.0</td>\n",
       "      <td>-16.0</td>\n",
       "      <td>11.5</td>\n",
       "      <td>41.5</td>\n",
       "      <td>-66.5</td>\n",
       "      <td>-28.0</td>\n",
       "      <td>-21.5</td>\n",
       "    </tr>\n",
       "    <tr>\n",
       "      <th>2021-10-13</th>\n",
       "      <td>-15.0</td>\n",
       "      <td>-58.0</td>\n",
       "      <td>0.5</td>\n",
       "      <td>-19.0</td>\n",
       "      <td>-20.0</td>\n",
       "      <td>-2.0</td>\n",
       "      <td>-11.0</td>\n",
       "      <td>-13.5</td>\n",
       "      <td>-51.0</td>\n",
       "      <td>-80.0</td>\n",
       "      <td>...</td>\n",
       "      <td>-0.5</td>\n",
       "      <td>-1.0</td>\n",
       "      <td>7.5</td>\n",
       "      <td>-8.0</td>\n",
       "      <td>-14.0</td>\n",
       "      <td>26.5</td>\n",
       "      <td>-49.5</td>\n",
       "      <td>4.5</td>\n",
       "      <td>46.0</td>\n",
       "      <td>-17.0</td>\n",
       "    </tr>\n",
       "    <tr>\n",
       "      <th>2021-10-14</th>\n",
       "      <td>-53.5</td>\n",
       "      <td>6.0</td>\n",
       "      <td>-20.5</td>\n",
       "      <td>-1.0</td>\n",
       "      <td>-1.5</td>\n",
       "      <td>-9.5</td>\n",
       "      <td>-1.0</td>\n",
       "      <td>-36.5</td>\n",
       "      <td>-5.5</td>\n",
       "      <td>26.5</td>\n",
       "      <td>...</td>\n",
       "      <td>-39.0</td>\n",
       "      <td>28.0</td>\n",
       "      <td>-7.0</td>\n",
       "      <td>22.0</td>\n",
       "      <td>30.0</td>\n",
       "      <td>-7.0</td>\n",
       "      <td>27.0</td>\n",
       "      <td>-15.0</td>\n",
       "      <td>-2.5</td>\n",
       "      <td>-22.5</td>\n",
       "    </tr>\n",
       "  </tbody>\n",
       "</table>\n",
       "<p>5 rows × 4873 columns</p>\n",
       "</div>"
      ],
      "text/plain": [
       "            000001.SZ  000002.SZ  000004.SZ  000005.SZ  000006.SZ  000007.SZ  \\\n",
       "trade_date                                                                     \n",
       "2021-10-08       -9.5       13.0        3.0        7.0        1.0       12.0   \n",
       "2021-10-11        1.5        1.5       -6.5       11.0        1.0       68.5   \n",
       "2021-10-12        1.0       70.0       -2.5       -2.5        5.5      -91.0   \n",
       "2021-10-13      -15.0      -58.0        0.5      -19.0      -20.0       -2.0   \n",
       "2021-10-14      -53.5        6.0      -20.5       -1.0       -1.5       -9.5   \n",
       "\n",
       "            000008.SZ  000009.SZ  000010.SZ  000011.SZ  ...  688787.SH  \\\n",
       "trade_date                                              ...              \n",
       "2021-10-08       -7.0      -27.0       -9.0      -39.0  ...        2.0   \n",
       "2021-10-11        1.5       15.0       -9.5       -5.0  ...      -26.0   \n",
       "2021-10-12       -3.0       -5.0       -2.5        4.0  ...      -32.5   \n",
       "2021-10-13      -11.0      -13.5      -51.0      -80.0  ...       -0.5   \n",
       "2021-10-14       -1.0      -36.5       -5.5       26.5  ...      -39.0   \n",
       "\n",
       "            688788.SH  688789.SH  688793.SH  688798.SH  688799.SH  688800.SH  \\\n",
       "trade_date                                                                     \n",
       "2021-10-08       13.0       21.0        2.5      -24.0       19.0      -26.5   \n",
       "2021-10-11       26.0       31.5       14.0       11.0       48.0      -18.0   \n",
       "2021-10-12      -46.0      -16.0      -19.0      -16.0       11.5       41.5   \n",
       "2021-10-13       -1.0        7.5       -8.0      -14.0       26.5      -49.5   \n",
       "2021-10-14       28.0       -7.0       22.0       30.0       -7.0       27.0   \n",
       "\n",
       "            688819.SH  688981.SH  689009.SH  \n",
       "trade_date                                   \n",
       "2021-10-08        1.5        5.5      -19.0  \n",
       "2021-10-11       -0.5      -10.0       49.5  \n",
       "2021-10-12      -66.5      -28.0      -21.5  \n",
       "2021-10-13        4.5       46.0      -17.0  \n",
       "2021-10-14      -15.0       -2.5      -22.5  \n",
       "\n",
       "[5 rows x 4873 columns]"
      ]
     },
     "execution_count": 6,
     "metadata": {},
     "output_type": "execute_result"
    }
   ],
   "source": [
    "Intraday.head()"
   ]
  },
  {
   "cell_type": "code",
   "execution_count": 8,
   "id": "53532ebf",
   "metadata": {},
   "outputs": [
    {
     "data": {
      "text/html": [
       "        <script type=\"text/javascript\">\n",
       "        window.PlotlyConfig = {MathJaxConfig: 'local'};\n",
       "        if (window.MathJax && window.MathJax.Hub && window.MathJax.Hub.Config) {window.MathJax.Hub.Config({SVG: {font: \"STIX-Web\"}});}\n",
       "        if (typeof require !== 'undefined') {\n",
       "        require.undef(\"plotly\");\n",
       "        requirejs.config({\n",
       "            paths: {\n",
       "                'plotly': ['https://cdn.plot.ly/plotly-2.12.1.min']\n",
       "            }\n",
       "        });\n",
       "        require(['plotly'], function(Plotly) {\n",
       "            window._Plotly = Plotly;\n",
       "        });\n",
       "        }\n",
       "        </script>\n",
       "        "
      ]
     },
     "metadata": {},
     "output_type": "display_data"
    },
    {
     "data": {
      "application/vnd.plotly.v1+json": {
       "config": {
        "linkText": "Export to plot.ly",
        "plotlyServerURL": "https://plot.ly",
        "showLink": false
       },
       "data": [
        {
         "line": {
          "color": "blue"
         },
         "type": "scattergl",
         "x": [
          "2021-10-08",
          "2021-10-11",
          "2021-10-12",
          "2021-10-13",
          "2021-10-14",
          "2021-10-15",
          "2021-10-18",
          "2021-10-19",
          "2021-10-20",
          "2021-10-21",
          "2021-10-22",
          "2021-10-25",
          "2021-10-26",
          "2021-10-27",
          "2021-10-28",
          "2021-10-29",
          "2021-11-01",
          "2021-11-02",
          "2021-11-03",
          "2021-11-04",
          "2021-11-05",
          "2021-11-08",
          "2021-11-09",
          "2021-11-10",
          "2021-11-11",
          "2021-11-12",
          "2021-11-15",
          "2021-11-16",
          "2021-11-17",
          "2021-11-18",
          "2021-11-19",
          "2021-11-22",
          "2021-11-23",
          "2021-11-24",
          "2021-11-25",
          "2021-11-26",
          "2021-11-29",
          "2021-11-30",
          "2021-12-01",
          "2021-12-02",
          "2021-12-03",
          "2021-12-06",
          "2021-12-07",
          "2021-12-08",
          "2021-12-09",
          "2021-12-10",
          "2021-12-13",
          "2021-12-14",
          "2021-12-15",
          "2021-12-16",
          "2021-12-17",
          "2021-12-20",
          "2021-12-21",
          "2021-12-22",
          "2021-12-23",
          "2021-12-24",
          "2021-12-27",
          "2021-12-28",
          "2021-12-29",
          "2021-12-30",
          "2021-12-31",
          "2022-01-04",
          "2022-01-05",
          "2022-01-06",
          "2022-01-07",
          "2022-01-10",
          "2022-01-11",
          "2022-01-12",
          "2022-01-13",
          "2022-01-14",
          "2022-01-17",
          "2022-01-18",
          "2022-01-19",
          "2022-01-20",
          "2022-01-21",
          "2022-01-24",
          "2022-01-25",
          "2022-01-26",
          "2022-01-27",
          "2022-01-28",
          "2022-02-07",
          "2022-02-08",
          "2022-02-09",
          "2022-02-10",
          "2022-02-11",
          "2022-02-14",
          "2022-02-15",
          "2022-02-16",
          "2022-02-17",
          "2022-02-18",
          "2022-02-21",
          "2022-02-22",
          "2022-02-23",
          "2022-02-24",
          "2022-02-25",
          "2022-02-28",
          "2022-03-01",
          "2022-03-02",
          "2022-03-03",
          "2022-03-04",
          "2022-03-07",
          "2022-03-08",
          "2022-03-09",
          "2022-03-10",
          "2022-03-11",
          "2022-03-14",
          "2022-03-15",
          "2022-03-16",
          "2022-03-17",
          "2022-03-18",
          "2022-03-21",
          "2022-03-22",
          "2022-03-23",
          "2022-03-24",
          "2022-03-25",
          "2022-03-28",
          "2022-03-29",
          "2022-03-30",
          "2022-03-31",
          "2022-04-01",
          "2022-04-06",
          "2022-04-07",
          "2022-04-08",
          "2022-04-11",
          "2022-04-12",
          "2022-04-13",
          "2022-04-14",
          "2022-04-15",
          "2022-04-18",
          "2022-04-19",
          "2022-04-20",
          "2022-04-21",
          "2022-04-22",
          "2022-04-25",
          "2022-04-26",
          "2022-04-27",
          "2022-04-28",
          "2022-04-29",
          "2022-05-05",
          "2022-05-06",
          "2022-05-09",
          "2022-05-10",
          "2022-05-11",
          "2022-05-12",
          "2022-05-13",
          "2022-05-16",
          "2022-05-17",
          "2022-05-18",
          "2022-05-19",
          "2022-05-20",
          "2022-05-23",
          "2022-05-24",
          "2022-05-25",
          "2022-05-26",
          "2022-05-27",
          "2022-05-30",
          "2022-05-31",
          "2022-06-01",
          "2022-06-02",
          "2022-06-06",
          "2022-06-07",
          "2022-06-08",
          "2022-06-09",
          "2022-06-10",
          "2022-06-13",
          "2022-06-14",
          "2022-06-15",
          "2022-06-16",
          "2022-06-17",
          "2022-06-20",
          "2022-06-21",
          "2022-06-22",
          "2022-06-23",
          "2022-06-24",
          "2022-06-27",
          "2022-06-28",
          "2022-06-29",
          "2022-06-30",
          "2022-07-01",
          "2022-07-04",
          "2022-07-05",
          "2022-07-06",
          "2022-07-07",
          "2022-07-08",
          "2022-07-11",
          "2022-07-12",
          "2022-07-13",
          "2022-07-14",
          "2022-07-15",
          "2022-07-18",
          "2022-07-19",
          "2022-07-20",
          "2022-07-21",
          "2022-07-22",
          "2022-07-25",
          "2022-07-26",
          "2022-07-27",
          "2022-07-28",
          "2022-07-29",
          "2022-08-01",
          "2022-08-02",
          "2022-08-03",
          "2022-08-04",
          "2022-08-05",
          "2022-08-08",
          "2022-08-09",
          "2022-08-10",
          "2022-08-11",
          "2022-08-12",
          "2022-08-15",
          "2022-08-16",
          "2022-08-17",
          "2022-08-18",
          "2022-08-19",
          "2022-08-22",
          "2022-08-23",
          "2022-08-24",
          "2022-08-25",
          "2022-08-26",
          "2022-08-29",
          "2022-08-30",
          "2022-08-31",
          "2022-09-01",
          "2022-09-02",
          "2022-09-05",
          "2022-09-06",
          "2022-09-07",
          "2022-09-08",
          "2022-09-09",
          "2022-09-13",
          "2022-09-14",
          "2022-09-15",
          "2022-09-16",
          "2022-09-19",
          "2022-09-20",
          "2022-09-21",
          "2022-09-22",
          "2022-09-23",
          "2022-09-26",
          "2022-09-27",
          "2022-09-28",
          "2022-09-29",
          "2022-09-30"
         ],
         "y": [
          -9.5,
          1.5,
          1,
          -15,
          -53.5,
          -8.5,
          -23,
          18.5,
          -5,
          -2,
          2,
          29.5,
          7.5,
          -26.5,
          -17,
          17,
          18,
          -38,
          0,
          -39,
          15,
          16.5,
          -21,
          -62.5,
          29,
          -2.5,
          -2,
          -9,
          -15,
          12.5,
          -24.5,
          6.5,
          -52.5,
          -33.5,
          10.5,
          -19,
          30,
          -20,
          14,
          19,
          -51.5,
          22,
          -6,
          5,
          15.5,
          -17.5,
          34,
          22.5,
          13,
          -3,
          -22.5,
          10,
          11,
          5,
          -51,
          -9.5,
          -140,
          -21,
          -4,
          13,
          5,
          -69,
          43,
          -5,
          -38.5,
          -57,
          7,
          -24.5,
          36.5,
          -26,
          8,
          29,
          -65.5,
          0,
          2,
          6.5,
          -7.5,
          -17,
          -11,
          -45,
          4.5,
          65,
          -22,
          -2.5,
          -4.5,
          -57.5,
          12,
          7.5,
          50,
          -3.5,
          -21.5,
          -14,
          -25,
          -18.5,
          -90,
          -8,
          -48,
          -78,
          -9.5,
          46,
          -19,
          66.5,
          -34,
          22.5,
          22,
          5.5,
          -34,
          -50,
          13,
          -20,
          61,
          -13,
          -27,
          41,
          -9.5,
          -0.5,
          -5,
          -49,
          31.5,
          42.5,
          17,
          -9,
          -29,
          -23,
          -65,
          27.5,
          -18.5,
          -15,
          -83,
          0,
          31,
          21.5,
          23,
          -20,
          -33,
          26.5,
          -5.5,
          -4,
          2,
          8.5,
          -5,
          -31,
          36.5,
          -16,
          25,
          -7,
          -19,
          -20.5,
          -1,
          -7,
          -43.5,
          -57,
          -68,
          -43,
          27,
          41,
          46,
          -10,
          -65,
          -37.5,
          7.5,
          -29,
          23.5,
          -18.5,
          -15,
          -25.5,
          22,
          -33.5,
          -36.5,
          10.5,
          14,
          48,
          -12,
          -14,
          3.5,
          -14,
          -4.5,
          23,
          -7.5,
          -2.5,
          1.5,
          -72.5,
          11,
          -15,
          -11.5,
          39.5,
          8,
          16.5,
          16.5,
          7.5,
          16,
          -7,
          55.5,
          -40,
          9,
          37.5,
          -1,
          4,
          -44,
          -95.5,
          -48,
          -42,
          -27.5,
          -48,
          0,
          -14.5,
          -1.5,
          -22.5,
          -5.5,
          28,
          -9,
          32.5,
          -66,
          33,
          -10,
          -66,
          21,
          -13.5,
          -14,
          -15,
          -63,
          54.5,
          18,
          -2.5,
          -17.5,
          -16.5,
          -13.5,
          13,
          23.5,
          35.5,
          1.5,
          14,
          -57.5,
          -14.5,
          -74,
          -91,
          -80,
          5,
          14,
          -92.5,
          4.5,
          -68.5,
          -43
         ]
        }
       ],
       "layout": {
        "template": {
         "data": {
          "bar": [
           {
            "error_x": {
             "color": "#2a3f5f"
            },
            "error_y": {
             "color": "#2a3f5f"
            },
            "marker": {
             "line": {
              "color": "#E5ECF6",
              "width": 0.5
             },
             "pattern": {
              "fillmode": "overlay",
              "size": 10,
              "solidity": 0.2
             }
            },
            "type": "bar"
           }
          ],
          "barpolar": [
           {
            "marker": {
             "line": {
              "color": "#E5ECF6",
              "width": 0.5
             },
             "pattern": {
              "fillmode": "overlay",
              "size": 10,
              "solidity": 0.2
             }
            },
            "type": "barpolar"
           }
          ],
          "carpet": [
           {
            "aaxis": {
             "endlinecolor": "#2a3f5f",
             "gridcolor": "white",
             "linecolor": "white",
             "minorgridcolor": "white",
             "startlinecolor": "#2a3f5f"
            },
            "baxis": {
             "endlinecolor": "#2a3f5f",
             "gridcolor": "white",
             "linecolor": "white",
             "minorgridcolor": "white",
             "startlinecolor": "#2a3f5f"
            },
            "type": "carpet"
           }
          ],
          "choropleth": [
           {
            "colorbar": {
             "outlinewidth": 0,
             "ticks": ""
            },
            "type": "choropleth"
           }
          ],
          "contour": [
           {
            "colorbar": {
             "outlinewidth": 0,
             "ticks": ""
            },
            "colorscale": [
             [
              0,
              "#0d0887"
             ],
             [
              0.1111111111111111,
              "#46039f"
             ],
             [
              0.2222222222222222,
              "#7201a8"
             ],
             [
              0.3333333333333333,
              "#9c179e"
             ],
             [
              0.4444444444444444,
              "#bd3786"
             ],
             [
              0.5555555555555556,
              "#d8576b"
             ],
             [
              0.6666666666666666,
              "#ed7953"
             ],
             [
              0.7777777777777778,
              "#fb9f3a"
             ],
             [
              0.8888888888888888,
              "#fdca26"
             ],
             [
              1,
              "#f0f921"
             ]
            ],
            "type": "contour"
           }
          ],
          "contourcarpet": [
           {
            "colorbar": {
             "outlinewidth": 0,
             "ticks": ""
            },
            "type": "contourcarpet"
           }
          ],
          "heatmap": [
           {
            "colorbar": {
             "outlinewidth": 0,
             "ticks": ""
            },
            "colorscale": [
             [
              0,
              "#0d0887"
             ],
             [
              0.1111111111111111,
              "#46039f"
             ],
             [
              0.2222222222222222,
              "#7201a8"
             ],
             [
              0.3333333333333333,
              "#9c179e"
             ],
             [
              0.4444444444444444,
              "#bd3786"
             ],
             [
              0.5555555555555556,
              "#d8576b"
             ],
             [
              0.6666666666666666,
              "#ed7953"
             ],
             [
              0.7777777777777778,
              "#fb9f3a"
             ],
             [
              0.8888888888888888,
              "#fdca26"
             ],
             [
              1,
              "#f0f921"
             ]
            ],
            "type": "heatmap"
           }
          ],
          "heatmapgl": [
           {
            "colorbar": {
             "outlinewidth": 0,
             "ticks": ""
            },
            "colorscale": [
             [
              0,
              "#0d0887"
             ],
             [
              0.1111111111111111,
              "#46039f"
             ],
             [
              0.2222222222222222,
              "#7201a8"
             ],
             [
              0.3333333333333333,
              "#9c179e"
             ],
             [
              0.4444444444444444,
              "#bd3786"
             ],
             [
              0.5555555555555556,
              "#d8576b"
             ],
             [
              0.6666666666666666,
              "#ed7953"
             ],
             [
              0.7777777777777778,
              "#fb9f3a"
             ],
             [
              0.8888888888888888,
              "#fdca26"
             ],
             [
              1,
              "#f0f921"
             ]
            ],
            "type": "heatmapgl"
           }
          ],
          "histogram": [
           {
            "marker": {
             "pattern": {
              "fillmode": "overlay",
              "size": 10,
              "solidity": 0.2
             }
            },
            "type": "histogram"
           }
          ],
          "histogram2d": [
           {
            "colorbar": {
             "outlinewidth": 0,
             "ticks": ""
            },
            "colorscale": [
             [
              0,
              "#0d0887"
             ],
             [
              0.1111111111111111,
              "#46039f"
             ],
             [
              0.2222222222222222,
              "#7201a8"
             ],
             [
              0.3333333333333333,
              "#9c179e"
             ],
             [
              0.4444444444444444,
              "#bd3786"
             ],
             [
              0.5555555555555556,
              "#d8576b"
             ],
             [
              0.6666666666666666,
              "#ed7953"
             ],
             [
              0.7777777777777778,
              "#fb9f3a"
             ],
             [
              0.8888888888888888,
              "#fdca26"
             ],
             [
              1,
              "#f0f921"
             ]
            ],
            "type": "histogram2d"
           }
          ],
          "histogram2dcontour": [
           {
            "colorbar": {
             "outlinewidth": 0,
             "ticks": ""
            },
            "colorscale": [
             [
              0,
              "#0d0887"
             ],
             [
              0.1111111111111111,
              "#46039f"
             ],
             [
              0.2222222222222222,
              "#7201a8"
             ],
             [
              0.3333333333333333,
              "#9c179e"
             ],
             [
              0.4444444444444444,
              "#bd3786"
             ],
             [
              0.5555555555555556,
              "#d8576b"
             ],
             [
              0.6666666666666666,
              "#ed7953"
             ],
             [
              0.7777777777777778,
              "#fb9f3a"
             ],
             [
              0.8888888888888888,
              "#fdca26"
             ],
             [
              1,
              "#f0f921"
             ]
            ],
            "type": "histogram2dcontour"
           }
          ],
          "mesh3d": [
           {
            "colorbar": {
             "outlinewidth": 0,
             "ticks": ""
            },
            "type": "mesh3d"
           }
          ],
          "parcoords": [
           {
            "line": {
             "colorbar": {
              "outlinewidth": 0,
              "ticks": ""
             }
            },
            "type": "parcoords"
           }
          ],
          "pie": [
           {
            "automargin": true,
            "type": "pie"
           }
          ],
          "scatter": [
           {
            "fillpattern": {
             "fillmode": "overlay",
             "size": 10,
             "solidity": 0.2
            },
            "type": "scatter"
           }
          ],
          "scatter3d": [
           {
            "line": {
             "colorbar": {
              "outlinewidth": 0,
              "ticks": ""
             }
            },
            "marker": {
             "colorbar": {
              "outlinewidth": 0,
              "ticks": ""
             }
            },
            "type": "scatter3d"
           }
          ],
          "scattercarpet": [
           {
            "marker": {
             "colorbar": {
              "outlinewidth": 0,
              "ticks": ""
             }
            },
            "type": "scattercarpet"
           }
          ],
          "scattergeo": [
           {
            "marker": {
             "colorbar": {
              "outlinewidth": 0,
              "ticks": ""
             }
            },
            "type": "scattergeo"
           }
          ],
          "scattergl": [
           {
            "marker": {
             "colorbar": {
              "outlinewidth": 0,
              "ticks": ""
             }
            },
            "type": "scattergl"
           }
          ],
          "scattermapbox": [
           {
            "marker": {
             "colorbar": {
              "outlinewidth": 0,
              "ticks": ""
             }
            },
            "type": "scattermapbox"
           }
          ],
          "scatterpolar": [
           {
            "marker": {
             "colorbar": {
              "outlinewidth": 0,
              "ticks": ""
             }
            },
            "type": "scatterpolar"
           }
          ],
          "scatterpolargl": [
           {
            "marker": {
             "colorbar": {
              "outlinewidth": 0,
              "ticks": ""
             }
            },
            "type": "scatterpolargl"
           }
          ],
          "scatterternary": [
           {
            "marker": {
             "colorbar": {
              "outlinewidth": 0,
              "ticks": ""
             }
            },
            "type": "scatterternary"
           }
          ],
          "surface": [
           {
            "colorbar": {
             "outlinewidth": 0,
             "ticks": ""
            },
            "colorscale": [
             [
              0,
              "#0d0887"
             ],
             [
              0.1111111111111111,
              "#46039f"
             ],
             [
              0.2222222222222222,
              "#7201a8"
             ],
             [
              0.3333333333333333,
              "#9c179e"
             ],
             [
              0.4444444444444444,
              "#bd3786"
             ],
             [
              0.5555555555555556,
              "#d8576b"
             ],
             [
              0.6666666666666666,
              "#ed7953"
             ],
             [
              0.7777777777777778,
              "#fb9f3a"
             ],
             [
              0.8888888888888888,
              "#fdca26"
             ],
             [
              1,
              "#f0f921"
             ]
            ],
            "type": "surface"
           }
          ],
          "table": [
           {
            "cells": {
             "fill": {
              "color": "#EBF0F8"
             },
             "line": {
              "color": "white"
             }
            },
            "header": {
             "fill": {
              "color": "#C8D4E3"
             },
             "line": {
              "color": "white"
             }
            },
            "type": "table"
           }
          ]
         },
         "layout": {
          "annotationdefaults": {
           "arrowcolor": "#2a3f5f",
           "arrowhead": 0,
           "arrowwidth": 1
          },
          "autotypenumbers": "strict",
          "coloraxis": {
           "colorbar": {
            "outlinewidth": 0,
            "ticks": ""
           }
          },
          "colorscale": {
           "diverging": [
            [
             0,
             "#8e0152"
            ],
            [
             0.1,
             "#c51b7d"
            ],
            [
             0.2,
             "#de77ae"
            ],
            [
             0.3,
             "#f1b6da"
            ],
            [
             0.4,
             "#fde0ef"
            ],
            [
             0.5,
             "#f7f7f7"
            ],
            [
             0.6,
             "#e6f5d0"
            ],
            [
             0.7,
             "#b8e186"
            ],
            [
             0.8,
             "#7fbc41"
            ],
            [
             0.9,
             "#4d9221"
            ],
            [
             1,
             "#276419"
            ]
           ],
           "sequential": [
            [
             0,
             "#0d0887"
            ],
            [
             0.1111111111111111,
             "#46039f"
            ],
            [
             0.2222222222222222,
             "#7201a8"
            ],
            [
             0.3333333333333333,
             "#9c179e"
            ],
            [
             0.4444444444444444,
             "#bd3786"
            ],
            [
             0.5555555555555556,
             "#d8576b"
            ],
            [
             0.6666666666666666,
             "#ed7953"
            ],
            [
             0.7777777777777778,
             "#fb9f3a"
            ],
            [
             0.8888888888888888,
             "#fdca26"
            ],
            [
             1,
             "#f0f921"
            ]
           ],
           "sequentialminus": [
            [
             0,
             "#0d0887"
            ],
            [
             0.1111111111111111,
             "#46039f"
            ],
            [
             0.2222222222222222,
             "#7201a8"
            ],
            [
             0.3333333333333333,
             "#9c179e"
            ],
            [
             0.4444444444444444,
             "#bd3786"
            ],
            [
             0.5555555555555556,
             "#d8576b"
            ],
            [
             0.6666666666666666,
             "#ed7953"
            ],
            [
             0.7777777777777778,
             "#fb9f3a"
            ],
            [
             0.8888888888888888,
             "#fdca26"
            ],
            [
             1,
             "#f0f921"
            ]
           ]
          },
          "colorway": [
           "#636efa",
           "#EF553B",
           "#00cc96",
           "#ab63fa",
           "#FFA15A",
           "#19d3f3",
           "#FF6692",
           "#B6E880",
           "#FF97FF",
           "#FECB52"
          ],
          "font": {
           "color": "#2a3f5f"
          },
          "geo": {
           "bgcolor": "white",
           "lakecolor": "white",
           "landcolor": "#E5ECF6",
           "showlakes": true,
           "showland": true,
           "subunitcolor": "white"
          },
          "hoverlabel": {
           "align": "left"
          },
          "hovermode": "closest",
          "mapbox": {
           "style": "light"
          },
          "paper_bgcolor": "white",
          "plot_bgcolor": "#E5ECF6",
          "polar": {
           "angularaxis": {
            "gridcolor": "white",
            "linecolor": "white",
            "ticks": ""
           },
           "bgcolor": "#E5ECF6",
           "radialaxis": {
            "gridcolor": "white",
            "linecolor": "white",
            "ticks": ""
           }
          },
          "scene": {
           "xaxis": {
            "backgroundcolor": "#E5ECF6",
            "gridcolor": "white",
            "gridwidth": 2,
            "linecolor": "white",
            "showbackground": true,
            "ticks": "",
            "zerolinecolor": "white"
           },
           "yaxis": {
            "backgroundcolor": "#E5ECF6",
            "gridcolor": "white",
            "gridwidth": 2,
            "linecolor": "white",
            "showbackground": true,
            "ticks": "",
            "zerolinecolor": "white"
           },
           "zaxis": {
            "backgroundcolor": "#E5ECF6",
            "gridcolor": "white",
            "gridwidth": 2,
            "linecolor": "white",
            "showbackground": true,
            "ticks": "",
            "zerolinecolor": "white"
           }
          },
          "shapedefaults": {
           "line": {
            "color": "#2a3f5f"
           }
          },
          "ternary": {
           "aaxis": {
            "gridcolor": "white",
            "linecolor": "white",
            "ticks": ""
           },
           "baxis": {
            "gridcolor": "white",
            "linecolor": "white",
            "ticks": ""
           },
           "bgcolor": "#E5ECF6",
           "caxis": {
            "gridcolor": "white",
            "linecolor": "white",
            "ticks": ""
           }
          },
          "title": {
           "x": 0.05
          },
          "xaxis": {
           "automargin": true,
           "gridcolor": "white",
           "linecolor": "white",
           "ticks": "",
           "title": {
            "standoff": 15
           },
           "zerolinecolor": "white",
           "zerolinewidth": 2
          },
          "yaxis": {
           "automargin": true,
           "gridcolor": "white",
           "linecolor": "white",
           "ticks": "",
           "title": {
            "standoff": 15
           },
           "zerolinecolor": "white",
           "zerolinewidth": 2
          }
         }
        },
        "title": {
         "text": "Factor Values"
        }
       }
      },
      "text/html": [
       "<div>                            <div id=\"f35a587b-08d3-4677-946b-536049535664\" class=\"plotly-graph-div\" style=\"height:525px; width:100%;\"></div>            <script type=\"text/javascript\">                require([\"plotly\"], function(Plotly) {                    window.PLOTLYENV=window.PLOTLYENV || {};                                    if (document.getElementById(\"f35a587b-08d3-4677-946b-536049535664\")) {                    Plotly.newPlot(                        \"f35a587b-08d3-4677-946b-536049535664\",                        [{\"line\":{\"color\":\"blue\"},\"x\":[\"2021-10-08\",\"2021-10-11\",\"2021-10-12\",\"2021-10-13\",\"2021-10-14\",\"2021-10-15\",\"2021-10-18\",\"2021-10-19\",\"2021-10-20\",\"2021-10-21\",\"2021-10-22\",\"2021-10-25\",\"2021-10-26\",\"2021-10-27\",\"2021-10-28\",\"2021-10-29\",\"2021-11-01\",\"2021-11-02\",\"2021-11-03\",\"2021-11-04\",\"2021-11-05\",\"2021-11-08\",\"2021-11-09\",\"2021-11-10\",\"2021-11-11\",\"2021-11-12\",\"2021-11-15\",\"2021-11-16\",\"2021-11-17\",\"2021-11-18\",\"2021-11-19\",\"2021-11-22\",\"2021-11-23\",\"2021-11-24\",\"2021-11-25\",\"2021-11-26\",\"2021-11-29\",\"2021-11-30\",\"2021-12-01\",\"2021-12-02\",\"2021-12-03\",\"2021-12-06\",\"2021-12-07\",\"2021-12-08\",\"2021-12-09\",\"2021-12-10\",\"2021-12-13\",\"2021-12-14\",\"2021-12-15\",\"2021-12-16\",\"2021-12-17\",\"2021-12-20\",\"2021-12-21\",\"2021-12-22\",\"2021-12-23\",\"2021-12-24\",\"2021-12-27\",\"2021-12-28\",\"2021-12-29\",\"2021-12-30\",\"2021-12-31\",\"2022-01-04\",\"2022-01-05\",\"2022-01-06\",\"2022-01-07\",\"2022-01-10\",\"2022-01-11\",\"2022-01-12\",\"2022-01-13\",\"2022-01-14\",\"2022-01-17\",\"2022-01-18\",\"2022-01-19\",\"2022-01-20\",\"2022-01-21\",\"2022-01-24\",\"2022-01-25\",\"2022-01-26\",\"2022-01-27\",\"2022-01-28\",\"2022-02-07\",\"2022-02-08\",\"2022-02-09\",\"2022-02-10\",\"2022-02-11\",\"2022-02-14\",\"2022-02-15\",\"2022-02-16\",\"2022-02-17\",\"2022-02-18\",\"2022-02-21\",\"2022-02-22\",\"2022-02-23\",\"2022-02-24\",\"2022-02-25\",\"2022-02-28\",\"2022-03-01\",\"2022-03-02\",\"2022-03-03\",\"2022-03-04\",\"2022-03-07\",\"2022-03-08\",\"2022-03-09\",\"2022-03-10\",\"2022-03-11\",\"2022-03-14\",\"2022-03-15\",\"2022-03-16\",\"2022-03-17\",\"2022-03-18\",\"2022-03-21\",\"2022-03-22\",\"2022-03-23\",\"2022-03-24\",\"2022-03-25\",\"2022-03-28\",\"2022-03-29\",\"2022-03-30\",\"2022-03-31\",\"2022-04-01\",\"2022-04-06\",\"2022-04-07\",\"2022-04-08\",\"2022-04-11\",\"2022-04-12\",\"2022-04-13\",\"2022-04-14\",\"2022-04-15\",\"2022-04-18\",\"2022-04-19\",\"2022-04-20\",\"2022-04-21\",\"2022-04-22\",\"2022-04-25\",\"2022-04-26\",\"2022-04-27\",\"2022-04-28\",\"2022-04-29\",\"2022-05-05\",\"2022-05-06\",\"2022-05-09\",\"2022-05-10\",\"2022-05-11\",\"2022-05-12\",\"2022-05-13\",\"2022-05-16\",\"2022-05-17\",\"2022-05-18\",\"2022-05-19\",\"2022-05-20\",\"2022-05-23\",\"2022-05-24\",\"2022-05-25\",\"2022-05-26\",\"2022-05-27\",\"2022-05-30\",\"2022-05-31\",\"2022-06-01\",\"2022-06-02\",\"2022-06-06\",\"2022-06-07\",\"2022-06-08\",\"2022-06-09\",\"2022-06-10\",\"2022-06-13\",\"2022-06-14\",\"2022-06-15\",\"2022-06-16\",\"2022-06-17\",\"2022-06-20\",\"2022-06-21\",\"2022-06-22\",\"2022-06-23\",\"2022-06-24\",\"2022-06-27\",\"2022-06-28\",\"2022-06-29\",\"2022-06-30\",\"2022-07-01\",\"2022-07-04\",\"2022-07-05\",\"2022-07-06\",\"2022-07-07\",\"2022-07-08\",\"2022-07-11\",\"2022-07-12\",\"2022-07-13\",\"2022-07-14\",\"2022-07-15\",\"2022-07-18\",\"2022-07-19\",\"2022-07-20\",\"2022-07-21\",\"2022-07-22\",\"2022-07-25\",\"2022-07-26\",\"2022-07-27\",\"2022-07-28\",\"2022-07-29\",\"2022-08-01\",\"2022-08-02\",\"2022-08-03\",\"2022-08-04\",\"2022-08-05\",\"2022-08-08\",\"2022-08-09\",\"2022-08-10\",\"2022-08-11\",\"2022-08-12\",\"2022-08-15\",\"2022-08-16\",\"2022-08-17\",\"2022-08-18\",\"2022-08-19\",\"2022-08-22\",\"2022-08-23\",\"2022-08-24\",\"2022-08-25\",\"2022-08-26\",\"2022-08-29\",\"2022-08-30\",\"2022-08-31\",\"2022-09-01\",\"2022-09-02\",\"2022-09-05\",\"2022-09-06\",\"2022-09-07\",\"2022-09-08\",\"2022-09-09\",\"2022-09-13\",\"2022-09-14\",\"2022-09-15\",\"2022-09-16\",\"2022-09-19\",\"2022-09-20\",\"2022-09-21\",\"2022-09-22\",\"2022-09-23\",\"2022-09-26\",\"2022-09-27\",\"2022-09-28\",\"2022-09-29\",\"2022-09-30\"],\"y\":[-9.5,1.5,1.0,-15.0,-53.5,-8.5,-23.0,18.5,-5.0,-2.0,2.0,29.5,7.5,-26.5,-17.0,17.0,18.0,-38.0,0.0,-39.0,15.0,16.5,-21.0,-62.5,29.0,-2.5,-2.0,-9.0,-15.0,12.5,-24.5,6.5,-52.5,-33.5,10.5,-19.0,30.0,-20.0,14.0,19.0,-51.5,22.0,-6.0,5.0,15.5,-17.5,34.0,22.5,13.0,-3.0,-22.5,10.0,11.0,5.0,-51.0,-9.5,-140.0,-21.0,-4.0,13.0,5.0,-69.0,43.0,-5.0,-38.5,-57.0,7.0,-24.5,36.5,-26.0,8.0,29.0,-65.5,0.0,2.0,6.5,-7.5,-17.0,-11.0,-45.0,4.5,65.0,-22.0,-2.5,-4.5,-57.5,12.0,7.5,50.0,-3.5,-21.5,-14.0,-25.0,-18.5,-90.0,-8.0,-48.0,-78.0,-9.5,46.0,-19.0,66.5,-34.0,22.5,22.0,5.5,-34.0,-50.0,13.0,-20.0,61.0,-13.0,-27.0,41.0,-9.5,-0.5,-5.0,-49.0,31.5,42.5,17.0,-9.0,-29.0,-23.0,-65.0,27.5,-18.5,-15.0,-83.0,0.0,31.0,21.5,23.0,-20.0,-33.0,26.5,-5.5,-4.0,2.0,8.5,-5.0,-31.0,36.5,-16.0,25.0,-7.0,-19.0,-20.5,-1.0,-7.0,-43.5,-57.0,-68.0,-43.0,27.0,41.0,46.0,-10.0,-65.0,-37.5,7.5,-29.0,23.5,-18.5,-15.0,-25.5,22.0,-33.5,-36.5,10.5,14.0,48.0,-12.0,-14.0,3.5,-14.0,-4.5,23.0,-7.5,-2.5,1.5,-72.5,11.0,-15.0,-11.5,39.5,8.0,16.5,16.5,7.5,16.0,-7.0,55.5,-40.0,9.0,37.5,-1.0,4.0,-44.0,-95.5,-48.0,-42.0,-27.5,-48.0,0.0,-14.5,-1.5,-22.5,-5.5,28.0,-9.0,32.5,-66.0,33.0,-10.0,-66.0,21.0,-13.5,-14.0,-15.0,-63.0,54.5,18.0,-2.5,-17.5,-16.5,-13.5,13.0,23.5,35.5,1.5,14.0,-57.5,-14.5,-74.0,-91.0,-80.0,5.0,14.0,-92.5,4.5,-68.5,-43.0],\"type\":\"scattergl\"}],                        {\"template\":{\"data\":{\"barpolar\":[{\"marker\":{\"line\":{\"color\":\"#E5ECF6\",\"width\":0.5},\"pattern\":{\"fillmode\":\"overlay\",\"size\":10,\"solidity\":0.2}},\"type\":\"barpolar\"}],\"bar\":[{\"error_x\":{\"color\":\"#2a3f5f\"},\"error_y\":{\"color\":\"#2a3f5f\"},\"marker\":{\"line\":{\"color\":\"#E5ECF6\",\"width\":0.5},\"pattern\":{\"fillmode\":\"overlay\",\"size\":10,\"solidity\":0.2}},\"type\":\"bar\"}],\"carpet\":[{\"aaxis\":{\"endlinecolor\":\"#2a3f5f\",\"gridcolor\":\"white\",\"linecolor\":\"white\",\"minorgridcolor\":\"white\",\"startlinecolor\":\"#2a3f5f\"},\"baxis\":{\"endlinecolor\":\"#2a3f5f\",\"gridcolor\":\"white\",\"linecolor\":\"white\",\"minorgridcolor\":\"white\",\"startlinecolor\":\"#2a3f5f\"},\"type\":\"carpet\"}],\"choropleth\":[{\"colorbar\":{\"outlinewidth\":0,\"ticks\":\"\"},\"type\":\"choropleth\"}],\"contourcarpet\":[{\"colorbar\":{\"outlinewidth\":0,\"ticks\":\"\"},\"type\":\"contourcarpet\"}],\"contour\":[{\"colorbar\":{\"outlinewidth\":0,\"ticks\":\"\"},\"colorscale\":[[0.0,\"#0d0887\"],[0.1111111111111111,\"#46039f\"],[0.2222222222222222,\"#7201a8\"],[0.3333333333333333,\"#9c179e\"],[0.4444444444444444,\"#bd3786\"],[0.5555555555555556,\"#d8576b\"],[0.6666666666666666,\"#ed7953\"],[0.7777777777777778,\"#fb9f3a\"],[0.8888888888888888,\"#fdca26\"],[1.0,\"#f0f921\"]],\"type\":\"contour\"}],\"heatmapgl\":[{\"colorbar\":{\"outlinewidth\":0,\"ticks\":\"\"},\"colorscale\":[[0.0,\"#0d0887\"],[0.1111111111111111,\"#46039f\"],[0.2222222222222222,\"#7201a8\"],[0.3333333333333333,\"#9c179e\"],[0.4444444444444444,\"#bd3786\"],[0.5555555555555556,\"#d8576b\"],[0.6666666666666666,\"#ed7953\"],[0.7777777777777778,\"#fb9f3a\"],[0.8888888888888888,\"#fdca26\"],[1.0,\"#f0f921\"]],\"type\":\"heatmapgl\"}],\"heatmap\":[{\"colorbar\":{\"outlinewidth\":0,\"ticks\":\"\"},\"colorscale\":[[0.0,\"#0d0887\"],[0.1111111111111111,\"#46039f\"],[0.2222222222222222,\"#7201a8\"],[0.3333333333333333,\"#9c179e\"],[0.4444444444444444,\"#bd3786\"],[0.5555555555555556,\"#d8576b\"],[0.6666666666666666,\"#ed7953\"],[0.7777777777777778,\"#fb9f3a\"],[0.8888888888888888,\"#fdca26\"],[1.0,\"#f0f921\"]],\"type\":\"heatmap\"}],\"histogram2dcontour\":[{\"colorbar\":{\"outlinewidth\":0,\"ticks\":\"\"},\"colorscale\":[[0.0,\"#0d0887\"],[0.1111111111111111,\"#46039f\"],[0.2222222222222222,\"#7201a8\"],[0.3333333333333333,\"#9c179e\"],[0.4444444444444444,\"#bd3786\"],[0.5555555555555556,\"#d8576b\"],[0.6666666666666666,\"#ed7953\"],[0.7777777777777778,\"#fb9f3a\"],[0.8888888888888888,\"#fdca26\"],[1.0,\"#f0f921\"]],\"type\":\"histogram2dcontour\"}],\"histogram2d\":[{\"colorbar\":{\"outlinewidth\":0,\"ticks\":\"\"},\"colorscale\":[[0.0,\"#0d0887\"],[0.1111111111111111,\"#46039f\"],[0.2222222222222222,\"#7201a8\"],[0.3333333333333333,\"#9c179e\"],[0.4444444444444444,\"#bd3786\"],[0.5555555555555556,\"#d8576b\"],[0.6666666666666666,\"#ed7953\"],[0.7777777777777778,\"#fb9f3a\"],[0.8888888888888888,\"#fdca26\"],[1.0,\"#f0f921\"]],\"type\":\"histogram2d\"}],\"histogram\":[{\"marker\":{\"pattern\":{\"fillmode\":\"overlay\",\"size\":10,\"solidity\":0.2}},\"type\":\"histogram\"}],\"mesh3d\":[{\"colorbar\":{\"outlinewidth\":0,\"ticks\":\"\"},\"type\":\"mesh3d\"}],\"parcoords\":[{\"line\":{\"colorbar\":{\"outlinewidth\":0,\"ticks\":\"\"}},\"type\":\"parcoords\"}],\"pie\":[{\"automargin\":true,\"type\":\"pie\"}],\"scatter3d\":[{\"line\":{\"colorbar\":{\"outlinewidth\":0,\"ticks\":\"\"}},\"marker\":{\"colorbar\":{\"outlinewidth\":0,\"ticks\":\"\"}},\"type\":\"scatter3d\"}],\"scattercarpet\":[{\"marker\":{\"colorbar\":{\"outlinewidth\":0,\"ticks\":\"\"}},\"type\":\"scattercarpet\"}],\"scattergeo\":[{\"marker\":{\"colorbar\":{\"outlinewidth\":0,\"ticks\":\"\"}},\"type\":\"scattergeo\"}],\"scattergl\":[{\"marker\":{\"colorbar\":{\"outlinewidth\":0,\"ticks\":\"\"}},\"type\":\"scattergl\"}],\"scattermapbox\":[{\"marker\":{\"colorbar\":{\"outlinewidth\":0,\"ticks\":\"\"}},\"type\":\"scattermapbox\"}],\"scatterpolargl\":[{\"marker\":{\"colorbar\":{\"outlinewidth\":0,\"ticks\":\"\"}},\"type\":\"scatterpolargl\"}],\"scatterpolar\":[{\"marker\":{\"colorbar\":{\"outlinewidth\":0,\"ticks\":\"\"}},\"type\":\"scatterpolar\"}],\"scatter\":[{\"fillpattern\":{\"fillmode\":\"overlay\",\"size\":10,\"solidity\":0.2},\"type\":\"scatter\"}],\"scatterternary\":[{\"marker\":{\"colorbar\":{\"outlinewidth\":0,\"ticks\":\"\"}},\"type\":\"scatterternary\"}],\"surface\":[{\"colorbar\":{\"outlinewidth\":0,\"ticks\":\"\"},\"colorscale\":[[0.0,\"#0d0887\"],[0.1111111111111111,\"#46039f\"],[0.2222222222222222,\"#7201a8\"],[0.3333333333333333,\"#9c179e\"],[0.4444444444444444,\"#bd3786\"],[0.5555555555555556,\"#d8576b\"],[0.6666666666666666,\"#ed7953\"],[0.7777777777777778,\"#fb9f3a\"],[0.8888888888888888,\"#fdca26\"],[1.0,\"#f0f921\"]],\"type\":\"surface\"}],\"table\":[{\"cells\":{\"fill\":{\"color\":\"#EBF0F8\"},\"line\":{\"color\":\"white\"}},\"header\":{\"fill\":{\"color\":\"#C8D4E3\"},\"line\":{\"color\":\"white\"}},\"type\":\"table\"}]},\"layout\":{\"annotationdefaults\":{\"arrowcolor\":\"#2a3f5f\",\"arrowhead\":0,\"arrowwidth\":1},\"autotypenumbers\":\"strict\",\"coloraxis\":{\"colorbar\":{\"outlinewidth\":0,\"ticks\":\"\"}},\"colorscale\":{\"diverging\":[[0,\"#8e0152\"],[0.1,\"#c51b7d\"],[0.2,\"#de77ae\"],[0.3,\"#f1b6da\"],[0.4,\"#fde0ef\"],[0.5,\"#f7f7f7\"],[0.6,\"#e6f5d0\"],[0.7,\"#b8e186\"],[0.8,\"#7fbc41\"],[0.9,\"#4d9221\"],[1,\"#276419\"]],\"sequential\":[[0.0,\"#0d0887\"],[0.1111111111111111,\"#46039f\"],[0.2222222222222222,\"#7201a8\"],[0.3333333333333333,\"#9c179e\"],[0.4444444444444444,\"#bd3786\"],[0.5555555555555556,\"#d8576b\"],[0.6666666666666666,\"#ed7953\"],[0.7777777777777778,\"#fb9f3a\"],[0.8888888888888888,\"#fdca26\"],[1.0,\"#f0f921\"]],\"sequentialminus\":[[0.0,\"#0d0887\"],[0.1111111111111111,\"#46039f\"],[0.2222222222222222,\"#7201a8\"],[0.3333333333333333,\"#9c179e\"],[0.4444444444444444,\"#bd3786\"],[0.5555555555555556,\"#d8576b\"],[0.6666666666666666,\"#ed7953\"],[0.7777777777777778,\"#fb9f3a\"],[0.8888888888888888,\"#fdca26\"],[1.0,\"#f0f921\"]]},\"colorway\":[\"#636efa\",\"#EF553B\",\"#00cc96\",\"#ab63fa\",\"#FFA15A\",\"#19d3f3\",\"#FF6692\",\"#B6E880\",\"#FF97FF\",\"#FECB52\"],\"font\":{\"color\":\"#2a3f5f\"},\"geo\":{\"bgcolor\":\"white\",\"lakecolor\":\"white\",\"landcolor\":\"#E5ECF6\",\"showlakes\":true,\"showland\":true,\"subunitcolor\":\"white\"},\"hoverlabel\":{\"align\":\"left\"},\"hovermode\":\"closest\",\"mapbox\":{\"style\":\"light\"},\"paper_bgcolor\":\"white\",\"plot_bgcolor\":\"#E5ECF6\",\"polar\":{\"angularaxis\":{\"gridcolor\":\"white\",\"linecolor\":\"white\",\"ticks\":\"\"},\"bgcolor\":\"#E5ECF6\",\"radialaxis\":{\"gridcolor\":\"white\",\"linecolor\":\"white\",\"ticks\":\"\"}},\"scene\":{\"xaxis\":{\"backgroundcolor\":\"#E5ECF6\",\"gridcolor\":\"white\",\"gridwidth\":2,\"linecolor\":\"white\",\"showbackground\":true,\"ticks\":\"\",\"zerolinecolor\":\"white\"},\"yaxis\":{\"backgroundcolor\":\"#E5ECF6\",\"gridcolor\":\"white\",\"gridwidth\":2,\"linecolor\":\"white\",\"showbackground\":true,\"ticks\":\"\",\"zerolinecolor\":\"white\"},\"zaxis\":{\"backgroundcolor\":\"#E5ECF6\",\"gridcolor\":\"white\",\"gridwidth\":2,\"linecolor\":\"white\",\"showbackground\":true,\"ticks\":\"\",\"zerolinecolor\":\"white\"}},\"shapedefaults\":{\"line\":{\"color\":\"#2a3f5f\"}},\"ternary\":{\"aaxis\":{\"gridcolor\":\"white\",\"linecolor\":\"white\",\"ticks\":\"\"},\"baxis\":{\"gridcolor\":\"white\",\"linecolor\":\"white\",\"ticks\":\"\"},\"bgcolor\":\"#E5ECF6\",\"caxis\":{\"gridcolor\":\"white\",\"linecolor\":\"white\",\"ticks\":\"\"}},\"title\":{\"x\":0.05},\"xaxis\":{\"automargin\":true,\"gridcolor\":\"white\",\"linecolor\":\"white\",\"ticks\":\"\",\"title\":{\"standoff\":15},\"zerolinecolor\":\"white\",\"zerolinewidth\":2},\"yaxis\":{\"automargin\":true,\"gridcolor\":\"white\",\"linecolor\":\"white\",\"ticks\":\"\",\"title\":{\"standoff\":15},\"zerolinecolor\":\"white\",\"zerolinewidth\":2}}},\"title\":{\"text\":\"Factor Values\"}},                        {\"responsive\": true}                    ).then(function(){\n",
       "                            \n",
       "var gd = document.getElementById('f35a587b-08d3-4677-946b-536049535664');\n",
       "var x = new MutationObserver(function (mutations, observer) {{\n",
       "        var display = window.getComputedStyle(gd).display;\n",
       "        if (!display || display === 'none') {{\n",
       "            console.log([gd, 'removed!']);\n",
       "            Plotly.purge(gd);\n",
       "            observer.disconnect();\n",
       "        }}\n",
       "}});\n",
       "\n",
       "// Listen for the removal of the full notebook cells\n",
       "var notebookContainer = gd.closest('#notebook-container');\n",
       "if (notebookContainer) {{\n",
       "    x.observe(notebookContainer, {childList: true});\n",
       "}}\n",
       "\n",
       "// Listen for the clearing of the current output cell\n",
       "var outputEl = gd.closest('.output');\n",
       "if (outputEl) {{\n",
       "    x.observe(outputEl, {childList: true});\n",
       "}}\n",
       "\n",
       "                        })                };                });            </script>        </div>"
      ]
     },
     "metadata": {},
     "output_type": "display_data"
    }
   ],
   "source": [
    "draw_line(Intraday, description=\"Factor Values\")"
   ]
  },
  {
   "cell_type": "code",
   "execution_count": 10,
   "id": "9c2cd453",
   "metadata": {},
   "outputs": [
    {
     "ename": "KeyError",
     "evalue": "'2022-09-29'",
     "output_type": "error",
     "traceback": [
      "\u001b[1;31m---------------------------------------------------------------------------\u001b[0m",
      "\u001b[1;31mKeyError\u001b[0m                                  Traceback (most recent call last)",
      "File \u001b[1;32m~\\anaconda3\\lib\\site-packages\\pandas\\core\\indexes\\base.py:3629\u001b[0m, in \u001b[0;36mIndex.get_loc\u001b[1;34m(self, key, method, tolerance)\u001b[0m\n\u001b[0;32m   3628\u001b[0m \u001b[38;5;28;01mtry\u001b[39;00m:\n\u001b[1;32m-> 3629\u001b[0m     \u001b[38;5;28;01mreturn\u001b[39;00m \u001b[38;5;28;43mself\u001b[39;49m\u001b[38;5;241;43m.\u001b[39;49m\u001b[43m_engine\u001b[49m\u001b[38;5;241;43m.\u001b[39;49m\u001b[43mget_loc\u001b[49m\u001b[43m(\u001b[49m\u001b[43mcasted_key\u001b[49m\u001b[43m)\u001b[49m\n\u001b[0;32m   3630\u001b[0m \u001b[38;5;28;01mexcept\u001b[39;00m \u001b[38;5;167;01mKeyError\u001b[39;00m \u001b[38;5;28;01mas\u001b[39;00m err:\n",
      "File \u001b[1;32m~\\anaconda3\\lib\\site-packages\\pandas\\_libs\\index.pyx:136\u001b[0m, in \u001b[0;36mpandas._libs.index.IndexEngine.get_loc\u001b[1;34m()\u001b[0m\n",
      "File \u001b[1;32m~\\anaconda3\\lib\\site-packages\\pandas\\_libs\\index.pyx:163\u001b[0m, in \u001b[0;36mpandas._libs.index.IndexEngine.get_loc\u001b[1;34m()\u001b[0m\n",
      "File \u001b[1;32mpandas\\_libs\\hashtable_class_helper.pxi:5198\u001b[0m, in \u001b[0;36mpandas._libs.hashtable.PyObjectHashTable.get_item\u001b[1;34m()\u001b[0m\n",
      "File \u001b[1;32mpandas\\_libs\\hashtable_class_helper.pxi:5206\u001b[0m, in \u001b[0;36mpandas._libs.hashtable.PyObjectHashTable.get_item\u001b[1;34m()\u001b[0m\n",
      "\u001b[1;31mKeyError\u001b[0m: '2022-09-29'",
      "\nThe above exception was the direct cause of the following exception:\n",
      "\u001b[1;31mKeyError\u001b[0m                                  Traceback (most recent call last)",
      "Input \u001b[1;32mIn [10]\u001b[0m, in \u001b[0;36m<cell line: 1>\u001b[1;34m()\u001b[0m\n\u001b[1;32m----> 1\u001b[0m draw_line(\u001b[43mfg\u001b[49m\u001b[38;5;241;43m.\u001b[39;49m\u001b[43mIC\u001b[49m\u001b[43m(\u001b[49m\u001b[43mIntraday\u001b[49m\u001b[43m,\u001b[49m\u001b[43m \u001b[49m\u001b[43mcumulative\u001b[49m\u001b[38;5;241;43m=\u001b[39;49m\u001b[38;5;28;43;01mTrue\u001b[39;49;00m\u001b[43m)\u001b[49m)\n",
      "File \u001b[1;32m~\\Desktop\\quant\\Factor Analysis\\main.py:68\u001b[0m, in \u001b[0;36mFactorGenerator.IC\u001b[1;34m(self, factor, cumulative)\u001b[0m\n\u001b[0;32m     60\u001b[0m \u001b[38;5;28;01mdef\u001b[39;00m \u001b[38;5;21mIC\u001b[39m(\u001b[38;5;28mself\u001b[39m, factor, cumulative\u001b[38;5;241m=\u001b[39m\u001b[38;5;28;01mFalse\u001b[39;00m):\n\u001b[0;32m     61\u001b[0m     \u001b[38;5;124;03m\"\"\"\u001b[39;00m\n\u001b[0;32m     62\u001b[0m \u001b[38;5;124;03m    DataFrame IC\u001b[39;00m\n\u001b[0;32m     63\u001b[0m \u001b[38;5;124;03m    :param factor: Input factor data.\u001b[39;00m\n\u001b[0;32m     64\u001b[0m \u001b[38;5;124;03m    :param cumulative: Bool, return cumulative IC values or not.\u001b[39;00m\n\u001b[0;32m     65\u001b[0m \u001b[38;5;124;03m    :return: cross-sectional IC values, or cumulative cross-sectional IC values.\u001b[39;00m\n\u001b[0;32m     66\u001b[0m \u001b[38;5;124;03m    \"\"\"\u001b[39;00m\n\u001b[1;32m---> 68\u001b[0m     result \u001b[38;5;241m=\u001b[39m \u001b[43mfactor\u001b[49m\u001b[38;5;241;43m.\u001b[39;49m\u001b[43mshift\u001b[49m\u001b[43m(\u001b[49m\u001b[38;5;241;43m1\u001b[39;49m\u001b[43m)\u001b[49m\u001b[38;5;241;43m.\u001b[39;49m\u001b[43miloc\u001b[49m\u001b[43m[\u001b[49m\u001b[38;5;241;43m1\u001b[39;49m\u001b[43m:\u001b[49m\u001b[43m]\u001b[49m\u001b[38;5;241;43m.\u001b[39;49m\u001b[43mapply\u001b[49m\u001b[43m(\u001b[49m\u001b[38;5;28;43;01mlambda\u001b[39;49;00m\u001b[43m \u001b[49m\u001b[43mrow\u001b[49m\u001b[43m:\u001b[49m\u001b[43m \u001b[49m\u001b[43mrow\u001b[49m\u001b[38;5;241;43m.\u001b[39;49m\u001b[43mcorr\u001b[49m\u001b[43m(\u001b[49m\u001b[38;5;28;43mself\u001b[39;49m\u001b[38;5;241;43m.\u001b[39;49m\u001b[43mrate\u001b[49m\u001b[38;5;241;43m.\u001b[39;49m\u001b[43mloc\u001b[49m\u001b[43m[\u001b[49m\u001b[43mrow\u001b[49m\u001b[38;5;241;43m.\u001b[39;49m\u001b[43mname\u001b[49m\u001b[43m]\u001b[49m\u001b[43m)\u001b[49m\u001b[43m,\u001b[49m\u001b[43m \u001b[49m\u001b[43maxis\u001b[49m\u001b[38;5;241;43m=\u001b[39;49m\u001b[38;5;241;43m1\u001b[39;49m\u001b[43m)\u001b[49m\n\u001b[0;32m     70\u001b[0m     \u001b[38;5;28;01mreturn\u001b[39;00m pd\u001b[38;5;241m.\u001b[39mDataFrame(result\u001b[38;5;241m.\u001b[39mcumsum(), columns\u001b[38;5;241m=\u001b[39m[\u001b[38;5;124m\"\u001b[39m\u001b[38;5;124mIC\u001b[39m\u001b[38;5;124m\"\u001b[39m])\u001b[38;5;241m.\u001b[39mrename(columns\u001b[38;5;241m=\u001b[39m{\u001b[38;5;124m\"\u001b[39m\u001b[38;5;124mIC\u001b[39m\u001b[38;5;124m\"\u001b[39m: \u001b[38;5;124m\"\u001b[39m\u001b[38;5;124mCumulative IC\u001b[39m\u001b[38;5;124m\"\u001b[39m}) \u001b[38;5;28;01mif\u001b[39;00m cumulative \\\n\u001b[0;32m     71\u001b[0m         \u001b[38;5;28;01melse\u001b[39;00m pd\u001b[38;5;241m.\u001b[39mDataFrame(result, columns\u001b[38;5;241m=\u001b[39m[\u001b[38;5;124m\"\u001b[39m\u001b[38;5;124mIC\u001b[39m\u001b[38;5;124m\"\u001b[39m])\n",
      "File \u001b[1;32m~\\anaconda3\\lib\\site-packages\\pandas\\core\\frame.py:8848\u001b[0m, in \u001b[0;36mDataFrame.apply\u001b[1;34m(self, func, axis, raw, result_type, args, **kwargs)\u001b[0m\n\u001b[0;32m   8837\u001b[0m \u001b[38;5;28;01mfrom\u001b[39;00m \u001b[38;5;21;01mpandas\u001b[39;00m\u001b[38;5;21;01m.\u001b[39;00m\u001b[38;5;21;01mcore\u001b[39;00m\u001b[38;5;21;01m.\u001b[39;00m\u001b[38;5;21;01mapply\u001b[39;00m \u001b[38;5;28;01mimport\u001b[39;00m frame_apply\n\u001b[0;32m   8839\u001b[0m op \u001b[38;5;241m=\u001b[39m frame_apply(\n\u001b[0;32m   8840\u001b[0m     \u001b[38;5;28mself\u001b[39m,\n\u001b[0;32m   8841\u001b[0m     func\u001b[38;5;241m=\u001b[39mfunc,\n\u001b[1;32m   (...)\u001b[0m\n\u001b[0;32m   8846\u001b[0m     kwargs\u001b[38;5;241m=\u001b[39mkwargs,\n\u001b[0;32m   8847\u001b[0m )\n\u001b[1;32m-> 8848\u001b[0m \u001b[38;5;28;01mreturn\u001b[39;00m \u001b[43mop\u001b[49m\u001b[38;5;241;43m.\u001b[39;49m\u001b[43mapply\u001b[49m\u001b[43m(\u001b[49m\u001b[43m)\u001b[49m\u001b[38;5;241m.\u001b[39m__finalize__(\u001b[38;5;28mself\u001b[39m, method\u001b[38;5;241m=\u001b[39m\u001b[38;5;124m\"\u001b[39m\u001b[38;5;124mapply\u001b[39m\u001b[38;5;124m\"\u001b[39m)\n",
      "File \u001b[1;32m~\\anaconda3\\lib\\site-packages\\pandas\\core\\apply.py:733\u001b[0m, in \u001b[0;36mFrameApply.apply\u001b[1;34m(self)\u001b[0m\n\u001b[0;32m    730\u001b[0m \u001b[38;5;28;01melif\u001b[39;00m \u001b[38;5;28mself\u001b[39m\u001b[38;5;241m.\u001b[39mraw:\n\u001b[0;32m    731\u001b[0m     \u001b[38;5;28;01mreturn\u001b[39;00m \u001b[38;5;28mself\u001b[39m\u001b[38;5;241m.\u001b[39mapply_raw()\n\u001b[1;32m--> 733\u001b[0m \u001b[38;5;28;01mreturn\u001b[39;00m \u001b[38;5;28;43mself\u001b[39;49m\u001b[38;5;241;43m.\u001b[39;49m\u001b[43mapply_standard\u001b[49m\u001b[43m(\u001b[49m\u001b[43m)\u001b[49m\n",
      "File \u001b[1;32m~\\anaconda3\\lib\\site-packages\\pandas\\core\\apply.py:857\u001b[0m, in \u001b[0;36mFrameApply.apply_standard\u001b[1;34m(self)\u001b[0m\n\u001b[0;32m    856\u001b[0m \u001b[38;5;28;01mdef\u001b[39;00m \u001b[38;5;21mapply_standard\u001b[39m(\u001b[38;5;28mself\u001b[39m):\n\u001b[1;32m--> 857\u001b[0m     results, res_index \u001b[38;5;241m=\u001b[39m \u001b[38;5;28;43mself\u001b[39;49m\u001b[38;5;241;43m.\u001b[39;49m\u001b[43mapply_series_generator\u001b[49m\u001b[43m(\u001b[49m\u001b[43m)\u001b[49m\n\u001b[0;32m    859\u001b[0m     \u001b[38;5;66;03m# wrap results\u001b[39;00m\n\u001b[0;32m    860\u001b[0m     \u001b[38;5;28;01mreturn\u001b[39;00m \u001b[38;5;28mself\u001b[39m\u001b[38;5;241m.\u001b[39mwrap_results(results, res_index)\n",
      "File \u001b[1;32m~\\anaconda3\\lib\\site-packages\\pandas\\core\\apply.py:873\u001b[0m, in \u001b[0;36mFrameApply.apply_series_generator\u001b[1;34m(self)\u001b[0m\n\u001b[0;32m    870\u001b[0m \u001b[38;5;28;01mwith\u001b[39;00m option_context(\u001b[38;5;124m\"\u001b[39m\u001b[38;5;124mmode.chained_assignment\u001b[39m\u001b[38;5;124m\"\u001b[39m, \u001b[38;5;28;01mNone\u001b[39;00m):\n\u001b[0;32m    871\u001b[0m     \u001b[38;5;28;01mfor\u001b[39;00m i, v \u001b[38;5;129;01min\u001b[39;00m \u001b[38;5;28menumerate\u001b[39m(series_gen):\n\u001b[0;32m    872\u001b[0m         \u001b[38;5;66;03m# ignore SettingWithCopy here in case the user mutates\u001b[39;00m\n\u001b[1;32m--> 873\u001b[0m         results[i] \u001b[38;5;241m=\u001b[39m \u001b[38;5;28;43mself\u001b[39;49m\u001b[38;5;241;43m.\u001b[39;49m\u001b[43mf\u001b[49m\u001b[43m(\u001b[49m\u001b[43mv\u001b[49m\u001b[43m)\u001b[49m\n\u001b[0;32m    874\u001b[0m         \u001b[38;5;28;01mif\u001b[39;00m \u001b[38;5;28misinstance\u001b[39m(results[i], ABCSeries):\n\u001b[0;32m    875\u001b[0m             \u001b[38;5;66;03m# If we have a view on v, we need to make a copy because\u001b[39;00m\n\u001b[0;32m    876\u001b[0m             \u001b[38;5;66;03m#  series_generator will swap out the underlying data\u001b[39;00m\n\u001b[0;32m    877\u001b[0m             results[i] \u001b[38;5;241m=\u001b[39m results[i]\u001b[38;5;241m.\u001b[39mcopy(deep\u001b[38;5;241m=\u001b[39m\u001b[38;5;28;01mFalse\u001b[39;00m)\n",
      "File \u001b[1;32m~\\Desktop\\quant\\Factor Analysis\\main.py:68\u001b[0m, in \u001b[0;36mFactorGenerator.IC.<locals>.<lambda>\u001b[1;34m(row)\u001b[0m\n\u001b[0;32m     60\u001b[0m \u001b[38;5;28;01mdef\u001b[39;00m \u001b[38;5;21mIC\u001b[39m(\u001b[38;5;28mself\u001b[39m, factor, cumulative\u001b[38;5;241m=\u001b[39m\u001b[38;5;28;01mFalse\u001b[39;00m):\n\u001b[0;32m     61\u001b[0m     \u001b[38;5;124;03m\"\"\"\u001b[39;00m\n\u001b[0;32m     62\u001b[0m \u001b[38;5;124;03m    DataFrame IC\u001b[39;00m\n\u001b[0;32m     63\u001b[0m \u001b[38;5;124;03m    :param factor: Input factor data.\u001b[39;00m\n\u001b[0;32m     64\u001b[0m \u001b[38;5;124;03m    :param cumulative: Bool, return cumulative IC values or not.\u001b[39;00m\n\u001b[0;32m     65\u001b[0m \u001b[38;5;124;03m    :return: cross-sectional IC values, or cumulative cross-sectional IC values.\u001b[39;00m\n\u001b[0;32m     66\u001b[0m \u001b[38;5;124;03m    \"\"\"\u001b[39;00m\n\u001b[1;32m---> 68\u001b[0m     result \u001b[38;5;241m=\u001b[39m factor\u001b[38;5;241m.\u001b[39mshift(\u001b[38;5;241m1\u001b[39m)\u001b[38;5;241m.\u001b[39miloc[\u001b[38;5;241m1\u001b[39m:]\u001b[38;5;241m.\u001b[39mapply(\u001b[38;5;28;01mlambda\u001b[39;00m row: row\u001b[38;5;241m.\u001b[39mcorr(\u001b[38;5;28;43mself\u001b[39;49m\u001b[38;5;241;43m.\u001b[39;49m\u001b[43mrate\u001b[49m\u001b[38;5;241;43m.\u001b[39;49m\u001b[43mloc\u001b[49m\u001b[43m[\u001b[49m\u001b[43mrow\u001b[49m\u001b[38;5;241;43m.\u001b[39;49m\u001b[43mname\u001b[49m\u001b[43m]\u001b[49m), axis\u001b[38;5;241m=\u001b[39m\u001b[38;5;241m1\u001b[39m)\n\u001b[0;32m     70\u001b[0m     \u001b[38;5;28;01mreturn\u001b[39;00m pd\u001b[38;5;241m.\u001b[39mDataFrame(result\u001b[38;5;241m.\u001b[39mcumsum(), columns\u001b[38;5;241m=\u001b[39m[\u001b[38;5;124m\"\u001b[39m\u001b[38;5;124mIC\u001b[39m\u001b[38;5;124m\"\u001b[39m])\u001b[38;5;241m.\u001b[39mrename(columns\u001b[38;5;241m=\u001b[39m{\u001b[38;5;124m\"\u001b[39m\u001b[38;5;124mIC\u001b[39m\u001b[38;5;124m\"\u001b[39m: \u001b[38;5;124m\"\u001b[39m\u001b[38;5;124mCumulative IC\u001b[39m\u001b[38;5;124m\"\u001b[39m}) \u001b[38;5;28;01mif\u001b[39;00m cumulative \\\n\u001b[0;32m     71\u001b[0m         \u001b[38;5;28;01melse\u001b[39;00m pd\u001b[38;5;241m.\u001b[39mDataFrame(result, columns\u001b[38;5;241m=\u001b[39m[\u001b[38;5;124m\"\u001b[39m\u001b[38;5;124mIC\u001b[39m\u001b[38;5;124m\"\u001b[39m])\n",
      "File \u001b[1;32m~\\anaconda3\\lib\\site-packages\\pandas\\core\\indexing.py:967\u001b[0m, in \u001b[0;36m_LocationIndexer.__getitem__\u001b[1;34m(self, key)\u001b[0m\n\u001b[0;32m    964\u001b[0m axis \u001b[38;5;241m=\u001b[39m \u001b[38;5;28mself\u001b[39m\u001b[38;5;241m.\u001b[39maxis \u001b[38;5;129;01mor\u001b[39;00m \u001b[38;5;241m0\u001b[39m\n\u001b[0;32m    966\u001b[0m maybe_callable \u001b[38;5;241m=\u001b[39m com\u001b[38;5;241m.\u001b[39mapply_if_callable(key, \u001b[38;5;28mself\u001b[39m\u001b[38;5;241m.\u001b[39mobj)\n\u001b[1;32m--> 967\u001b[0m \u001b[38;5;28;01mreturn\u001b[39;00m \u001b[38;5;28;43mself\u001b[39;49m\u001b[38;5;241;43m.\u001b[39;49m\u001b[43m_getitem_axis\u001b[49m\u001b[43m(\u001b[49m\u001b[43mmaybe_callable\u001b[49m\u001b[43m,\u001b[49m\u001b[43m \u001b[49m\u001b[43maxis\u001b[49m\u001b[38;5;241;43m=\u001b[39;49m\u001b[43maxis\u001b[49m\u001b[43m)\u001b[49m\n",
      "File \u001b[1;32m~\\anaconda3\\lib\\site-packages\\pandas\\core\\indexing.py:1205\u001b[0m, in \u001b[0;36m_LocIndexer._getitem_axis\u001b[1;34m(self, key, axis)\u001b[0m\n\u001b[0;32m   1203\u001b[0m \u001b[38;5;66;03m# fall thru to straight lookup\u001b[39;00m\n\u001b[0;32m   1204\u001b[0m \u001b[38;5;28mself\u001b[39m\u001b[38;5;241m.\u001b[39m_validate_key(key, axis)\n\u001b[1;32m-> 1205\u001b[0m \u001b[38;5;28;01mreturn\u001b[39;00m \u001b[38;5;28;43mself\u001b[39;49m\u001b[38;5;241;43m.\u001b[39;49m\u001b[43m_get_label\u001b[49m\u001b[43m(\u001b[49m\u001b[43mkey\u001b[49m\u001b[43m,\u001b[49m\u001b[43m \u001b[49m\u001b[43maxis\u001b[49m\u001b[38;5;241;43m=\u001b[39;49m\u001b[43maxis\u001b[49m\u001b[43m)\u001b[49m\n",
      "File \u001b[1;32m~\\anaconda3\\lib\\site-packages\\pandas\\core\\indexing.py:1153\u001b[0m, in \u001b[0;36m_LocIndexer._get_label\u001b[1;34m(self, label, axis)\u001b[0m\n\u001b[0;32m   1151\u001b[0m \u001b[38;5;28;01mdef\u001b[39;00m \u001b[38;5;21m_get_label\u001b[39m(\u001b[38;5;28mself\u001b[39m, label, axis: \u001b[38;5;28mint\u001b[39m):\n\u001b[0;32m   1152\u001b[0m     \u001b[38;5;66;03m# GH#5667 this will fail if the label is not present in the axis.\u001b[39;00m\n\u001b[1;32m-> 1153\u001b[0m     \u001b[38;5;28;01mreturn\u001b[39;00m \u001b[38;5;28;43mself\u001b[39;49m\u001b[38;5;241;43m.\u001b[39;49m\u001b[43mobj\u001b[49m\u001b[38;5;241;43m.\u001b[39;49m\u001b[43mxs\u001b[49m\u001b[43m(\u001b[49m\u001b[43mlabel\u001b[49m\u001b[43m,\u001b[49m\u001b[43m \u001b[49m\u001b[43maxis\u001b[49m\u001b[38;5;241;43m=\u001b[39;49m\u001b[43maxis\u001b[49m\u001b[43m)\u001b[49m\n",
      "File \u001b[1;32m~\\anaconda3\\lib\\site-packages\\pandas\\core\\generic.py:3864\u001b[0m, in \u001b[0;36mNDFrame.xs\u001b[1;34m(self, key, axis, level, drop_level)\u001b[0m\n\u001b[0;32m   3862\u001b[0m             new_index \u001b[38;5;241m=\u001b[39m index[loc]\n\u001b[0;32m   3863\u001b[0m \u001b[38;5;28;01melse\u001b[39;00m:\n\u001b[1;32m-> 3864\u001b[0m     loc \u001b[38;5;241m=\u001b[39m \u001b[43mindex\u001b[49m\u001b[38;5;241;43m.\u001b[39;49m\u001b[43mget_loc\u001b[49m\u001b[43m(\u001b[49m\u001b[43mkey\u001b[49m\u001b[43m)\u001b[49m\n\u001b[0;32m   3866\u001b[0m     \u001b[38;5;28;01mif\u001b[39;00m \u001b[38;5;28misinstance\u001b[39m(loc, np\u001b[38;5;241m.\u001b[39mndarray):\n\u001b[0;32m   3867\u001b[0m         \u001b[38;5;28;01mif\u001b[39;00m loc\u001b[38;5;241m.\u001b[39mdtype \u001b[38;5;241m==\u001b[39m np\u001b[38;5;241m.\u001b[39mbool_:\n",
      "File \u001b[1;32m~\\anaconda3\\lib\\site-packages\\pandas\\core\\indexes\\base.py:3631\u001b[0m, in \u001b[0;36mIndex.get_loc\u001b[1;34m(self, key, method, tolerance)\u001b[0m\n\u001b[0;32m   3629\u001b[0m     \u001b[38;5;28;01mreturn\u001b[39;00m \u001b[38;5;28mself\u001b[39m\u001b[38;5;241m.\u001b[39m_engine\u001b[38;5;241m.\u001b[39mget_loc(casted_key)\n\u001b[0;32m   3630\u001b[0m \u001b[38;5;28;01mexcept\u001b[39;00m \u001b[38;5;167;01mKeyError\u001b[39;00m \u001b[38;5;28;01mas\u001b[39;00m err:\n\u001b[1;32m-> 3631\u001b[0m     \u001b[38;5;28;01mraise\u001b[39;00m \u001b[38;5;167;01mKeyError\u001b[39;00m(key) \u001b[38;5;28;01mfrom\u001b[39;00m \u001b[38;5;21;01merr\u001b[39;00m\n\u001b[0;32m   3632\u001b[0m \u001b[38;5;28;01mexcept\u001b[39;00m \u001b[38;5;167;01mTypeError\u001b[39;00m:\n\u001b[0;32m   3633\u001b[0m     \u001b[38;5;66;03m# If we have a listlike key, _check_indexing_error will raise\u001b[39;00m\n\u001b[0;32m   3634\u001b[0m     \u001b[38;5;66;03m#  InvalidIndexError. Otherwise we fall through and re-raise\u001b[39;00m\n\u001b[0;32m   3635\u001b[0m     \u001b[38;5;66;03m#  the TypeError.\u001b[39;00m\n\u001b[0;32m   3636\u001b[0m     \u001b[38;5;28mself\u001b[39m\u001b[38;5;241m.\u001b[39m_check_indexing_error(key)\n",
      "\u001b[1;31mKeyError\u001b[0m: '2022-09-29'"
     ]
    }
   ],
   "source": [
    "draw_line(fg.IC(Intraday, cumulative=True))"
   ]
  },
  {
   "cell_type": "code",
   "execution_count": 11,
   "id": "a4969e63",
   "metadata": {},
   "outputs": [
    {
     "data": {
      "text/html": [
       "<div>\n",
       "<style scoped>\n",
       "    .dataframe tbody tr th:only-of-type {\n",
       "        vertical-align: middle;\n",
       "    }\n",
       "\n",
       "    .dataframe tbody tr th {\n",
       "        vertical-align: top;\n",
       "    }\n",
       "\n",
       "    .dataframe thead th {\n",
       "        text-align: right;\n",
       "    }\n",
       "</style>\n",
       "<table border=\"1\" class=\"dataframe\">\n",
       "  <thead>\n",
       "    <tr style=\"text-align: right;\">\n",
       "      <th></th>\n",
       "      <th>000001.SZ</th>\n",
       "      <th>000002.SZ</th>\n",
       "      <th>000004.SZ</th>\n",
       "      <th>000005.SZ</th>\n",
       "      <th>000006.SZ</th>\n",
       "      <th>000007.SZ</th>\n",
       "      <th>000008.SZ</th>\n",
       "      <th>000009.SZ</th>\n",
       "      <th>000010.SZ</th>\n",
       "      <th>000011.SZ</th>\n",
       "      <th>...</th>\n",
       "      <th>688787.SH</th>\n",
       "      <th>688788.SH</th>\n",
       "      <th>688789.SH</th>\n",
       "      <th>688793.SH</th>\n",
       "      <th>688798.SH</th>\n",
       "      <th>688799.SH</th>\n",
       "      <th>688800.SH</th>\n",
       "      <th>688819.SH</th>\n",
       "      <th>688981.SH</th>\n",
       "      <th>689009.SH</th>\n",
       "    </tr>\n",
       "    <tr>\n",
       "      <th>trade_date</th>\n",
       "      <th></th>\n",
       "      <th></th>\n",
       "      <th></th>\n",
       "      <th></th>\n",
       "      <th></th>\n",
       "      <th></th>\n",
       "      <th></th>\n",
       "      <th></th>\n",
       "      <th></th>\n",
       "      <th></th>\n",
       "      <th></th>\n",
       "      <th></th>\n",
       "      <th></th>\n",
       "      <th></th>\n",
       "      <th></th>\n",
       "      <th></th>\n",
       "      <th></th>\n",
       "      <th></th>\n",
       "      <th></th>\n",
       "      <th></th>\n",
       "      <th></th>\n",
       "    </tr>\n",
       "  </thead>\n",
       "  <tbody>\n",
       "    <tr>\n",
       "      <th>2021-10-08</th>\n",
       "      <td>-9.5</td>\n",
       "      <td>13.0</td>\n",
       "      <td>3.0</td>\n",
       "      <td>7.0</td>\n",
       "      <td>1.0</td>\n",
       "      <td>12.0</td>\n",
       "      <td>-7.0</td>\n",
       "      <td>-27.0</td>\n",
       "      <td>-9.0</td>\n",
       "      <td>-39.0</td>\n",
       "      <td>...</td>\n",
       "      <td>2.0</td>\n",
       "      <td>13.0</td>\n",
       "      <td>21.0</td>\n",
       "      <td>2.5</td>\n",
       "      <td>-24.0</td>\n",
       "      <td>19.0</td>\n",
       "      <td>-26.5</td>\n",
       "      <td>1.5</td>\n",
       "      <td>5.5</td>\n",
       "      <td>-19.0</td>\n",
       "    </tr>\n",
       "    <tr>\n",
       "      <th>2021-10-11</th>\n",
       "      <td>1.5</td>\n",
       "      <td>1.5</td>\n",
       "      <td>-6.5</td>\n",
       "      <td>11.0</td>\n",
       "      <td>1.0</td>\n",
       "      <td>68.5</td>\n",
       "      <td>1.5</td>\n",
       "      <td>15.0</td>\n",
       "      <td>-9.5</td>\n",
       "      <td>-5.0</td>\n",
       "      <td>...</td>\n",
       "      <td>-26.0</td>\n",
       "      <td>26.0</td>\n",
       "      <td>31.5</td>\n",
       "      <td>14.0</td>\n",
       "      <td>11.0</td>\n",
       "      <td>48.0</td>\n",
       "      <td>-18.0</td>\n",
       "      <td>-0.5</td>\n",
       "      <td>-10.0</td>\n",
       "      <td>49.5</td>\n",
       "    </tr>\n",
       "    <tr>\n",
       "      <th>2021-10-12</th>\n",
       "      <td>1.0</td>\n",
       "      <td>70.0</td>\n",
       "      <td>-2.5</td>\n",
       "      <td>-2.5</td>\n",
       "      <td>5.5</td>\n",
       "      <td>-91.0</td>\n",
       "      <td>-3.0</td>\n",
       "      <td>-5.0</td>\n",
       "      <td>-2.5</td>\n",
       "      <td>4.0</td>\n",
       "      <td>...</td>\n",
       "      <td>-32.5</td>\n",
       "      <td>-46.0</td>\n",
       "      <td>-16.0</td>\n",
       "      <td>-19.0</td>\n",
       "      <td>-16.0</td>\n",
       "      <td>11.5</td>\n",
       "      <td>41.5</td>\n",
       "      <td>-66.5</td>\n",
       "      <td>-28.0</td>\n",
       "      <td>-21.5</td>\n",
       "    </tr>\n",
       "    <tr>\n",
       "      <th>2021-10-13</th>\n",
       "      <td>-15.0</td>\n",
       "      <td>-58.0</td>\n",
       "      <td>0.5</td>\n",
       "      <td>-19.0</td>\n",
       "      <td>-20.0</td>\n",
       "      <td>-2.0</td>\n",
       "      <td>-11.0</td>\n",
       "      <td>-13.5</td>\n",
       "      <td>-51.0</td>\n",
       "      <td>-80.0</td>\n",
       "      <td>...</td>\n",
       "      <td>-0.5</td>\n",
       "      <td>-1.0</td>\n",
       "      <td>7.5</td>\n",
       "      <td>-8.0</td>\n",
       "      <td>-14.0</td>\n",
       "      <td>26.5</td>\n",
       "      <td>-49.5</td>\n",
       "      <td>4.5</td>\n",
       "      <td>46.0</td>\n",
       "      <td>-17.0</td>\n",
       "    </tr>\n",
       "    <tr>\n",
       "      <th>2021-10-14</th>\n",
       "      <td>-53.5</td>\n",
       "      <td>6.0</td>\n",
       "      <td>-20.5</td>\n",
       "      <td>-1.0</td>\n",
       "      <td>-1.5</td>\n",
       "      <td>-9.5</td>\n",
       "      <td>-1.0</td>\n",
       "      <td>-36.5</td>\n",
       "      <td>-5.5</td>\n",
       "      <td>26.5</td>\n",
       "      <td>...</td>\n",
       "      <td>-39.0</td>\n",
       "      <td>28.0</td>\n",
       "      <td>-7.0</td>\n",
       "      <td>22.0</td>\n",
       "      <td>30.0</td>\n",
       "      <td>-7.0</td>\n",
       "      <td>27.0</td>\n",
       "      <td>-15.0</td>\n",
       "      <td>-2.5</td>\n",
       "      <td>-22.5</td>\n",
       "    </tr>\n",
       "    <tr>\n",
       "      <th>...</th>\n",
       "      <td>...</td>\n",
       "      <td>...</td>\n",
       "      <td>...</td>\n",
       "      <td>...</td>\n",
       "      <td>...</td>\n",
       "      <td>...</td>\n",
       "      <td>...</td>\n",
       "      <td>...</td>\n",
       "      <td>...</td>\n",
       "      <td>...</td>\n",
       "      <td>...</td>\n",
       "      <td>...</td>\n",
       "      <td>...</td>\n",
       "      <td>...</td>\n",
       "      <td>...</td>\n",
       "      <td>...</td>\n",
       "      <td>...</td>\n",
       "      <td>...</td>\n",
       "      <td>...</td>\n",
       "      <td>...</td>\n",
       "      <td>...</td>\n",
       "    </tr>\n",
       "    <tr>\n",
       "      <th>2022-09-26</th>\n",
       "      <td>14.0</td>\n",
       "      <td>5.0</td>\n",
       "      <td>81.0</td>\n",
       "      <td>1.0</td>\n",
       "      <td>-1.0</td>\n",
       "      <td>-41.5</td>\n",
       "      <td>2.5</td>\n",
       "      <td>60.5</td>\n",
       "      <td>4.0</td>\n",
       "      <td>26.5</td>\n",
       "      <td>...</td>\n",
       "      <td>-21.0</td>\n",
       "      <td>9.0</td>\n",
       "      <td>-4.0</td>\n",
       "      <td>10.0</td>\n",
       "      <td>33.5</td>\n",
       "      <td>11.0</td>\n",
       "      <td>16.0</td>\n",
       "      <td>34.0</td>\n",
       "      <td>21.0</td>\n",
       "      <td>1.5</td>\n",
       "    </tr>\n",
       "    <tr>\n",
       "      <th>2022-09-27</th>\n",
       "      <td>-92.5</td>\n",
       "      <td>6.0</td>\n",
       "      <td>-15.0</td>\n",
       "      <td>-6.0</td>\n",
       "      <td>-28.5</td>\n",
       "      <td>-6.0</td>\n",
       "      <td>-11.0</td>\n",
       "      <td>-47.0</td>\n",
       "      <td>-36.0</td>\n",
       "      <td>-26.5</td>\n",
       "      <td>...</td>\n",
       "      <td>-80.0</td>\n",
       "      <td>-13.5</td>\n",
       "      <td>-3.5</td>\n",
       "      <td>-12.5</td>\n",
       "      <td>-4.0</td>\n",
       "      <td>-33.0</td>\n",
       "      <td>-26.5</td>\n",
       "      <td>9.0</td>\n",
       "      <td>-20.0</td>\n",
       "      <td>3.5</td>\n",
       "    </tr>\n",
       "    <tr>\n",
       "      <th>2022-09-28</th>\n",
       "      <td>4.5</td>\n",
       "      <td>35.5</td>\n",
       "      <td>15.0</td>\n",
       "      <td>3.5</td>\n",
       "      <td>8.5</td>\n",
       "      <td>-47.5</td>\n",
       "      <td>2.0</td>\n",
       "      <td>-29.5</td>\n",
       "      <td>0.0</td>\n",
       "      <td>-8.0</td>\n",
       "      <td>...</td>\n",
       "      <td>-2.0</td>\n",
       "      <td>-22.5</td>\n",
       "      <td>-2.0</td>\n",
       "      <td>29.0</td>\n",
       "      <td>-12.0</td>\n",
       "      <td>6.0</td>\n",
       "      <td>-9.0</td>\n",
       "      <td>-30.0</td>\n",
       "      <td>-34.5</td>\n",
       "      <td>-9.5</td>\n",
       "    </tr>\n",
       "    <tr>\n",
       "      <th>2022-09-29</th>\n",
       "      <td>-68.5</td>\n",
       "      <td>39.5</td>\n",
       "      <td>87.5</td>\n",
       "      <td>-13.0</td>\n",
       "      <td>0.5</td>\n",
       "      <td>-7.0</td>\n",
       "      <td>1.0</td>\n",
       "      <td>-31.0</td>\n",
       "      <td>-11.5</td>\n",
       "      <td>-61.0</td>\n",
       "      <td>...</td>\n",
       "      <td>8.5</td>\n",
       "      <td>2.0</td>\n",
       "      <td>1.0</td>\n",
       "      <td>-4.0</td>\n",
       "      <td>28.0</td>\n",
       "      <td>25.0</td>\n",
       "      <td>22.5</td>\n",
       "      <td>-18.0</td>\n",
       "      <td>-21.0</td>\n",
       "      <td>7.5</td>\n",
       "    </tr>\n",
       "    <tr>\n",
       "      <th>2022-09-30</th>\n",
       "      <td>-43.0</td>\n",
       "      <td>-17.0</td>\n",
       "      <td>15.5</td>\n",
       "      <td>1.0</td>\n",
       "      <td>2.5</td>\n",
       "      <td>19.5</td>\n",
       "      <td>-10.0</td>\n",
       "      <td>-21.5</td>\n",
       "      <td>-13.0</td>\n",
       "      <td>-21.5</td>\n",
       "      <td>...</td>\n",
       "      <td>-15.0</td>\n",
       "      <td>-1.5</td>\n",
       "      <td>-46.5</td>\n",
       "      <td>-3.0</td>\n",
       "      <td>18.0</td>\n",
       "      <td>14.0</td>\n",
       "      <td>-15.0</td>\n",
       "      <td>-12.0</td>\n",
       "      <td>9.0</td>\n",
       "      <td>-15.0</td>\n",
       "    </tr>\n",
       "  </tbody>\n",
       "</table>\n",
       "<p>243 rows × 4873 columns</p>\n",
       "</div>"
      ],
      "text/plain": [
       "            000001.SZ  000002.SZ  000004.SZ  000005.SZ  000006.SZ  000007.SZ  \\\n",
       "trade_date                                                                     \n",
       "2021-10-08       -9.5       13.0        3.0        7.0        1.0       12.0   \n",
       "2021-10-11        1.5        1.5       -6.5       11.0        1.0       68.5   \n",
       "2021-10-12        1.0       70.0       -2.5       -2.5        5.5      -91.0   \n",
       "2021-10-13      -15.0      -58.0        0.5      -19.0      -20.0       -2.0   \n",
       "2021-10-14      -53.5        6.0      -20.5       -1.0       -1.5       -9.5   \n",
       "...               ...        ...        ...        ...        ...        ...   \n",
       "2022-09-26       14.0        5.0       81.0        1.0       -1.0      -41.5   \n",
       "2022-09-27      -92.5        6.0      -15.0       -6.0      -28.5       -6.0   \n",
       "2022-09-28        4.5       35.5       15.0        3.5        8.5      -47.5   \n",
       "2022-09-29      -68.5       39.5       87.5      -13.0        0.5       -7.0   \n",
       "2022-09-30      -43.0      -17.0       15.5        1.0        2.5       19.5   \n",
       "\n",
       "            000008.SZ  000009.SZ  000010.SZ  000011.SZ  ...  688787.SH  \\\n",
       "trade_date                                              ...              \n",
       "2021-10-08       -7.0      -27.0       -9.0      -39.0  ...        2.0   \n",
       "2021-10-11        1.5       15.0       -9.5       -5.0  ...      -26.0   \n",
       "2021-10-12       -3.0       -5.0       -2.5        4.0  ...      -32.5   \n",
       "2021-10-13      -11.0      -13.5      -51.0      -80.0  ...       -0.5   \n",
       "2021-10-14       -1.0      -36.5       -5.5       26.5  ...      -39.0   \n",
       "...               ...        ...        ...        ...  ...        ...   \n",
       "2022-09-26        2.5       60.5        4.0       26.5  ...      -21.0   \n",
       "2022-09-27      -11.0      -47.0      -36.0      -26.5  ...      -80.0   \n",
       "2022-09-28        2.0      -29.5        0.0       -8.0  ...       -2.0   \n",
       "2022-09-29        1.0      -31.0      -11.5      -61.0  ...        8.5   \n",
       "2022-09-30      -10.0      -21.5      -13.0      -21.5  ...      -15.0   \n",
       "\n",
       "            688788.SH  688789.SH  688793.SH  688798.SH  688799.SH  688800.SH  \\\n",
       "trade_date                                                                     \n",
       "2021-10-08       13.0       21.0        2.5      -24.0       19.0      -26.5   \n",
       "2021-10-11       26.0       31.5       14.0       11.0       48.0      -18.0   \n",
       "2021-10-12      -46.0      -16.0      -19.0      -16.0       11.5       41.5   \n",
       "2021-10-13       -1.0        7.5       -8.0      -14.0       26.5      -49.5   \n",
       "2021-10-14       28.0       -7.0       22.0       30.0       -7.0       27.0   \n",
       "...               ...        ...        ...        ...        ...        ...   \n",
       "2022-09-26        9.0       -4.0       10.0       33.5       11.0       16.0   \n",
       "2022-09-27      -13.5       -3.5      -12.5       -4.0      -33.0      -26.5   \n",
       "2022-09-28      -22.5       -2.0       29.0      -12.0        6.0       -9.0   \n",
       "2022-09-29        2.0        1.0       -4.0       28.0       25.0       22.5   \n",
       "2022-09-30       -1.5      -46.5       -3.0       18.0       14.0      -15.0   \n",
       "\n",
       "            688819.SH  688981.SH  689009.SH  \n",
       "trade_date                                   \n",
       "2021-10-08        1.5        5.5      -19.0  \n",
       "2021-10-11       -0.5      -10.0       49.5  \n",
       "2021-10-12      -66.5      -28.0      -21.5  \n",
       "2021-10-13        4.5       46.0      -17.0  \n",
       "2021-10-14      -15.0       -2.5      -22.5  \n",
       "...               ...        ...        ...  \n",
       "2022-09-26       34.0       21.0        1.5  \n",
       "2022-09-27        9.0      -20.0        3.5  \n",
       "2022-09-28      -30.0      -34.5       -9.5  \n",
       "2022-09-29      -18.0      -21.0        7.5  \n",
       "2022-09-30      -12.0        9.0      -15.0  \n",
       "\n",
       "[243 rows x 4873 columns]"
      ]
     },
     "execution_count": 11,
     "metadata": {},
     "output_type": "execute_result"
    }
   ],
   "source": []
  },
  {
   "cell_type": "code",
   "execution_count": 37,
   "id": "aaec27d2",
   "metadata": {},
   "outputs": [
    {
     "data": {
      "text/html": [
       "        <script type=\"text/javascript\">\n",
       "        window.PlotlyConfig = {MathJaxConfig: 'local'};\n",
       "        if (window.MathJax && window.MathJax.Hub && window.MathJax.Hub.Config) {window.MathJax.Hub.Config({SVG: {font: \"STIX-Web\"}});}\n",
       "        if (typeof require !== 'undefined') {\n",
       "        require.undef(\"plotly\");\n",
       "        requirejs.config({\n",
       "            paths: {\n",
       "                'plotly': ['https://cdn.plot.ly/plotly-2.12.1.min']\n",
       "            }\n",
       "        });\n",
       "        require(['plotly'], function(Plotly) {\n",
       "            window._Plotly = Plotly;\n",
       "        });\n",
       "        }\n",
       "        </script>\n",
       "        "
      ]
     },
     "metadata": {},
     "output_type": "display_data"
    },
    {
     "data": {
      "application/vnd.plotly.v1+json": {
       "config": {
        "linkText": "Export to plot.ly",
        "plotlyServerURL": "https://plot.ly",
        "showLink": false
       },
       "data": [
        {
         "line": {
          "color": "blue"
         },
         "type": "scattergl",
         "x": [
          "2021-10-11",
          "2021-10-12",
          "2021-10-13",
          "2021-10-14",
          "2021-10-15",
          "2021-10-18",
          "2021-10-19",
          "2021-10-20",
          "2021-10-21",
          "2021-10-22",
          "2021-10-25",
          "2021-10-26",
          "2021-10-27",
          "2021-10-28",
          "2021-10-29",
          "2021-11-01",
          "2021-11-02",
          "2021-11-03",
          "2021-11-04",
          "2021-11-05",
          "2021-11-08",
          "2021-11-09",
          "2021-11-10",
          "2021-11-11",
          "2021-11-12",
          "2021-11-15",
          "2021-11-16",
          "2021-11-17",
          "2021-11-18",
          "2021-11-19",
          "2021-11-22",
          "2021-11-23",
          "2021-11-24",
          "2021-11-25",
          "2021-11-26",
          "2021-11-29",
          "2021-11-30",
          "2021-12-01",
          "2021-12-02",
          "2021-12-03",
          "2021-12-06",
          "2021-12-07",
          "2021-12-08",
          "2021-12-09",
          "2021-12-10",
          "2021-12-13",
          "2021-12-14",
          "2021-12-15",
          "2021-12-16",
          "2021-12-17",
          "2021-12-20",
          "2021-12-21",
          "2021-12-22",
          "2021-12-23",
          "2021-12-24",
          "2021-12-27",
          "2021-12-28",
          "2021-12-29",
          "2021-12-30",
          "2021-12-31",
          "2022-01-04",
          "2022-01-05",
          "2022-01-06",
          "2022-01-07",
          "2022-01-10",
          "2022-01-11",
          "2022-01-12",
          "2022-01-13",
          "2022-01-14",
          "2022-01-17",
          "2022-01-18",
          "2022-01-19",
          "2022-01-20",
          "2022-01-21",
          "2022-01-24",
          "2022-01-25",
          "2022-01-26",
          "2022-01-27",
          "2022-01-28",
          "2022-02-07",
          "2022-02-08",
          "2022-02-09",
          "2022-02-10",
          "2022-02-11",
          "2022-02-14",
          "2022-02-15",
          "2022-02-16",
          "2022-02-17",
          "2022-02-18",
          "2022-02-21",
          "2022-02-22",
          "2022-02-23",
          "2022-02-24",
          "2022-02-25",
          "2022-02-28",
          "2022-03-01",
          "2022-03-02",
          "2022-03-03",
          "2022-03-04",
          "2022-03-07",
          "2022-03-08",
          "2022-03-09",
          "2022-03-10",
          "2022-03-11",
          "2022-03-14",
          "2022-03-15",
          "2022-03-16",
          "2022-03-17",
          "2022-03-18",
          "2022-03-21",
          "2022-03-22",
          "2022-03-23",
          "2022-03-24",
          "2022-03-25",
          "2022-03-28",
          "2022-03-29",
          "2022-03-30",
          "2022-03-31",
          "2022-04-01",
          "2022-04-06",
          "2022-04-07",
          "2022-04-08",
          "2022-04-11",
          "2022-04-12",
          "2022-04-13",
          "2022-04-14",
          "2022-04-15",
          "2022-04-18",
          "2022-04-19",
          "2022-04-20",
          "2022-04-21",
          "2022-04-22",
          "2022-04-25",
          "2022-04-26",
          "2022-04-27",
          "2022-04-28",
          "2022-04-29",
          "2022-05-05",
          "2022-05-06",
          "2022-05-09",
          "2022-05-10",
          "2022-05-11",
          "2022-05-12",
          "2022-05-13",
          "2022-05-16",
          "2022-05-17",
          "2022-05-18",
          "2022-05-19",
          "2022-05-20",
          "2022-05-23",
          "2022-05-24",
          "2022-05-25",
          "2022-05-26",
          "2022-05-27",
          "2022-05-30",
          "2022-05-31",
          "2022-06-01",
          "2022-06-02",
          "2022-06-06",
          "2022-06-07",
          "2022-06-08",
          "2022-06-09",
          "2022-06-10",
          "2022-06-13",
          "2022-06-14",
          "2022-06-15",
          "2022-06-16",
          "2022-06-17",
          "2022-06-20",
          "2022-06-21",
          "2022-06-22",
          "2022-06-23",
          "2022-06-24",
          "2022-06-27",
          "2022-06-28",
          "2022-06-29",
          "2022-06-30",
          "2022-07-01",
          "2022-07-04",
          "2022-07-05",
          "2022-07-06",
          "2022-07-07",
          "2022-07-08",
          "2022-07-11",
          "2022-07-12",
          "2022-07-13",
          "2022-07-14",
          "2022-07-15",
          "2022-07-18",
          "2022-07-19",
          "2022-07-20",
          "2022-07-21",
          "2022-07-22",
          "2022-07-25",
          "2022-07-26",
          "2022-07-27",
          "2022-07-28",
          "2022-07-29",
          "2022-08-01",
          "2022-08-02",
          "2022-08-03",
          "2022-08-04",
          "2022-08-05",
          "2022-08-08",
          "2022-08-09",
          "2022-08-10",
          "2022-08-11",
          "2022-08-12",
          "2022-08-15",
          "2022-08-16",
          "2022-08-17",
          "2022-08-18",
          "2022-08-19",
          "2022-08-22",
          "2022-08-23",
          "2022-08-24",
          "2022-08-25",
          "2022-08-26",
          "2022-08-29",
          "2022-08-30",
          "2022-08-31",
          "2022-09-01",
          "2022-09-02",
          "2022-09-05",
          "2022-09-06",
          "2022-09-07",
          "2022-09-08",
          "2022-09-09",
          "2022-09-13",
          "2022-09-14",
          "2022-09-15",
          "2022-09-16",
          "2022-09-19",
          "2022-09-20",
          "2022-09-21",
          "2022-09-22",
          "2022-09-23",
          "2022-09-26",
          "2022-09-27",
          "2022-09-28"
         ],
         "y": [
          0.0742918814939667,
          0.1075809779528816,
          0.10513009227564514,
          0.08914915263743763,
          0.12093237073114858,
          0.04179899872170863,
          -0.006763951485061738,
          -0.002865978833073007,
          -0.021255323962982825,
          -0.036910612264227136,
          -0.07876428412617288,
          -0.06307366486385654,
          -0.060567300330287295,
          -0.05100525598371346,
          -0.015459629017974305,
          -0.0634776346864533,
          -0.03619686189093481,
          -0.02627103862189316,
          -0.057832665146191835,
          -0.05657334566337632,
          -0.06092542198290898,
          -0.12704446632958924,
          -0.09538669085447576,
          -0.08082356311080297,
          -0.1103985688895476,
          -0.19371097158886968,
          -0.12756565322452212,
          -0.188933050784741,
          -0.12405041154260181,
          -0.12547913692251203,
          -0.11559446995063215,
          -0.11845452362221211,
          -0.12801638914808136,
          -0.15745376033481198,
          -0.20431474689517587,
          -0.16655254257070318,
          -0.1374051203227177,
          0.032418271900283485,
          0.03261556455317027,
          0.030478954768190097,
          0.012947043526689326,
          0.11129734651420535,
          -0.0018634355419845233,
          -0.05255930157997807,
          -0.06647310266790699,
          -0.06021239673304224,
          -0.0899595943069974,
          -0.1052221656642547,
          -0.06200194625882737,
          -0.03556285746525249,
          -0.02034128625706159,
          0.01450528217913578,
          -0.0336185826260821,
          -0.000976615375437348,
          -0.056952601116239364,
          -0.03340080373352745,
          -0.021481875752285603,
          -0.03476879718376983,
          -0.06210717228055741,
          -0.10364223383063334,
          -0.019042697768562322,
          0.11420707232454991,
          0.02356113551597866,
          0.0929429397994332,
          0.16355040587200415,
          0.16360745057825996,
          0.1114684785301266,
          0.13619398575822667,
          0.022457401151703957,
          0.10672972601633517,
          0.11342353137889255,
          0.0456970364624746,
          0.05286766346279249,
          -0.03418051708511483,
          0.02378127602586383,
          0.04412594413773907,
          0.04622035497561869,
          0.10702601652814833,
          0.06743582643175983,
          0.008038165694751298,
          0.09001583349740967,
          0.08630306003696825,
          0.16014573632294,
          0.1932231043691233,
          0.07999539015633117,
          0.1252304476704627,
          0.08508665674001223,
          0.12707486218217204,
          0.11885310638419627,
          0.12170035239621671,
          0.11401169275260259,
          0.10716768631190654,
          0.12732440063778044,
          0.19864499964146776,
          0.23597827240501468,
          0.2314831305474584,
          0.23395212670744692,
          0.3635305836656632,
          0.3664258650884293,
          0.2925015656717639,
          0.265998857943388,
          0.3655393718279054,
          0.3269087385136517,
          0.3343785212473568,
          0.36420384822606694,
          0.37551248972619866,
          0.48170554532383314,
          0.35287437709465347,
          0.3351893406084173,
          0.3525509910487443,
          0.3949276416134603,
          0.3719924140896542,
          0.3605575282332505,
          0.4133135025971426,
          0.4516604041229771,
          0.3957021358495434,
          0.30746036845636304,
          0.3030175688808746,
          0.2722033530226772,
          0.156834631201756,
          0.14575778444016316,
          0.2406226499943269,
          0.22938658372097046,
          0.2640539971615594,
          0.2816316100419995,
          0.2521124912289493,
          0.2361627628934359,
          0.12323475978605418,
          0.09687287120812589,
          0.09471023335410796,
          0.13617108559631774,
          0.17676057687681995,
          0.2755824182384923,
          0.37517116858562394,
          0.42392940700622816,
          0.5133335869158242,
          0.46490092818392265,
          0.5396662698792101,
          0.6499408677038596,
          0.671010939992665,
          0.6777741338500398,
          0.7991311301082018,
          0.8500102544798107,
          0.8740054925307122,
          0.8933107209626421,
          0.8632495403917141,
          0.8445677975378421,
          0.8398016174154972,
          0.7656312452189944,
          0.7173732147982737,
          0.73478629181446,
          0.7370532060555315,
          0.8000103633458348,
          0.7902942576262619,
          0.8088958179461637,
          0.8711380242856349,
          0.852591774594942,
          0.9658593709666021,
          0.9871724785654622,
          0.9769740735113261,
          1.0366299824658889,
          1.0632212082882073,
          1.014348744706418,
          1.0699862648319,
          1.0747749349263678,
          0.9087083373268124,
          0.8789116836348616,
          0.872304934814656,
          0.8859364427593722,
          0.9319741534135286,
          0.831466451528258,
          0.9147453444566326,
          0.8531895765343271,
          0.8313155919210985,
          0.7955692538906624,
          0.7808832531137602,
          0.8116624852153207,
          0.8224928976254164,
          0.8738568471227275,
          0.9348009780077097,
          0.8424091550476519,
          0.8722496357719601,
          0.7883852271492638,
          0.7940845667149065,
          0.8500431807736617,
          0.9228849125072456,
          0.8654447699850285,
          0.9711833365294265,
          0.8537863184561334,
          0.8864592795398948,
          0.8963864700576296,
          0.8903683514621343,
          0.872014994733174,
          0.816858984616978,
          0.8135832711277262,
          0.7292577232606088,
          0.8127819452736119,
          0.7829213043933181,
          0.7773788357138611,
          0.8230765561723108,
          0.7948831489867153,
          0.8045049551926277,
          0.8940879148335598,
          0.8312685713757996,
          0.8326337885923843,
          0.8786386552740916,
          0.8423488637205896,
          0.8812015266455004,
          0.855865244677266,
          0.9025163466133332,
          0.8758019068007411,
          0.8832518080213492,
          0.7685977900164016,
          0.8421916221169349,
          0.7772906159070807,
          0.7408579521744609,
          0.8862583210072,
          0.8845736693593566,
          0.8901433109052176,
          0.883972781384206,
          0.8952359333114704,
          0.8944472575632846,
          0.8635068244231551,
          0.8523816727990103,
          0.9902440066407738,
          1.0156112039046266,
          0.9443833763450962,
          0.9311659655639376,
          0.9030362858782649,
          0.9854927979489247,
          1.0963908347994789,
          1.018999209165822,
          0.9806709574548043,
          0.9338564420910712,
          0.921682819796425,
          0.9842288518468167,
          0.8721387545349795,
          0.7670984243298297,
          0.7952532705220949,
          0.8723977069611675
         ]
        }
       ],
       "layout": {
        "template": {
         "data": {
          "bar": [
           {
            "error_x": {
             "color": "#2a3f5f"
            },
            "error_y": {
             "color": "#2a3f5f"
            },
            "marker": {
             "line": {
              "color": "#E5ECF6",
              "width": 0.5
             },
             "pattern": {
              "fillmode": "overlay",
              "size": 10,
              "solidity": 0.2
             }
            },
            "type": "bar"
           }
          ],
          "barpolar": [
           {
            "marker": {
             "line": {
              "color": "#E5ECF6",
              "width": 0.5
             },
             "pattern": {
              "fillmode": "overlay",
              "size": 10,
              "solidity": 0.2
             }
            },
            "type": "barpolar"
           }
          ],
          "carpet": [
           {
            "aaxis": {
             "endlinecolor": "#2a3f5f",
             "gridcolor": "white",
             "linecolor": "white",
             "minorgridcolor": "white",
             "startlinecolor": "#2a3f5f"
            },
            "baxis": {
             "endlinecolor": "#2a3f5f",
             "gridcolor": "white",
             "linecolor": "white",
             "minorgridcolor": "white",
             "startlinecolor": "#2a3f5f"
            },
            "type": "carpet"
           }
          ],
          "choropleth": [
           {
            "colorbar": {
             "outlinewidth": 0,
             "ticks": ""
            },
            "type": "choropleth"
           }
          ],
          "contour": [
           {
            "colorbar": {
             "outlinewidth": 0,
             "ticks": ""
            },
            "colorscale": [
             [
              0,
              "#0d0887"
             ],
             [
              0.1111111111111111,
              "#46039f"
             ],
             [
              0.2222222222222222,
              "#7201a8"
             ],
             [
              0.3333333333333333,
              "#9c179e"
             ],
             [
              0.4444444444444444,
              "#bd3786"
             ],
             [
              0.5555555555555556,
              "#d8576b"
             ],
             [
              0.6666666666666666,
              "#ed7953"
             ],
             [
              0.7777777777777778,
              "#fb9f3a"
             ],
             [
              0.8888888888888888,
              "#fdca26"
             ],
             [
              1,
              "#f0f921"
             ]
            ],
            "type": "contour"
           }
          ],
          "contourcarpet": [
           {
            "colorbar": {
             "outlinewidth": 0,
             "ticks": ""
            },
            "type": "contourcarpet"
           }
          ],
          "heatmap": [
           {
            "colorbar": {
             "outlinewidth": 0,
             "ticks": ""
            },
            "colorscale": [
             [
              0,
              "#0d0887"
             ],
             [
              0.1111111111111111,
              "#46039f"
             ],
             [
              0.2222222222222222,
              "#7201a8"
             ],
             [
              0.3333333333333333,
              "#9c179e"
             ],
             [
              0.4444444444444444,
              "#bd3786"
             ],
             [
              0.5555555555555556,
              "#d8576b"
             ],
             [
              0.6666666666666666,
              "#ed7953"
             ],
             [
              0.7777777777777778,
              "#fb9f3a"
             ],
             [
              0.8888888888888888,
              "#fdca26"
             ],
             [
              1,
              "#f0f921"
             ]
            ],
            "type": "heatmap"
           }
          ],
          "heatmapgl": [
           {
            "colorbar": {
             "outlinewidth": 0,
             "ticks": ""
            },
            "colorscale": [
             [
              0,
              "#0d0887"
             ],
             [
              0.1111111111111111,
              "#46039f"
             ],
             [
              0.2222222222222222,
              "#7201a8"
             ],
             [
              0.3333333333333333,
              "#9c179e"
             ],
             [
              0.4444444444444444,
              "#bd3786"
             ],
             [
              0.5555555555555556,
              "#d8576b"
             ],
             [
              0.6666666666666666,
              "#ed7953"
             ],
             [
              0.7777777777777778,
              "#fb9f3a"
             ],
             [
              0.8888888888888888,
              "#fdca26"
             ],
             [
              1,
              "#f0f921"
             ]
            ],
            "type": "heatmapgl"
           }
          ],
          "histogram": [
           {
            "marker": {
             "pattern": {
              "fillmode": "overlay",
              "size": 10,
              "solidity": 0.2
             }
            },
            "type": "histogram"
           }
          ],
          "histogram2d": [
           {
            "colorbar": {
             "outlinewidth": 0,
             "ticks": ""
            },
            "colorscale": [
             [
              0,
              "#0d0887"
             ],
             [
              0.1111111111111111,
              "#46039f"
             ],
             [
              0.2222222222222222,
              "#7201a8"
             ],
             [
              0.3333333333333333,
              "#9c179e"
             ],
             [
              0.4444444444444444,
              "#bd3786"
             ],
             [
              0.5555555555555556,
              "#d8576b"
             ],
             [
              0.6666666666666666,
              "#ed7953"
             ],
             [
              0.7777777777777778,
              "#fb9f3a"
             ],
             [
              0.8888888888888888,
              "#fdca26"
             ],
             [
              1,
              "#f0f921"
             ]
            ],
            "type": "histogram2d"
           }
          ],
          "histogram2dcontour": [
           {
            "colorbar": {
             "outlinewidth": 0,
             "ticks": ""
            },
            "colorscale": [
             [
              0,
              "#0d0887"
             ],
             [
              0.1111111111111111,
              "#46039f"
             ],
             [
              0.2222222222222222,
              "#7201a8"
             ],
             [
              0.3333333333333333,
              "#9c179e"
             ],
             [
              0.4444444444444444,
              "#bd3786"
             ],
             [
              0.5555555555555556,
              "#d8576b"
             ],
             [
              0.6666666666666666,
              "#ed7953"
             ],
             [
              0.7777777777777778,
              "#fb9f3a"
             ],
             [
              0.8888888888888888,
              "#fdca26"
             ],
             [
              1,
              "#f0f921"
             ]
            ],
            "type": "histogram2dcontour"
           }
          ],
          "mesh3d": [
           {
            "colorbar": {
             "outlinewidth": 0,
             "ticks": ""
            },
            "type": "mesh3d"
           }
          ],
          "parcoords": [
           {
            "line": {
             "colorbar": {
              "outlinewidth": 0,
              "ticks": ""
             }
            },
            "type": "parcoords"
           }
          ],
          "pie": [
           {
            "automargin": true,
            "type": "pie"
           }
          ],
          "scatter": [
           {
            "fillpattern": {
             "fillmode": "overlay",
             "size": 10,
             "solidity": 0.2
            },
            "type": "scatter"
           }
          ],
          "scatter3d": [
           {
            "line": {
             "colorbar": {
              "outlinewidth": 0,
              "ticks": ""
             }
            },
            "marker": {
             "colorbar": {
              "outlinewidth": 0,
              "ticks": ""
             }
            },
            "type": "scatter3d"
           }
          ],
          "scattercarpet": [
           {
            "marker": {
             "colorbar": {
              "outlinewidth": 0,
              "ticks": ""
             }
            },
            "type": "scattercarpet"
           }
          ],
          "scattergeo": [
           {
            "marker": {
             "colorbar": {
              "outlinewidth": 0,
              "ticks": ""
             }
            },
            "type": "scattergeo"
           }
          ],
          "scattergl": [
           {
            "marker": {
             "colorbar": {
              "outlinewidth": 0,
              "ticks": ""
             }
            },
            "type": "scattergl"
           }
          ],
          "scattermapbox": [
           {
            "marker": {
             "colorbar": {
              "outlinewidth": 0,
              "ticks": ""
             }
            },
            "type": "scattermapbox"
           }
          ],
          "scatterpolar": [
           {
            "marker": {
             "colorbar": {
              "outlinewidth": 0,
              "ticks": ""
             }
            },
            "type": "scatterpolar"
           }
          ],
          "scatterpolargl": [
           {
            "marker": {
             "colorbar": {
              "outlinewidth": 0,
              "ticks": ""
             }
            },
            "type": "scatterpolargl"
           }
          ],
          "scatterternary": [
           {
            "marker": {
             "colorbar": {
              "outlinewidth": 0,
              "ticks": ""
             }
            },
            "type": "scatterternary"
           }
          ],
          "surface": [
           {
            "colorbar": {
             "outlinewidth": 0,
             "ticks": ""
            },
            "colorscale": [
             [
              0,
              "#0d0887"
             ],
             [
              0.1111111111111111,
              "#46039f"
             ],
             [
              0.2222222222222222,
              "#7201a8"
             ],
             [
              0.3333333333333333,
              "#9c179e"
             ],
             [
              0.4444444444444444,
              "#bd3786"
             ],
             [
              0.5555555555555556,
              "#d8576b"
             ],
             [
              0.6666666666666666,
              "#ed7953"
             ],
             [
              0.7777777777777778,
              "#fb9f3a"
             ],
             [
              0.8888888888888888,
              "#fdca26"
             ],
             [
              1,
              "#f0f921"
             ]
            ],
            "type": "surface"
           }
          ],
          "table": [
           {
            "cells": {
             "fill": {
              "color": "#EBF0F8"
             },
             "line": {
              "color": "white"
             }
            },
            "header": {
             "fill": {
              "color": "#C8D4E3"
             },
             "line": {
              "color": "white"
             }
            },
            "type": "table"
           }
          ]
         },
         "layout": {
          "annotationdefaults": {
           "arrowcolor": "#2a3f5f",
           "arrowhead": 0,
           "arrowwidth": 1
          },
          "autotypenumbers": "strict",
          "coloraxis": {
           "colorbar": {
            "outlinewidth": 0,
            "ticks": ""
           }
          },
          "colorscale": {
           "diverging": [
            [
             0,
             "#8e0152"
            ],
            [
             0.1,
             "#c51b7d"
            ],
            [
             0.2,
             "#de77ae"
            ],
            [
             0.3,
             "#f1b6da"
            ],
            [
             0.4,
             "#fde0ef"
            ],
            [
             0.5,
             "#f7f7f7"
            ],
            [
             0.6,
             "#e6f5d0"
            ],
            [
             0.7,
             "#b8e186"
            ],
            [
             0.8,
             "#7fbc41"
            ],
            [
             0.9,
             "#4d9221"
            ],
            [
             1,
             "#276419"
            ]
           ],
           "sequential": [
            [
             0,
             "#0d0887"
            ],
            [
             0.1111111111111111,
             "#46039f"
            ],
            [
             0.2222222222222222,
             "#7201a8"
            ],
            [
             0.3333333333333333,
             "#9c179e"
            ],
            [
             0.4444444444444444,
             "#bd3786"
            ],
            [
             0.5555555555555556,
             "#d8576b"
            ],
            [
             0.6666666666666666,
             "#ed7953"
            ],
            [
             0.7777777777777778,
             "#fb9f3a"
            ],
            [
             0.8888888888888888,
             "#fdca26"
            ],
            [
             1,
             "#f0f921"
            ]
           ],
           "sequentialminus": [
            [
             0,
             "#0d0887"
            ],
            [
             0.1111111111111111,
             "#46039f"
            ],
            [
             0.2222222222222222,
             "#7201a8"
            ],
            [
             0.3333333333333333,
             "#9c179e"
            ],
            [
             0.4444444444444444,
             "#bd3786"
            ],
            [
             0.5555555555555556,
             "#d8576b"
            ],
            [
             0.6666666666666666,
             "#ed7953"
            ],
            [
             0.7777777777777778,
             "#fb9f3a"
            ],
            [
             0.8888888888888888,
             "#fdca26"
            ],
            [
             1,
             "#f0f921"
            ]
           ]
          },
          "colorway": [
           "#636efa",
           "#EF553B",
           "#00cc96",
           "#ab63fa",
           "#FFA15A",
           "#19d3f3",
           "#FF6692",
           "#B6E880",
           "#FF97FF",
           "#FECB52"
          ],
          "font": {
           "color": "#2a3f5f"
          },
          "geo": {
           "bgcolor": "white",
           "lakecolor": "white",
           "landcolor": "#E5ECF6",
           "showlakes": true,
           "showland": true,
           "subunitcolor": "white"
          },
          "hoverlabel": {
           "align": "left"
          },
          "hovermode": "closest",
          "mapbox": {
           "style": "light"
          },
          "paper_bgcolor": "white",
          "plot_bgcolor": "#E5ECF6",
          "polar": {
           "angularaxis": {
            "gridcolor": "white",
            "linecolor": "white",
            "ticks": ""
           },
           "bgcolor": "#E5ECF6",
           "radialaxis": {
            "gridcolor": "white",
            "linecolor": "white",
            "ticks": ""
           }
          },
          "scene": {
           "xaxis": {
            "backgroundcolor": "#E5ECF6",
            "gridcolor": "white",
            "gridwidth": 2,
            "linecolor": "white",
            "showbackground": true,
            "ticks": "",
            "zerolinecolor": "white"
           },
           "yaxis": {
            "backgroundcolor": "#E5ECF6",
            "gridcolor": "white",
            "gridwidth": 2,
            "linecolor": "white",
            "showbackground": true,
            "ticks": "",
            "zerolinecolor": "white"
           },
           "zaxis": {
            "backgroundcolor": "#E5ECF6",
            "gridcolor": "white",
            "gridwidth": 2,
            "linecolor": "white",
            "showbackground": true,
            "ticks": "",
            "zerolinecolor": "white"
           }
          },
          "shapedefaults": {
           "line": {
            "color": "#2a3f5f"
           }
          },
          "ternary": {
           "aaxis": {
            "gridcolor": "white",
            "linecolor": "white",
            "ticks": ""
           },
           "baxis": {
            "gridcolor": "white",
            "linecolor": "white",
            "ticks": ""
           },
           "bgcolor": "#E5ECF6",
           "caxis": {
            "gridcolor": "white",
            "linecolor": "white",
            "ticks": ""
           }
          },
          "title": {
           "x": 0.05
          },
          "xaxis": {
           "automargin": true,
           "gridcolor": "white",
           "linecolor": "white",
           "ticks": "",
           "title": {
            "standoff": 15
           },
           "zerolinecolor": "white",
           "zerolinewidth": 2
          },
          "yaxis": {
           "automargin": true,
           "gridcolor": "white",
           "linecolor": "white",
           "ticks": "",
           "title": {
            "standoff": 15
           },
           "zerolinecolor": "white",
           "zerolinewidth": 2
          }
         }
        },
        "title": {
         "text": "Plot series data of: Cumulative IC"
        }
       }
      },
      "text/html": [
       "<div>                            <div id=\"c1860695-4082-4b8e-bec3-b59574e6a3e4\" class=\"plotly-graph-div\" style=\"height:525px; width:100%;\"></div>            <script type=\"text/javascript\">                require([\"plotly\"], function(Plotly) {                    window.PLOTLYENV=window.PLOTLYENV || {};                                    if (document.getElementById(\"c1860695-4082-4b8e-bec3-b59574e6a3e4\")) {                    Plotly.newPlot(                        \"c1860695-4082-4b8e-bec3-b59574e6a3e4\",                        [{\"line\":{\"color\":\"blue\"},\"x\":[\"2021-10-11\",\"2021-10-12\",\"2021-10-13\",\"2021-10-14\",\"2021-10-15\",\"2021-10-18\",\"2021-10-19\",\"2021-10-20\",\"2021-10-21\",\"2021-10-22\",\"2021-10-25\",\"2021-10-26\",\"2021-10-27\",\"2021-10-28\",\"2021-10-29\",\"2021-11-01\",\"2021-11-02\",\"2021-11-03\",\"2021-11-04\",\"2021-11-05\",\"2021-11-08\",\"2021-11-09\",\"2021-11-10\",\"2021-11-11\",\"2021-11-12\",\"2021-11-15\",\"2021-11-16\",\"2021-11-17\",\"2021-11-18\",\"2021-11-19\",\"2021-11-22\",\"2021-11-23\",\"2021-11-24\",\"2021-11-25\",\"2021-11-26\",\"2021-11-29\",\"2021-11-30\",\"2021-12-01\",\"2021-12-02\",\"2021-12-03\",\"2021-12-06\",\"2021-12-07\",\"2021-12-08\",\"2021-12-09\",\"2021-12-10\",\"2021-12-13\",\"2021-12-14\",\"2021-12-15\",\"2021-12-16\",\"2021-12-17\",\"2021-12-20\",\"2021-12-21\",\"2021-12-22\",\"2021-12-23\",\"2021-12-24\",\"2021-12-27\",\"2021-12-28\",\"2021-12-29\",\"2021-12-30\",\"2021-12-31\",\"2022-01-04\",\"2022-01-05\",\"2022-01-06\",\"2022-01-07\",\"2022-01-10\",\"2022-01-11\",\"2022-01-12\",\"2022-01-13\",\"2022-01-14\",\"2022-01-17\",\"2022-01-18\",\"2022-01-19\",\"2022-01-20\",\"2022-01-21\",\"2022-01-24\",\"2022-01-25\",\"2022-01-26\",\"2022-01-27\",\"2022-01-28\",\"2022-02-07\",\"2022-02-08\",\"2022-02-09\",\"2022-02-10\",\"2022-02-11\",\"2022-02-14\",\"2022-02-15\",\"2022-02-16\",\"2022-02-17\",\"2022-02-18\",\"2022-02-21\",\"2022-02-22\",\"2022-02-23\",\"2022-02-24\",\"2022-02-25\",\"2022-02-28\",\"2022-03-01\",\"2022-03-02\",\"2022-03-03\",\"2022-03-04\",\"2022-03-07\",\"2022-03-08\",\"2022-03-09\",\"2022-03-10\",\"2022-03-11\",\"2022-03-14\",\"2022-03-15\",\"2022-03-16\",\"2022-03-17\",\"2022-03-18\",\"2022-03-21\",\"2022-03-22\",\"2022-03-23\",\"2022-03-24\",\"2022-03-25\",\"2022-03-28\",\"2022-03-29\",\"2022-03-30\",\"2022-03-31\",\"2022-04-01\",\"2022-04-06\",\"2022-04-07\",\"2022-04-08\",\"2022-04-11\",\"2022-04-12\",\"2022-04-13\",\"2022-04-14\",\"2022-04-15\",\"2022-04-18\",\"2022-04-19\",\"2022-04-20\",\"2022-04-21\",\"2022-04-22\",\"2022-04-25\",\"2022-04-26\",\"2022-04-27\",\"2022-04-28\",\"2022-04-29\",\"2022-05-05\",\"2022-05-06\",\"2022-05-09\",\"2022-05-10\",\"2022-05-11\",\"2022-05-12\",\"2022-05-13\",\"2022-05-16\",\"2022-05-17\",\"2022-05-18\",\"2022-05-19\",\"2022-05-20\",\"2022-05-23\",\"2022-05-24\",\"2022-05-25\",\"2022-05-26\",\"2022-05-27\",\"2022-05-30\",\"2022-05-31\",\"2022-06-01\",\"2022-06-02\",\"2022-06-06\",\"2022-06-07\",\"2022-06-08\",\"2022-06-09\",\"2022-06-10\",\"2022-06-13\",\"2022-06-14\",\"2022-06-15\",\"2022-06-16\",\"2022-06-17\",\"2022-06-20\",\"2022-06-21\",\"2022-06-22\",\"2022-06-23\",\"2022-06-24\",\"2022-06-27\",\"2022-06-28\",\"2022-06-29\",\"2022-06-30\",\"2022-07-01\",\"2022-07-04\",\"2022-07-05\",\"2022-07-06\",\"2022-07-07\",\"2022-07-08\",\"2022-07-11\",\"2022-07-12\",\"2022-07-13\",\"2022-07-14\",\"2022-07-15\",\"2022-07-18\",\"2022-07-19\",\"2022-07-20\",\"2022-07-21\",\"2022-07-22\",\"2022-07-25\",\"2022-07-26\",\"2022-07-27\",\"2022-07-28\",\"2022-07-29\",\"2022-08-01\",\"2022-08-02\",\"2022-08-03\",\"2022-08-04\",\"2022-08-05\",\"2022-08-08\",\"2022-08-09\",\"2022-08-10\",\"2022-08-11\",\"2022-08-12\",\"2022-08-15\",\"2022-08-16\",\"2022-08-17\",\"2022-08-18\",\"2022-08-19\",\"2022-08-22\",\"2022-08-23\",\"2022-08-24\",\"2022-08-25\",\"2022-08-26\",\"2022-08-29\",\"2022-08-30\",\"2022-08-31\",\"2022-09-01\",\"2022-09-02\",\"2022-09-05\",\"2022-09-06\",\"2022-09-07\",\"2022-09-08\",\"2022-09-09\",\"2022-09-13\",\"2022-09-14\",\"2022-09-15\",\"2022-09-16\",\"2022-09-19\",\"2022-09-20\",\"2022-09-21\",\"2022-09-22\",\"2022-09-23\",\"2022-09-26\",\"2022-09-27\",\"2022-09-28\"],\"y\":[0.0742918814939667,0.1075809779528816,0.10513009227564514,0.08914915263743763,0.12093237073114858,0.04179899872170863,-0.006763951485061738,-0.002865978833073007,-0.021255323962982825,-0.036910612264227136,-0.07876428412617288,-0.06307366486385654,-0.060567300330287295,-0.05100525598371346,-0.015459629017974305,-0.0634776346864533,-0.03619686189093481,-0.02627103862189316,-0.057832665146191835,-0.05657334566337632,-0.06092542198290898,-0.12704446632958924,-0.09538669085447576,-0.08082356311080297,-0.1103985688895476,-0.19371097158886968,-0.12756565322452212,-0.188933050784741,-0.12405041154260181,-0.12547913692251203,-0.11559446995063215,-0.11845452362221211,-0.12801638914808136,-0.15745376033481198,-0.20431474689517587,-0.16655254257070318,-0.1374051203227177,0.032418271900283485,0.03261556455317027,0.030478954768190097,0.012947043526689326,0.11129734651420535,-0.0018634355419845233,-0.05255930157997807,-0.06647310266790699,-0.06021239673304224,-0.0899595943069974,-0.1052221656642547,-0.06200194625882737,-0.03556285746525249,-0.02034128625706159,0.01450528217913578,-0.0336185826260821,-0.000976615375437348,-0.056952601116239364,-0.03340080373352745,-0.021481875752285603,-0.03476879718376983,-0.06210717228055741,-0.10364223383063334,-0.019042697768562322,0.11420707232454991,0.02356113551597866,0.0929429397994332,0.16355040587200415,0.16360745057825996,0.1114684785301266,0.13619398575822667,0.022457401151703957,0.10672972601633517,0.11342353137889255,0.0456970364624746,0.05286766346279249,-0.03418051708511483,0.02378127602586383,0.04412594413773907,0.04622035497561869,0.10702601652814833,0.06743582643175983,0.008038165694751298,0.09001583349740967,0.08630306003696825,0.16014573632294,0.1932231043691233,0.07999539015633117,0.1252304476704627,0.08508665674001223,0.12707486218217204,0.11885310638419627,0.12170035239621671,0.11401169275260259,0.10716768631190654,0.12732440063778044,0.19864499964146776,0.23597827240501468,0.2314831305474584,0.23395212670744692,0.3635305836656632,0.3664258650884293,0.2925015656717639,0.265998857943388,0.3655393718279054,0.3269087385136517,0.3343785212473568,0.36420384822606694,0.37551248972619866,0.48170554532383314,0.35287437709465347,0.3351893406084173,0.3525509910487443,0.3949276416134603,0.3719924140896542,0.3605575282332505,0.4133135025971426,0.4516604041229771,0.3957021358495434,0.30746036845636304,0.3030175688808746,0.2722033530226772,0.156834631201756,0.14575778444016316,0.2406226499943269,0.22938658372097046,0.2640539971615594,0.2816316100419995,0.2521124912289493,0.2361627628934359,0.12323475978605418,0.09687287120812589,0.09471023335410796,0.13617108559631774,0.17676057687681995,0.2755824182384923,0.37517116858562394,0.42392940700622816,0.5133335869158242,0.46490092818392265,0.5396662698792101,0.6499408677038596,0.671010939992665,0.6777741338500398,0.7991311301082018,0.8500102544798107,0.8740054925307122,0.8933107209626421,0.8632495403917141,0.8445677975378421,0.8398016174154972,0.7656312452189944,0.7173732147982737,0.73478629181446,0.7370532060555315,0.8000103633458348,0.7902942576262619,0.8088958179461637,0.8711380242856349,0.852591774594942,0.9658593709666021,0.9871724785654622,0.9769740735113261,1.0366299824658889,1.0632212082882073,1.014348744706418,1.0699862648319,1.0747749349263678,0.9087083373268124,0.8789116836348616,0.872304934814656,0.8859364427593722,0.9319741534135286,0.831466451528258,0.9147453444566326,0.8531895765343271,0.8313155919210985,0.7955692538906624,0.7808832531137602,0.8116624852153207,0.8224928976254164,0.8738568471227275,0.9348009780077097,0.8424091550476519,0.8722496357719601,0.7883852271492638,0.7940845667149065,0.8500431807736617,0.9228849125072456,0.8654447699850285,0.9711833365294265,0.8537863184561334,0.8864592795398948,0.8963864700576296,0.8903683514621343,0.872014994733174,0.816858984616978,0.8135832711277262,0.7292577232606088,0.8127819452736119,0.7829213043933181,0.7773788357138611,0.8230765561723108,0.7948831489867153,0.8045049551926277,0.8940879148335598,0.8312685713757996,0.8326337885923843,0.8786386552740916,0.8423488637205896,0.8812015266455004,0.855865244677266,0.9025163466133332,0.8758019068007411,0.8832518080213492,0.7685977900164016,0.8421916221169349,0.7772906159070807,0.7408579521744609,0.8862583210072,0.8845736693593566,0.8901433109052176,0.883972781384206,0.8952359333114704,0.8944472575632846,0.8635068244231551,0.8523816727990103,0.9902440066407738,1.0156112039046266,0.9443833763450962,0.9311659655639376,0.9030362858782649,0.9854927979489247,1.0963908347994789,1.018999209165822,0.9806709574548043,0.9338564420910712,0.921682819796425,0.9842288518468167,0.8721387545349795,0.7670984243298297,0.7952532705220949,0.8723977069611675],\"type\":\"scattergl\"}],                        {\"template\":{\"data\":{\"barpolar\":[{\"marker\":{\"line\":{\"color\":\"#E5ECF6\",\"width\":0.5},\"pattern\":{\"fillmode\":\"overlay\",\"size\":10,\"solidity\":0.2}},\"type\":\"barpolar\"}],\"bar\":[{\"error_x\":{\"color\":\"#2a3f5f\"},\"error_y\":{\"color\":\"#2a3f5f\"},\"marker\":{\"line\":{\"color\":\"#E5ECF6\",\"width\":0.5},\"pattern\":{\"fillmode\":\"overlay\",\"size\":10,\"solidity\":0.2}},\"type\":\"bar\"}],\"carpet\":[{\"aaxis\":{\"endlinecolor\":\"#2a3f5f\",\"gridcolor\":\"white\",\"linecolor\":\"white\",\"minorgridcolor\":\"white\",\"startlinecolor\":\"#2a3f5f\"},\"baxis\":{\"endlinecolor\":\"#2a3f5f\",\"gridcolor\":\"white\",\"linecolor\":\"white\",\"minorgridcolor\":\"white\",\"startlinecolor\":\"#2a3f5f\"},\"type\":\"carpet\"}],\"choropleth\":[{\"colorbar\":{\"outlinewidth\":0,\"ticks\":\"\"},\"type\":\"choropleth\"}],\"contourcarpet\":[{\"colorbar\":{\"outlinewidth\":0,\"ticks\":\"\"},\"type\":\"contourcarpet\"}],\"contour\":[{\"colorbar\":{\"outlinewidth\":0,\"ticks\":\"\"},\"colorscale\":[[0.0,\"#0d0887\"],[0.1111111111111111,\"#46039f\"],[0.2222222222222222,\"#7201a8\"],[0.3333333333333333,\"#9c179e\"],[0.4444444444444444,\"#bd3786\"],[0.5555555555555556,\"#d8576b\"],[0.6666666666666666,\"#ed7953\"],[0.7777777777777778,\"#fb9f3a\"],[0.8888888888888888,\"#fdca26\"],[1.0,\"#f0f921\"]],\"type\":\"contour\"}],\"heatmapgl\":[{\"colorbar\":{\"outlinewidth\":0,\"ticks\":\"\"},\"colorscale\":[[0.0,\"#0d0887\"],[0.1111111111111111,\"#46039f\"],[0.2222222222222222,\"#7201a8\"],[0.3333333333333333,\"#9c179e\"],[0.4444444444444444,\"#bd3786\"],[0.5555555555555556,\"#d8576b\"],[0.6666666666666666,\"#ed7953\"],[0.7777777777777778,\"#fb9f3a\"],[0.8888888888888888,\"#fdca26\"],[1.0,\"#f0f921\"]],\"type\":\"heatmapgl\"}],\"heatmap\":[{\"colorbar\":{\"outlinewidth\":0,\"ticks\":\"\"},\"colorscale\":[[0.0,\"#0d0887\"],[0.1111111111111111,\"#46039f\"],[0.2222222222222222,\"#7201a8\"],[0.3333333333333333,\"#9c179e\"],[0.4444444444444444,\"#bd3786\"],[0.5555555555555556,\"#d8576b\"],[0.6666666666666666,\"#ed7953\"],[0.7777777777777778,\"#fb9f3a\"],[0.8888888888888888,\"#fdca26\"],[1.0,\"#f0f921\"]],\"type\":\"heatmap\"}],\"histogram2dcontour\":[{\"colorbar\":{\"outlinewidth\":0,\"ticks\":\"\"},\"colorscale\":[[0.0,\"#0d0887\"],[0.1111111111111111,\"#46039f\"],[0.2222222222222222,\"#7201a8\"],[0.3333333333333333,\"#9c179e\"],[0.4444444444444444,\"#bd3786\"],[0.5555555555555556,\"#d8576b\"],[0.6666666666666666,\"#ed7953\"],[0.7777777777777778,\"#fb9f3a\"],[0.8888888888888888,\"#fdca26\"],[1.0,\"#f0f921\"]],\"type\":\"histogram2dcontour\"}],\"histogram2d\":[{\"colorbar\":{\"outlinewidth\":0,\"ticks\":\"\"},\"colorscale\":[[0.0,\"#0d0887\"],[0.1111111111111111,\"#46039f\"],[0.2222222222222222,\"#7201a8\"],[0.3333333333333333,\"#9c179e\"],[0.4444444444444444,\"#bd3786\"],[0.5555555555555556,\"#d8576b\"],[0.6666666666666666,\"#ed7953\"],[0.7777777777777778,\"#fb9f3a\"],[0.8888888888888888,\"#fdca26\"],[1.0,\"#f0f921\"]],\"type\":\"histogram2d\"}],\"histogram\":[{\"marker\":{\"pattern\":{\"fillmode\":\"overlay\",\"size\":10,\"solidity\":0.2}},\"type\":\"histogram\"}],\"mesh3d\":[{\"colorbar\":{\"outlinewidth\":0,\"ticks\":\"\"},\"type\":\"mesh3d\"}],\"parcoords\":[{\"line\":{\"colorbar\":{\"outlinewidth\":0,\"ticks\":\"\"}},\"type\":\"parcoords\"}],\"pie\":[{\"automargin\":true,\"type\":\"pie\"}],\"scatter3d\":[{\"line\":{\"colorbar\":{\"outlinewidth\":0,\"ticks\":\"\"}},\"marker\":{\"colorbar\":{\"outlinewidth\":0,\"ticks\":\"\"}},\"type\":\"scatter3d\"}],\"scattercarpet\":[{\"marker\":{\"colorbar\":{\"outlinewidth\":0,\"ticks\":\"\"}},\"type\":\"scattercarpet\"}],\"scattergeo\":[{\"marker\":{\"colorbar\":{\"outlinewidth\":0,\"ticks\":\"\"}},\"type\":\"scattergeo\"}],\"scattergl\":[{\"marker\":{\"colorbar\":{\"outlinewidth\":0,\"ticks\":\"\"}},\"type\":\"scattergl\"}],\"scattermapbox\":[{\"marker\":{\"colorbar\":{\"outlinewidth\":0,\"ticks\":\"\"}},\"type\":\"scattermapbox\"}],\"scatterpolargl\":[{\"marker\":{\"colorbar\":{\"outlinewidth\":0,\"ticks\":\"\"}},\"type\":\"scatterpolargl\"}],\"scatterpolar\":[{\"marker\":{\"colorbar\":{\"outlinewidth\":0,\"ticks\":\"\"}},\"type\":\"scatterpolar\"}],\"scatter\":[{\"fillpattern\":{\"fillmode\":\"overlay\",\"size\":10,\"solidity\":0.2},\"type\":\"scatter\"}],\"scatterternary\":[{\"marker\":{\"colorbar\":{\"outlinewidth\":0,\"ticks\":\"\"}},\"type\":\"scatterternary\"}],\"surface\":[{\"colorbar\":{\"outlinewidth\":0,\"ticks\":\"\"},\"colorscale\":[[0.0,\"#0d0887\"],[0.1111111111111111,\"#46039f\"],[0.2222222222222222,\"#7201a8\"],[0.3333333333333333,\"#9c179e\"],[0.4444444444444444,\"#bd3786\"],[0.5555555555555556,\"#d8576b\"],[0.6666666666666666,\"#ed7953\"],[0.7777777777777778,\"#fb9f3a\"],[0.8888888888888888,\"#fdca26\"],[1.0,\"#f0f921\"]],\"type\":\"surface\"}],\"table\":[{\"cells\":{\"fill\":{\"color\":\"#EBF0F8\"},\"line\":{\"color\":\"white\"}},\"header\":{\"fill\":{\"color\":\"#C8D4E3\"},\"line\":{\"color\":\"white\"}},\"type\":\"table\"}]},\"layout\":{\"annotationdefaults\":{\"arrowcolor\":\"#2a3f5f\",\"arrowhead\":0,\"arrowwidth\":1},\"autotypenumbers\":\"strict\",\"coloraxis\":{\"colorbar\":{\"outlinewidth\":0,\"ticks\":\"\"}},\"colorscale\":{\"diverging\":[[0,\"#8e0152\"],[0.1,\"#c51b7d\"],[0.2,\"#de77ae\"],[0.3,\"#f1b6da\"],[0.4,\"#fde0ef\"],[0.5,\"#f7f7f7\"],[0.6,\"#e6f5d0\"],[0.7,\"#b8e186\"],[0.8,\"#7fbc41\"],[0.9,\"#4d9221\"],[1,\"#276419\"]],\"sequential\":[[0.0,\"#0d0887\"],[0.1111111111111111,\"#46039f\"],[0.2222222222222222,\"#7201a8\"],[0.3333333333333333,\"#9c179e\"],[0.4444444444444444,\"#bd3786\"],[0.5555555555555556,\"#d8576b\"],[0.6666666666666666,\"#ed7953\"],[0.7777777777777778,\"#fb9f3a\"],[0.8888888888888888,\"#fdca26\"],[1.0,\"#f0f921\"]],\"sequentialminus\":[[0.0,\"#0d0887\"],[0.1111111111111111,\"#46039f\"],[0.2222222222222222,\"#7201a8\"],[0.3333333333333333,\"#9c179e\"],[0.4444444444444444,\"#bd3786\"],[0.5555555555555556,\"#d8576b\"],[0.6666666666666666,\"#ed7953\"],[0.7777777777777778,\"#fb9f3a\"],[0.8888888888888888,\"#fdca26\"],[1.0,\"#f0f921\"]]},\"colorway\":[\"#636efa\",\"#EF553B\",\"#00cc96\",\"#ab63fa\",\"#FFA15A\",\"#19d3f3\",\"#FF6692\",\"#B6E880\",\"#FF97FF\",\"#FECB52\"],\"font\":{\"color\":\"#2a3f5f\"},\"geo\":{\"bgcolor\":\"white\",\"lakecolor\":\"white\",\"landcolor\":\"#E5ECF6\",\"showlakes\":true,\"showland\":true,\"subunitcolor\":\"white\"},\"hoverlabel\":{\"align\":\"left\"},\"hovermode\":\"closest\",\"mapbox\":{\"style\":\"light\"},\"paper_bgcolor\":\"white\",\"plot_bgcolor\":\"#E5ECF6\",\"polar\":{\"angularaxis\":{\"gridcolor\":\"white\",\"linecolor\":\"white\",\"ticks\":\"\"},\"bgcolor\":\"#E5ECF6\",\"radialaxis\":{\"gridcolor\":\"white\",\"linecolor\":\"white\",\"ticks\":\"\"}},\"scene\":{\"xaxis\":{\"backgroundcolor\":\"#E5ECF6\",\"gridcolor\":\"white\",\"gridwidth\":2,\"linecolor\":\"white\",\"showbackground\":true,\"ticks\":\"\",\"zerolinecolor\":\"white\"},\"yaxis\":{\"backgroundcolor\":\"#E5ECF6\",\"gridcolor\":\"white\",\"gridwidth\":2,\"linecolor\":\"white\",\"showbackground\":true,\"ticks\":\"\",\"zerolinecolor\":\"white\"},\"zaxis\":{\"backgroundcolor\":\"#E5ECF6\",\"gridcolor\":\"white\",\"gridwidth\":2,\"linecolor\":\"white\",\"showbackground\":true,\"ticks\":\"\",\"zerolinecolor\":\"white\"}},\"shapedefaults\":{\"line\":{\"color\":\"#2a3f5f\"}},\"ternary\":{\"aaxis\":{\"gridcolor\":\"white\",\"linecolor\":\"white\",\"ticks\":\"\"},\"baxis\":{\"gridcolor\":\"white\",\"linecolor\":\"white\",\"ticks\":\"\"},\"bgcolor\":\"#E5ECF6\",\"caxis\":{\"gridcolor\":\"white\",\"linecolor\":\"white\",\"ticks\":\"\"}},\"title\":{\"x\":0.05},\"xaxis\":{\"automargin\":true,\"gridcolor\":\"white\",\"linecolor\":\"white\",\"ticks\":\"\",\"title\":{\"standoff\":15},\"zerolinecolor\":\"white\",\"zerolinewidth\":2},\"yaxis\":{\"automargin\":true,\"gridcolor\":\"white\",\"linecolor\":\"white\",\"ticks\":\"\",\"title\":{\"standoff\":15},\"zerolinecolor\":\"white\",\"zerolinewidth\":2}}},\"title\":{\"text\":\"Plot series data of: Cumulative IC\"}},                        {\"responsive\": true}                    ).then(function(){\n",
       "                            \n",
       "var gd = document.getElementById('c1860695-4082-4b8e-bec3-b59574e6a3e4');\n",
       "var x = new MutationObserver(function (mutations, observer) {{\n",
       "        var display = window.getComputedStyle(gd).display;\n",
       "        if (!display || display === 'none') {{\n",
       "            console.log([gd, 'removed!']);\n",
       "            Plotly.purge(gd);\n",
       "            observer.disconnect();\n",
       "        }}\n",
       "}});\n",
       "\n",
       "// Listen for the removal of the full notebook cells\n",
       "var notebookContainer = gd.closest('#notebook-container');\n",
       "if (notebookContainer) {{\n",
       "    x.observe(notebookContainer, {childList: true});\n",
       "}}\n",
       "\n",
       "// Listen for the clearing of the current output cell\n",
       "var outputEl = gd.closest('.output');\n",
       "if (outputEl) {{\n",
       "    x.observe(outputEl, {childList: true});\n",
       "}}\n",
       "\n",
       "                        })                };                });            </script>        </div>"
      ]
     },
     "metadata": {},
     "output_type": "display_data"
    }
   ],
   "source": [
    "draw_line(fg.IC(Intraday, cumulative=True))"
   ]
  },
  {
   "cell_type": "code",
   "execution_count": 64,
   "id": "5e5f749c",
   "metadata": {},
   "outputs": [],
   "source": [
    "cols = list(set(fg.mv.columns) & set(Intraday.columns))\n",
    "mv_s = fg.mv.loc[Intraday.index][cols]\n",
    "Intraday_s = Intraday[cols]\n",
    "result = Intraday_s.rolling(20).mean()\n",
    "Intraday_mean = mvNeutralize(df=result, mv=mv_s, fillna=False)\n",
    "\n",
    "result = Intraday_s.rolling(20).std()\n",
    "Intraday_std = mvNeutralize(df=result, mv=mv_s, fillna=False)"
   ]
  },
  {
   "cell_type": "code",
   "execution_count": 62,
   "id": "4c41fa73",
   "metadata": {},
   "outputs": [
    {
     "data": {
      "text/html": [
       "<div>\n",
       "<style scoped>\n",
       "    .dataframe tbody tr th:only-of-type {\n",
       "        vertical-align: middle;\n",
       "    }\n",
       "\n",
       "    .dataframe tbody tr th {\n",
       "        vertical-align: top;\n",
       "    }\n",
       "\n",
       "    .dataframe thead th {\n",
       "        text-align: right;\n",
       "    }\n",
       "</style>\n",
       "<table border=\"1\" class=\"dataframe\">\n",
       "  <thead>\n",
       "    <tr style=\"text-align: right;\">\n",
       "      <th></th>\n",
       "      <th>002910.SZ</th>\n",
       "      <th>300416.SZ</th>\n",
       "      <th>300391.SZ</th>\n",
       "      <th>002703.SZ</th>\n",
       "      <th>000035.SZ</th>\n",
       "      <th>600533.SH</th>\n",
       "      <th>600962.SH</th>\n",
       "      <th>301298.SZ</th>\n",
       "      <th>300045.SZ</th>\n",
       "      <th>600703.SH</th>\n",
       "      <th>...</th>\n",
       "      <th>300360.SZ</th>\n",
       "      <th>600987.SH</th>\n",
       "      <th>002808.SZ</th>\n",
       "      <th>600537.SH</th>\n",
       "      <th>688048.SH</th>\n",
       "      <th>688056.SH</th>\n",
       "      <th>000680.SZ</th>\n",
       "      <th>300392.SZ</th>\n",
       "      <th>000026.SZ</th>\n",
       "      <th>000404.SZ</th>\n",
       "    </tr>\n",
       "    <tr>\n",
       "      <th>trade_date</th>\n",
       "      <th></th>\n",
       "      <th></th>\n",
       "      <th></th>\n",
       "      <th></th>\n",
       "      <th></th>\n",
       "      <th></th>\n",
       "      <th></th>\n",
       "      <th></th>\n",
       "      <th></th>\n",
       "      <th></th>\n",
       "      <th></th>\n",
       "      <th></th>\n",
       "      <th></th>\n",
       "      <th></th>\n",
       "      <th></th>\n",
       "      <th></th>\n",
       "      <th></th>\n",
       "      <th></th>\n",
       "      <th></th>\n",
       "      <th></th>\n",
       "      <th></th>\n",
       "    </tr>\n",
       "  </thead>\n",
       "  <tbody>\n",
       "    <tr>\n",
       "      <th>2021-10-08</th>\n",
       "      <td>-152.267165</td>\n",
       "      <td>-152.267165</td>\n",
       "      <td>-152.267165</td>\n",
       "      <td>-152.267165</td>\n",
       "      <td>-152.267165</td>\n",
       "      <td>-152.267165</td>\n",
       "      <td>-152.267165</td>\n",
       "      <td>-152.267165</td>\n",
       "      <td>-152.267165</td>\n",
       "      <td>-152.267165</td>\n",
       "      <td>...</td>\n",
       "      <td>-152.267165</td>\n",
       "      <td>-152.267165</td>\n",
       "      <td>-152.267165</td>\n",
       "      <td>-152.267165</td>\n",
       "      <td>-152.267165</td>\n",
       "      <td>-152.267165</td>\n",
       "      <td>-152.267165</td>\n",
       "      <td>-152.267165</td>\n",
       "      <td>-152.267165</td>\n",
       "      <td>-152.267165</td>\n",
       "    </tr>\n",
       "    <tr>\n",
       "      <th>2021-10-11</th>\n",
       "      <td>-152.092002</td>\n",
       "      <td>-152.092002</td>\n",
       "      <td>-152.092002</td>\n",
       "      <td>-152.092002</td>\n",
       "      <td>-152.092002</td>\n",
       "      <td>-152.092002</td>\n",
       "      <td>-152.092002</td>\n",
       "      <td>-152.092002</td>\n",
       "      <td>-152.092002</td>\n",
       "      <td>-152.092002</td>\n",
       "      <td>...</td>\n",
       "      <td>-152.092002</td>\n",
       "      <td>-152.092002</td>\n",
       "      <td>-152.092002</td>\n",
       "      <td>-152.092002</td>\n",
       "      <td>-152.092002</td>\n",
       "      <td>-152.092002</td>\n",
       "      <td>-152.092002</td>\n",
       "      <td>-152.092002</td>\n",
       "      <td>-152.092002</td>\n",
       "      <td>-152.092002</td>\n",
       "    </tr>\n",
       "    <tr>\n",
       "      <th>2021-10-12</th>\n",
       "      <td>-149.933836</td>\n",
       "      <td>-149.933836</td>\n",
       "      <td>-149.933836</td>\n",
       "      <td>-149.933836</td>\n",
       "      <td>-149.933836</td>\n",
       "      <td>-149.933836</td>\n",
       "      <td>-149.933836</td>\n",
       "      <td>-149.933836</td>\n",
       "      <td>-149.933836</td>\n",
       "      <td>-149.933836</td>\n",
       "      <td>...</td>\n",
       "      <td>-149.933836</td>\n",
       "      <td>-149.933836</td>\n",
       "      <td>-149.933836</td>\n",
       "      <td>-149.933836</td>\n",
       "      <td>-149.933836</td>\n",
       "      <td>-149.933836</td>\n",
       "      <td>-149.933836</td>\n",
       "      <td>-149.933836</td>\n",
       "      <td>-149.933836</td>\n",
       "      <td>-149.933836</td>\n",
       "    </tr>\n",
       "    <tr>\n",
       "      <th>2021-10-13</th>\n",
       "      <td>-151.092458</td>\n",
       "      <td>-151.092458</td>\n",
       "      <td>-151.092458</td>\n",
       "      <td>-151.092458</td>\n",
       "      <td>-151.092458</td>\n",
       "      <td>-151.092458</td>\n",
       "      <td>-151.092458</td>\n",
       "      <td>-151.092458</td>\n",
       "      <td>-151.092458</td>\n",
       "      <td>-151.092458</td>\n",
       "      <td>...</td>\n",
       "      <td>-151.092458</td>\n",
       "      <td>-151.092458</td>\n",
       "      <td>-151.092458</td>\n",
       "      <td>-151.092458</td>\n",
       "      <td>-151.092458</td>\n",
       "      <td>-151.092458</td>\n",
       "      <td>-151.092458</td>\n",
       "      <td>-151.092458</td>\n",
       "      <td>-151.092458</td>\n",
       "      <td>-151.092458</td>\n",
       "    </tr>\n",
       "    <tr>\n",
       "      <th>2021-10-14</th>\n",
       "      <td>-151.167440</td>\n",
       "      <td>-151.167440</td>\n",
       "      <td>-151.167440</td>\n",
       "      <td>-151.167440</td>\n",
       "      <td>-151.167440</td>\n",
       "      <td>-151.167440</td>\n",
       "      <td>-151.167440</td>\n",
       "      <td>-151.167440</td>\n",
       "      <td>-151.167440</td>\n",
       "      <td>-151.167440</td>\n",
       "      <td>...</td>\n",
       "      <td>-151.167440</td>\n",
       "      <td>-151.167440</td>\n",
       "      <td>-151.167440</td>\n",
       "      <td>-151.167440</td>\n",
       "      <td>-151.167440</td>\n",
       "      <td>-151.167440</td>\n",
       "      <td>-151.167440</td>\n",
       "      <td>-151.167440</td>\n",
       "      <td>-151.167440</td>\n",
       "      <td>-151.167440</td>\n",
       "    </tr>\n",
       "    <tr>\n",
       "      <th>...</th>\n",
       "      <td>...</td>\n",
       "      <td>...</td>\n",
       "      <td>...</td>\n",
       "      <td>...</td>\n",
       "      <td>...</td>\n",
       "      <td>...</td>\n",
       "      <td>...</td>\n",
       "      <td>...</td>\n",
       "      <td>...</td>\n",
       "      <td>...</td>\n",
       "      <td>...</td>\n",
       "      <td>...</td>\n",
       "      <td>...</td>\n",
       "      <td>...</td>\n",
       "      <td>...</td>\n",
       "      <td>...</td>\n",
       "      <td>...</td>\n",
       "      <td>...</td>\n",
       "      <td>...</td>\n",
       "      <td>...</td>\n",
       "      <td>...</td>\n",
       "    </tr>\n",
       "    <tr>\n",
       "      <th>2022-09-22</th>\n",
       "      <td>-148.813774</td>\n",
       "      <td>-140.890647</td>\n",
       "      <td>-141.091927</td>\n",
       "      <td>-150.241035</td>\n",
       "      <td>-148.026951</td>\n",
       "      <td>-138.804650</td>\n",
       "      <td>-143.726870</td>\n",
       "      <td>-148.777177</td>\n",
       "      <td>-143.415800</td>\n",
       "      <td>-146.325216</td>\n",
       "      <td>...</td>\n",
       "      <td>-145.282218</td>\n",
       "      <td>-144.916254</td>\n",
       "      <td>-145.593288</td>\n",
       "      <td>-140.652770</td>\n",
       "      <td>-141.494488</td>\n",
       "      <td>-146.947356</td>\n",
       "      <td>-142.775363</td>\n",
       "      <td>-137.834845</td>\n",
       "      <td>-147.331618</td>\n",
       "      <td>-146.233725</td>\n",
       "    </tr>\n",
       "    <tr>\n",
       "      <th>2022-09-23</th>\n",
       "      <td>-143.965863</td>\n",
       "      <td>-142.455858</td>\n",
       "      <td>-142.323457</td>\n",
       "      <td>-144.035216</td>\n",
       "      <td>-143.493001</td>\n",
       "      <td>-142.115398</td>\n",
       "      <td>-143.061121</td>\n",
       "      <td>-143.861833</td>\n",
       "      <td>-143.139931</td>\n",
       "      <td>-143.467782</td>\n",
       "      <td>...</td>\n",
       "      <td>-143.215589</td>\n",
       "      <td>-143.316466</td>\n",
       "      <td>-143.537135</td>\n",
       "      <td>-142.531516</td>\n",
       "      <td>-142.572497</td>\n",
       "      <td>-143.382667</td>\n",
       "      <td>-143.111560</td>\n",
       "      <td>-142.017673</td>\n",
       "      <td>-143.887053</td>\n",
       "      <td>-143.360600</td>\n",
       "    </tr>\n",
       "    <tr>\n",
       "      <th>2022-09-26</th>\n",
       "      <td>-133.969539</td>\n",
       "      <td>-156.430861</td>\n",
       "      <td>-149.219352</td>\n",
       "      <td>-132.361878</td>\n",
       "      <td>-139.527453</td>\n",
       "      <td>-155.925596</td>\n",
       "      <td>-144.993500</td>\n",
       "      <td>-129.743687</td>\n",
       "      <td>-145.452832</td>\n",
       "      <td>-140.124584</td>\n",
       "      <td>...</td>\n",
       "      <td>-138.057591</td>\n",
       "      <td>-143.799238</td>\n",
       "      <td>-138.149458</td>\n",
       "      <td>-151.378211</td>\n",
       "      <td>-155.006932</td>\n",
       "      <td>-140.997314</td>\n",
       "      <td>-144.304503</td>\n",
       "      <td>-154.226068</td>\n",
       "      <td>-128.825023</td>\n",
       "      <td>-139.757119</td>\n",
       "    </tr>\n",
       "    <tr>\n",
       "      <th>2022-09-27</th>\n",
       "      <td>-144.833319</td>\n",
       "      <td>-176.057964</td>\n",
       "      <td>-167.069051</td>\n",
       "      <td>-127.407444</td>\n",
       "      <td>-135.844406</td>\n",
       "      <td>-166.201700</td>\n",
       "      <td>-148.381574</td>\n",
       "      <td>-122.912988</td>\n",
       "      <td>-168.567204</td>\n",
       "      <td>-131.901901</td>\n",
       "      <td>...</td>\n",
       "      <td>-141.679315</td>\n",
       "      <td>-142.862066</td>\n",
       "      <td>-137.421408</td>\n",
       "      <td>-165.018948</td>\n",
       "      <td>-168.567204</td>\n",
       "      <td>-144.991019</td>\n",
       "      <td>-151.772129</td>\n",
       "      <td>-168.330653</td>\n",
       "      <td>-124.726540</td>\n",
       "      <td>-129.457547</td>\n",
       "    </tr>\n",
       "    <tr>\n",
       "      <th>2022-09-28</th>\n",
       "      <td>-138.841064</td>\n",
       "      <td>-181.682023</td>\n",
       "      <td>-166.916450</td>\n",
       "      <td>-100.367388</td>\n",
       "      <td>-136.761406</td>\n",
       "      <td>-163.796963</td>\n",
       "      <td>-126.571081</td>\n",
       "      <td>-106.814328</td>\n",
       "      <td>-172.843476</td>\n",
       "      <td>-118.564397</td>\n",
       "      <td>...</td>\n",
       "      <td>-125.427269</td>\n",
       "      <td>-130.106500</td>\n",
       "      <td>-125.739218</td>\n",
       "      <td>-168.684159</td>\n",
       "      <td>-171.907629</td>\n",
       "      <td>-134.681748</td>\n",
       "      <td>-155.270364</td>\n",
       "      <td>-165.668655</td>\n",
       "      <td>-113.053303</td>\n",
       "      <td>-120.020158</td>\n",
       "    </tr>\n",
       "  </tbody>\n",
       "</table>\n",
       "<p>241 rows × 4867 columns</p>\n",
       "</div>"
      ],
      "text/plain": [
       "             002910.SZ   300416.SZ   300391.SZ   002703.SZ   000035.SZ  \\\n",
       "trade_date                                                               \n",
       "2021-10-08 -152.267165 -152.267165 -152.267165 -152.267165 -152.267165   \n",
       "2021-10-11 -152.092002 -152.092002 -152.092002 -152.092002 -152.092002   \n",
       "2021-10-12 -149.933836 -149.933836 -149.933836 -149.933836 -149.933836   \n",
       "2021-10-13 -151.092458 -151.092458 -151.092458 -151.092458 -151.092458   \n",
       "2021-10-14 -151.167440 -151.167440 -151.167440 -151.167440 -151.167440   \n",
       "...                ...         ...         ...         ...         ...   \n",
       "2022-09-22 -148.813774 -140.890647 -141.091927 -150.241035 -148.026951   \n",
       "2022-09-23 -143.965863 -142.455858 -142.323457 -144.035216 -143.493001   \n",
       "2022-09-26 -133.969539 -156.430861 -149.219352 -132.361878 -139.527453   \n",
       "2022-09-27 -144.833319 -176.057964 -167.069051 -127.407444 -135.844406   \n",
       "2022-09-28 -138.841064 -181.682023 -166.916450 -100.367388 -136.761406   \n",
       "\n",
       "             600533.SH   600962.SH   301298.SZ   300045.SZ   600703.SH  ...  \\\n",
       "trade_date                                                              ...   \n",
       "2021-10-08 -152.267165 -152.267165 -152.267165 -152.267165 -152.267165  ...   \n",
       "2021-10-11 -152.092002 -152.092002 -152.092002 -152.092002 -152.092002  ...   \n",
       "2021-10-12 -149.933836 -149.933836 -149.933836 -149.933836 -149.933836  ...   \n",
       "2021-10-13 -151.092458 -151.092458 -151.092458 -151.092458 -151.092458  ...   \n",
       "2021-10-14 -151.167440 -151.167440 -151.167440 -151.167440 -151.167440  ...   \n",
       "...                ...         ...         ...         ...         ...  ...   \n",
       "2022-09-22 -138.804650 -143.726870 -148.777177 -143.415800 -146.325216  ...   \n",
       "2022-09-23 -142.115398 -143.061121 -143.861833 -143.139931 -143.467782  ...   \n",
       "2022-09-26 -155.925596 -144.993500 -129.743687 -145.452832 -140.124584  ...   \n",
       "2022-09-27 -166.201700 -148.381574 -122.912988 -168.567204 -131.901901  ...   \n",
       "2022-09-28 -163.796963 -126.571081 -106.814328 -172.843476 -118.564397  ...   \n",
       "\n",
       "             300360.SZ   600987.SH   002808.SZ   600537.SH   688048.SH  \\\n",
       "trade_date                                                               \n",
       "2021-10-08 -152.267165 -152.267165 -152.267165 -152.267165 -152.267165   \n",
       "2021-10-11 -152.092002 -152.092002 -152.092002 -152.092002 -152.092002   \n",
       "2021-10-12 -149.933836 -149.933836 -149.933836 -149.933836 -149.933836   \n",
       "2021-10-13 -151.092458 -151.092458 -151.092458 -151.092458 -151.092458   \n",
       "2021-10-14 -151.167440 -151.167440 -151.167440 -151.167440 -151.167440   \n",
       "...                ...         ...         ...         ...         ...   \n",
       "2022-09-22 -145.282218 -144.916254 -145.593288 -140.652770 -141.494488   \n",
       "2022-09-23 -143.215589 -143.316466 -143.537135 -142.531516 -142.572497   \n",
       "2022-09-26 -138.057591 -143.799238 -138.149458 -151.378211 -155.006932   \n",
       "2022-09-27 -141.679315 -142.862066 -137.421408 -165.018948 -168.567204   \n",
       "2022-09-28 -125.427269 -130.106500 -125.739218 -168.684159 -171.907629   \n",
       "\n",
       "             688056.SH   000680.SZ   300392.SZ   000026.SZ   000404.SZ  \n",
       "trade_date                                                              \n",
       "2021-10-08 -152.267165 -152.267165 -152.267165 -152.267165 -152.267165  \n",
       "2021-10-11 -152.092002 -152.092002 -152.092002 -152.092002 -152.092002  \n",
       "2021-10-12 -149.933836 -149.933836 -149.933836 -149.933836 -149.933836  \n",
       "2021-10-13 -151.092458 -151.092458 -151.092458 -151.092458 -151.092458  \n",
       "2021-10-14 -151.167440 -151.167440 -151.167440 -151.167440 -151.167440  \n",
       "...                ...         ...         ...         ...         ...  \n",
       "2022-09-22 -146.947356 -142.775363 -137.834845 -147.331618 -146.233725  \n",
       "2022-09-23 -143.382667 -143.111560 -142.017673 -143.887053 -143.360600  \n",
       "2022-09-26 -140.997314 -144.304503 -154.226068 -128.825023 -139.757119  \n",
       "2022-09-27 -144.991019 -151.772129 -168.330653 -124.726540 -129.457547  \n",
       "2022-09-28 -134.681748 -155.270364 -165.668655 -113.053303 -120.020158  \n",
       "\n",
       "[241 rows x 4867 columns]"
      ]
     },
     "execution_count": 62,
     "metadata": {},
     "output_type": "execute_result"
    }
   ],
   "source": [
    "Intraday_mean = fg.CP_Mean(intraday=Intraday)\n"
   ]
  },
  {
   "cell_type": "code",
   "execution_count": 63,
   "id": "659109f9",
   "metadata": {},
   "outputs": [
    {
     "data": {
      "text/html": [
       "<div>\n",
       "<style scoped>\n",
       "    .dataframe tbody tr th:only-of-type {\n",
       "        vertical-align: middle;\n",
       "    }\n",
       "\n",
       "    .dataframe tbody tr th {\n",
       "        vertical-align: top;\n",
       "    }\n",
       "\n",
       "    .dataframe thead th {\n",
       "        text-align: right;\n",
       "    }\n",
       "</style>\n",
       "<table border=\"1\" class=\"dataframe\">\n",
       "  <thead>\n",
       "    <tr style=\"text-align: right;\">\n",
       "      <th></th>\n",
       "      <th>002910.SZ</th>\n",
       "      <th>300416.SZ</th>\n",
       "      <th>300391.SZ</th>\n",
       "      <th>002703.SZ</th>\n",
       "      <th>000035.SZ</th>\n",
       "      <th>600533.SH</th>\n",
       "      <th>600962.SH</th>\n",
       "      <th>301298.SZ</th>\n",
       "      <th>300045.SZ</th>\n",
       "      <th>600703.SH</th>\n",
       "      <th>...</th>\n",
       "      <th>300360.SZ</th>\n",
       "      <th>600987.SH</th>\n",
       "      <th>002808.SZ</th>\n",
       "      <th>600537.SH</th>\n",
       "      <th>688048.SH</th>\n",
       "      <th>688056.SH</th>\n",
       "      <th>000680.SZ</th>\n",
       "      <th>300392.SZ</th>\n",
       "      <th>000026.SZ</th>\n",
       "      <th>000404.SZ</th>\n",
       "    </tr>\n",
       "    <tr>\n",
       "      <th>trade_date</th>\n",
       "      <th></th>\n",
       "      <th></th>\n",
       "      <th></th>\n",
       "      <th></th>\n",
       "      <th></th>\n",
       "      <th></th>\n",
       "      <th></th>\n",
       "      <th></th>\n",
       "      <th></th>\n",
       "      <th></th>\n",
       "      <th></th>\n",
       "      <th></th>\n",
       "      <th></th>\n",
       "      <th></th>\n",
       "      <th></th>\n",
       "      <th></th>\n",
       "      <th></th>\n",
       "      <th></th>\n",
       "      <th></th>\n",
       "      <th></th>\n",
       "      <th></th>\n",
       "    </tr>\n",
       "  </thead>\n",
       "  <tbody>\n",
       "    <tr>\n",
       "      <th>2021-10-08</th>\n",
       "      <td>NaN</td>\n",
       "      <td>NaN</td>\n",
       "      <td>NaN</td>\n",
       "      <td>NaN</td>\n",
       "      <td>NaN</td>\n",
       "      <td>NaN</td>\n",
       "      <td>NaN</td>\n",
       "      <td>NaN</td>\n",
       "      <td>NaN</td>\n",
       "      <td>NaN</td>\n",
       "      <td>...</td>\n",
       "      <td>NaN</td>\n",
       "      <td>NaN</td>\n",
       "      <td>NaN</td>\n",
       "      <td>NaN</td>\n",
       "      <td>NaN</td>\n",
       "      <td>NaN</td>\n",
       "      <td>NaN</td>\n",
       "      <td>NaN</td>\n",
       "      <td>NaN</td>\n",
       "      <td>NaN</td>\n",
       "    </tr>\n",
       "    <tr>\n",
       "      <th>2021-10-11</th>\n",
       "      <td>NaN</td>\n",
       "      <td>NaN</td>\n",
       "      <td>NaN</td>\n",
       "      <td>NaN</td>\n",
       "      <td>NaN</td>\n",
       "      <td>NaN</td>\n",
       "      <td>NaN</td>\n",
       "      <td>NaN</td>\n",
       "      <td>NaN</td>\n",
       "      <td>NaN</td>\n",
       "      <td>...</td>\n",
       "      <td>NaN</td>\n",
       "      <td>NaN</td>\n",
       "      <td>NaN</td>\n",
       "      <td>NaN</td>\n",
       "      <td>NaN</td>\n",
       "      <td>NaN</td>\n",
       "      <td>NaN</td>\n",
       "      <td>NaN</td>\n",
       "      <td>NaN</td>\n",
       "      <td>NaN</td>\n",
       "    </tr>\n",
       "    <tr>\n",
       "      <th>2021-10-12</th>\n",
       "      <td>NaN</td>\n",
       "      <td>NaN</td>\n",
       "      <td>NaN</td>\n",
       "      <td>NaN</td>\n",
       "      <td>NaN</td>\n",
       "      <td>NaN</td>\n",
       "      <td>NaN</td>\n",
       "      <td>NaN</td>\n",
       "      <td>NaN</td>\n",
       "      <td>NaN</td>\n",
       "      <td>...</td>\n",
       "      <td>NaN</td>\n",
       "      <td>NaN</td>\n",
       "      <td>NaN</td>\n",
       "      <td>NaN</td>\n",
       "      <td>NaN</td>\n",
       "      <td>NaN</td>\n",
       "      <td>NaN</td>\n",
       "      <td>NaN</td>\n",
       "      <td>NaN</td>\n",
       "      <td>NaN</td>\n",
       "    </tr>\n",
       "    <tr>\n",
       "      <th>2021-10-13</th>\n",
       "      <td>NaN</td>\n",
       "      <td>NaN</td>\n",
       "      <td>NaN</td>\n",
       "      <td>NaN</td>\n",
       "      <td>NaN</td>\n",
       "      <td>NaN</td>\n",
       "      <td>NaN</td>\n",
       "      <td>NaN</td>\n",
       "      <td>NaN</td>\n",
       "      <td>NaN</td>\n",
       "      <td>...</td>\n",
       "      <td>NaN</td>\n",
       "      <td>NaN</td>\n",
       "      <td>NaN</td>\n",
       "      <td>NaN</td>\n",
       "      <td>NaN</td>\n",
       "      <td>NaN</td>\n",
       "      <td>NaN</td>\n",
       "      <td>NaN</td>\n",
       "      <td>NaN</td>\n",
       "      <td>NaN</td>\n",
       "    </tr>\n",
       "    <tr>\n",
       "      <th>2021-10-14</th>\n",
       "      <td>NaN</td>\n",
       "      <td>NaN</td>\n",
       "      <td>NaN</td>\n",
       "      <td>NaN</td>\n",
       "      <td>NaN</td>\n",
       "      <td>NaN</td>\n",
       "      <td>NaN</td>\n",
       "      <td>NaN</td>\n",
       "      <td>NaN</td>\n",
       "      <td>NaN</td>\n",
       "      <td>...</td>\n",
       "      <td>NaN</td>\n",
       "      <td>NaN</td>\n",
       "      <td>NaN</td>\n",
       "      <td>NaN</td>\n",
       "      <td>NaN</td>\n",
       "      <td>NaN</td>\n",
       "      <td>NaN</td>\n",
       "      <td>NaN</td>\n",
       "      <td>NaN</td>\n",
       "      <td>NaN</td>\n",
       "    </tr>\n",
       "    <tr>\n",
       "      <th>...</th>\n",
       "      <td>...</td>\n",
       "      <td>...</td>\n",
       "      <td>...</td>\n",
       "      <td>...</td>\n",
       "      <td>...</td>\n",
       "      <td>...</td>\n",
       "      <td>...</td>\n",
       "      <td>...</td>\n",
       "      <td>...</td>\n",
       "      <td>...</td>\n",
       "      <td>...</td>\n",
       "      <td>...</td>\n",
       "      <td>...</td>\n",
       "      <td>...</td>\n",
       "      <td>...</td>\n",
       "      <td>...</td>\n",
       "      <td>...</td>\n",
       "      <td>...</td>\n",
       "      <td>...</td>\n",
       "      <td>...</td>\n",
       "      <td>...</td>\n",
       "    </tr>\n",
       "    <tr>\n",
       "      <th>2022-09-22</th>\n",
       "      <td>-11.150</td>\n",
       "      <td>-0.325</td>\n",
       "      <td>-0.600</td>\n",
       "      <td>-13.100</td>\n",
       "      <td>-10.075</td>\n",
       "      <td>2.525</td>\n",
       "      <td>-4.200</td>\n",
       "      <td>-11.100</td>\n",
       "      <td>-3.775</td>\n",
       "      <td>-7.750</td>\n",
       "      <td>...</td>\n",
       "      <td>-6.325</td>\n",
       "      <td>-5.825</td>\n",
       "      <td>-6.750</td>\n",
       "      <td>NaN</td>\n",
       "      <td>-1.150</td>\n",
       "      <td>-8.600</td>\n",
       "      <td>-2.900</td>\n",
       "      <td>3.850</td>\n",
       "      <td>-9.125</td>\n",
       "      <td>-7.625</td>\n",
       "    </tr>\n",
       "    <tr>\n",
       "      <th>2022-09-23</th>\n",
       "      <td>-11.375</td>\n",
       "      <td>0.600</td>\n",
       "      <td>1.650</td>\n",
       "      <td>-11.925</td>\n",
       "      <td>-7.625</td>\n",
       "      <td>3.300</td>\n",
       "      <td>-4.200</td>\n",
       "      <td>-10.550</td>\n",
       "      <td>-4.825</td>\n",
       "      <td>-7.425</td>\n",
       "      <td>...</td>\n",
       "      <td>-5.425</td>\n",
       "      <td>-6.225</td>\n",
       "      <td>-7.975</td>\n",
       "      <td>NaN</td>\n",
       "      <td>-0.325</td>\n",
       "      <td>-6.750</td>\n",
       "      <td>-4.600</td>\n",
       "      <td>4.075</td>\n",
       "      <td>-10.750</td>\n",
       "      <td>-6.575</td>\n",
       "    </tr>\n",
       "    <tr>\n",
       "      <th>2022-09-26</th>\n",
       "      <td>-9.475</td>\n",
       "      <td>2.750</td>\n",
       "      <td>-1.175</td>\n",
       "      <td>-10.350</td>\n",
       "      <td>-6.450</td>\n",
       "      <td>2.475</td>\n",
       "      <td>-3.475</td>\n",
       "      <td>-11.775</td>\n",
       "      <td>-3.225</td>\n",
       "      <td>-6.125</td>\n",
       "      <td>...</td>\n",
       "      <td>-7.250</td>\n",
       "      <td>-4.125</td>\n",
       "      <td>-7.200</td>\n",
       "      <td>NaN</td>\n",
       "      <td>1.975</td>\n",
       "      <td>-5.650</td>\n",
       "      <td>-3.850</td>\n",
       "      <td>1.550</td>\n",
       "      <td>-12.275</td>\n",
       "      <td>-6.325</td>\n",
       "    </tr>\n",
       "    <tr>\n",
       "      <th>2022-09-27</th>\n",
       "      <td>-6.400</td>\n",
       "      <td>3.500</td>\n",
       "      <td>0.650</td>\n",
       "      <td>-11.925</td>\n",
       "      <td>-9.250</td>\n",
       "      <td>0.375</td>\n",
       "      <td>-5.275</td>\n",
       "      <td>-13.350</td>\n",
       "      <td>1.125</td>\n",
       "      <td>-10.500</td>\n",
       "      <td>...</td>\n",
       "      <td>-7.400</td>\n",
       "      <td>-7.025</td>\n",
       "      <td>-8.750</td>\n",
       "      <td>NaN</td>\n",
       "      <td>1.125</td>\n",
       "      <td>-6.350</td>\n",
       "      <td>-4.200</td>\n",
       "      <td>1.050</td>\n",
       "      <td>-12.775</td>\n",
       "      <td>-11.275</td>\n",
       "    </tr>\n",
       "    <tr>\n",
       "      <th>2022-09-28</th>\n",
       "      <td>-7.175</td>\n",
       "      <td>3.125</td>\n",
       "      <td>-0.425</td>\n",
       "      <td>-16.425</td>\n",
       "      <td>-7.675</td>\n",
       "      <td>-1.175</td>\n",
       "      <td>-10.125</td>\n",
       "      <td>-14.875</td>\n",
       "      <td>1.000</td>\n",
       "      <td>-12.050</td>\n",
       "      <td>...</td>\n",
       "      <td>-10.400</td>\n",
       "      <td>-9.275</td>\n",
       "      <td>-10.325</td>\n",
       "      <td>NaN</td>\n",
       "      <td>0.775</td>\n",
       "      <td>-8.175</td>\n",
       "      <td>-3.225</td>\n",
       "      <td>-0.725</td>\n",
       "      <td>-13.375</td>\n",
       "      <td>-11.700</td>\n",
       "    </tr>\n",
       "  </tbody>\n",
       "</table>\n",
       "<p>241 rows × 4867 columns</p>\n",
       "</div>"
      ],
      "text/plain": [
       "            002910.SZ  300416.SZ  300391.SZ  002703.SZ  000035.SZ  600533.SH  \\\n",
       "trade_date                                                                     \n",
       "2021-10-08        NaN        NaN        NaN        NaN        NaN        NaN   \n",
       "2021-10-11        NaN        NaN        NaN        NaN        NaN        NaN   \n",
       "2021-10-12        NaN        NaN        NaN        NaN        NaN        NaN   \n",
       "2021-10-13        NaN        NaN        NaN        NaN        NaN        NaN   \n",
       "2021-10-14        NaN        NaN        NaN        NaN        NaN        NaN   \n",
       "...               ...        ...        ...        ...        ...        ...   \n",
       "2022-09-22    -11.150     -0.325     -0.600    -13.100    -10.075      2.525   \n",
       "2022-09-23    -11.375      0.600      1.650    -11.925     -7.625      3.300   \n",
       "2022-09-26     -9.475      2.750     -1.175    -10.350     -6.450      2.475   \n",
       "2022-09-27     -6.400      3.500      0.650    -11.925     -9.250      0.375   \n",
       "2022-09-28     -7.175      3.125     -0.425    -16.425     -7.675     -1.175   \n",
       "\n",
       "            600962.SH  301298.SZ  300045.SZ  600703.SH  ...  300360.SZ  \\\n",
       "trade_date                                              ...              \n",
       "2021-10-08        NaN        NaN        NaN        NaN  ...        NaN   \n",
       "2021-10-11        NaN        NaN        NaN        NaN  ...        NaN   \n",
       "2021-10-12        NaN        NaN        NaN        NaN  ...        NaN   \n",
       "2021-10-13        NaN        NaN        NaN        NaN  ...        NaN   \n",
       "2021-10-14        NaN        NaN        NaN        NaN  ...        NaN   \n",
       "...               ...        ...        ...        ...  ...        ...   \n",
       "2022-09-22     -4.200    -11.100     -3.775     -7.750  ...     -6.325   \n",
       "2022-09-23     -4.200    -10.550     -4.825     -7.425  ...     -5.425   \n",
       "2022-09-26     -3.475    -11.775     -3.225     -6.125  ...     -7.250   \n",
       "2022-09-27     -5.275    -13.350      1.125    -10.500  ...     -7.400   \n",
       "2022-09-28    -10.125    -14.875      1.000    -12.050  ...    -10.400   \n",
       "\n",
       "            600987.SH  002808.SZ  600537.SH  688048.SH  688056.SH  000680.SZ  \\\n",
       "trade_date                                                                     \n",
       "2021-10-08        NaN        NaN        NaN        NaN        NaN        NaN   \n",
       "2021-10-11        NaN        NaN        NaN        NaN        NaN        NaN   \n",
       "2021-10-12        NaN        NaN        NaN        NaN        NaN        NaN   \n",
       "2021-10-13        NaN        NaN        NaN        NaN        NaN        NaN   \n",
       "2021-10-14        NaN        NaN        NaN        NaN        NaN        NaN   \n",
       "...               ...        ...        ...        ...        ...        ...   \n",
       "2022-09-22     -5.825     -6.750        NaN     -1.150     -8.600     -2.900   \n",
       "2022-09-23     -6.225     -7.975        NaN     -0.325     -6.750     -4.600   \n",
       "2022-09-26     -4.125     -7.200        NaN      1.975     -5.650     -3.850   \n",
       "2022-09-27     -7.025     -8.750        NaN      1.125     -6.350     -4.200   \n",
       "2022-09-28     -9.275    -10.325        NaN      0.775     -8.175     -3.225   \n",
       "\n",
       "            300392.SZ  000026.SZ  000404.SZ  \n",
       "trade_date                                   \n",
       "2021-10-08        NaN        NaN        NaN  \n",
       "2021-10-11        NaN        NaN        NaN  \n",
       "2021-10-12        NaN        NaN        NaN  \n",
       "2021-10-13        NaN        NaN        NaN  \n",
       "2021-10-14        NaN        NaN        NaN  \n",
       "...               ...        ...        ...  \n",
       "2022-09-22      3.850     -9.125     -7.625  \n",
       "2022-09-23      4.075    -10.750     -6.575  \n",
       "2022-09-26      1.550    -12.275     -6.325  \n",
       "2022-09-27      1.050    -12.775    -11.275  \n",
       "2022-09-28     -0.725    -13.375    -11.700  \n",
       "\n",
       "[241 rows x 4867 columns]"
      ]
     },
     "execution_count": 63,
     "metadata": {},
     "output_type": "execute_result"
    }
   ],
   "source": [
    "fg."
   ]
  },
  {
   "cell_type": "code",
   "execution_count": 3,
   "id": "1613ff07",
   "metadata": {},
   "outputs": [],
   "source": [
    "tbm = fg.TANH_Balanced_Money()"
   ]
  },
  {
   "cell_type": "code",
   "execution_count": 68,
   "id": "42d4a169",
   "metadata": {},
   "outputs": [],
   "source": [
    "cps = Intraday_std\n",
    "for row in range(len(cps)):\n",
    "    cps.iloc[row, :] = np.argsort(a=-cps.iloc[row, :], kind=\"quicksort\")\n",
    "cps = cps + 2"
   ]
  },
  {
   "cell_type": "code",
   "execution_count": 69,
   "id": "62b9be46",
   "metadata": {},
   "outputs": [],
   "source": []
  },
  {
   "cell_type": "code",
   "execution_count": 5,
   "id": "7871e684",
   "metadata": {},
   "outputs": [],
   "source": [
    "tbm = fg.TANH_Balanced_Money()"
   ]
  },
  {
   "cell_type": "code",
   "execution_count": 8,
   "id": "dbb12dae",
   "metadata": {},
   "outputs": [
    {
     "data": {
      "text/html": [
       "<div>\n",
       "<style scoped>\n",
       "    .dataframe tbody tr th:only-of-type {\n",
       "        vertical-align: middle;\n",
       "    }\n",
       "\n",
       "    .dataframe tbody tr th {\n",
       "        vertical-align: top;\n",
       "    }\n",
       "\n",
       "    .dataframe thead th {\n",
       "        text-align: right;\n",
       "    }\n",
       "</style>\n",
       "<table border=\"1\" class=\"dataframe\">\n",
       "  <thead>\n",
       "    <tr style=\"text-align: right;\">\n",
       "      <th></th>\n",
       "      <th>000001.SZ</th>\n",
       "      <th>000002.SZ</th>\n",
       "      <th>000004.SZ</th>\n",
       "      <th>000005.SZ</th>\n",
       "      <th>000006.SZ</th>\n",
       "      <th>000007.SZ</th>\n",
       "      <th>000008.SZ</th>\n",
       "      <th>000009.SZ</th>\n",
       "      <th>000010.SZ</th>\n",
       "      <th>000011.SZ</th>\n",
       "      <th>...</th>\n",
       "      <th>688787.SH</th>\n",
       "      <th>688788.SH</th>\n",
       "      <th>688789.SH</th>\n",
       "      <th>688793.SH</th>\n",
       "      <th>688798.SH</th>\n",
       "      <th>688799.SH</th>\n",
       "      <th>688800.SH</th>\n",
       "      <th>688819.SH</th>\n",
       "      <th>688981.SH</th>\n",
       "      <th>689009.SH</th>\n",
       "    </tr>\n",
       "    <tr>\n",
       "      <th>trade_date</th>\n",
       "      <th></th>\n",
       "      <th></th>\n",
       "      <th></th>\n",
       "      <th></th>\n",
       "      <th></th>\n",
       "      <th></th>\n",
       "      <th></th>\n",
       "      <th></th>\n",
       "      <th></th>\n",
       "      <th></th>\n",
       "      <th></th>\n",
       "      <th></th>\n",
       "      <th></th>\n",
       "      <th></th>\n",
       "      <th></th>\n",
       "      <th></th>\n",
       "      <th></th>\n",
       "      <th></th>\n",
       "      <th></th>\n",
       "      <th></th>\n",
       "      <th></th>\n",
       "    </tr>\n",
       "  </thead>\n",
       "  <tbody>\n",
       "    <tr>\n",
       "      <th>2005-01-04</th>\n",
       "      <td>1.146560e+07</td>\n",
       "      <td>5.451420e+07</td>\n",
       "      <td>1789900.0</td>\n",
       "      <td>1864270.0</td>\n",
       "      <td>1191630.0</td>\n",
       "      <td>974110.0</td>\n",
       "      <td>592675.0</td>\n",
       "      <td>2.805200e+06</td>\n",
       "      <td>1534490.0</td>\n",
       "      <td>1832270.0</td>\n",
       "      <td>...</td>\n",
       "      <td>NaN</td>\n",
       "      <td>NaN</td>\n",
       "      <td>NaN</td>\n",
       "      <td>NaN</td>\n",
       "      <td>NaN</td>\n",
       "      <td>NaN</td>\n",
       "      <td>NaN</td>\n",
       "      <td>NaN</td>\n",
       "      <td>NaN</td>\n",
       "      <td>NaN</td>\n",
       "    </tr>\n",
       "    <tr>\n",
       "      <th>2005-01-05</th>\n",
       "      <td>2.071860e+07</td>\n",
       "      <td>9.478190e+07</td>\n",
       "      <td>3190160.0</td>\n",
       "      <td>1810880.0</td>\n",
       "      <td>1238550.0</td>\n",
       "      <td>1122530.0</td>\n",
       "      <td>722853.0</td>\n",
       "      <td>2.767720e+06</td>\n",
       "      <td>2383290.0</td>\n",
       "      <td>1346120.0</td>\n",
       "      <td>...</td>\n",
       "      <td>NaN</td>\n",
       "      <td>NaN</td>\n",
       "      <td>NaN</td>\n",
       "      <td>NaN</td>\n",
       "      <td>NaN</td>\n",
       "      <td>NaN</td>\n",
       "      <td>NaN</td>\n",
       "      <td>NaN</td>\n",
       "      <td>NaN</td>\n",
       "      <td>NaN</td>\n",
       "    </tr>\n",
       "    <tr>\n",
       "      <th>2005-01-06</th>\n",
       "      <td>1.733380e+07</td>\n",
       "      <td>9.925340e+07</td>\n",
       "      <td>3103200.0</td>\n",
       "      <td>1697600.0</td>\n",
       "      <td>1089230.0</td>\n",
       "      <td>1050550.0</td>\n",
       "      <td>1774380.0</td>\n",
       "      <td>2.134000e+06</td>\n",
       "      <td>3015490.0</td>\n",
       "      <td>567355.0</td>\n",
       "      <td>...</td>\n",
       "      <td>NaN</td>\n",
       "      <td>NaN</td>\n",
       "      <td>NaN</td>\n",
       "      <td>NaN</td>\n",
       "      <td>NaN</td>\n",
       "      <td>NaN</td>\n",
       "      <td>NaN</td>\n",
       "      <td>NaN</td>\n",
       "      <td>NaN</td>\n",
       "      <td>NaN</td>\n",
       "    </tr>\n",
       "    <tr>\n",
       "      <th>2005-01-07</th>\n",
       "      <td>1.230290e+07</td>\n",
       "      <td>9.756400e+07</td>\n",
       "      <td>2308610.0</td>\n",
       "      <td>6725460.0</td>\n",
       "      <td>11011800.0</td>\n",
       "      <td>1665260.0</td>\n",
       "      <td>1496010.0</td>\n",
       "      <td>5.542720e+06</td>\n",
       "      <td>3511960.0</td>\n",
       "      <td>520476.0</td>\n",
       "      <td>...</td>\n",
       "      <td>NaN</td>\n",
       "      <td>NaN</td>\n",
       "      <td>NaN</td>\n",
       "      <td>NaN</td>\n",
       "      <td>NaN</td>\n",
       "      <td>NaN</td>\n",
       "      <td>NaN</td>\n",
       "      <td>NaN</td>\n",
       "      <td>NaN</td>\n",
       "      <td>NaN</td>\n",
       "    </tr>\n",
       "    <tr>\n",
       "      <th>2005-01-10</th>\n",
       "      <td>1.711150e+07</td>\n",
       "      <td>3.884000e+07</td>\n",
       "      <td>2042040.0</td>\n",
       "      <td>16799500.0</td>\n",
       "      <td>60591500.0</td>\n",
       "      <td>3430210.0</td>\n",
       "      <td>1731760.0</td>\n",
       "      <td>1.274260e+07</td>\n",
       "      <td>6510420.0</td>\n",
       "      <td>613480.0</td>\n",
       "      <td>...</td>\n",
       "      <td>NaN</td>\n",
       "      <td>NaN</td>\n",
       "      <td>NaN</td>\n",
       "      <td>NaN</td>\n",
       "      <td>NaN</td>\n",
       "      <td>NaN</td>\n",
       "      <td>NaN</td>\n",
       "      <td>NaN</td>\n",
       "      <td>NaN</td>\n",
       "      <td>NaN</td>\n",
       "    </tr>\n",
       "    <tr>\n",
       "      <th>...</th>\n",
       "      <td>...</td>\n",
       "      <td>...</td>\n",
       "      <td>...</td>\n",
       "      <td>...</td>\n",
       "      <td>...</td>\n",
       "      <td>...</td>\n",
       "      <td>...</td>\n",
       "      <td>...</td>\n",
       "      <td>...</td>\n",
       "      <td>...</td>\n",
       "      <td>...</td>\n",
       "      <td>...</td>\n",
       "      <td>...</td>\n",
       "      <td>...</td>\n",
       "      <td>...</td>\n",
       "      <td>...</td>\n",
       "      <td>...</td>\n",
       "      <td>...</td>\n",
       "      <td>...</td>\n",
       "      <td>...</td>\n",
       "      <td>...</td>\n",
       "    </tr>\n",
       "    <tr>\n",
       "      <th>2022-10-10</th>\n",
       "      <td>1.119090e+09</td>\n",
       "      <td>1.703650e+09</td>\n",
       "      <td>9780170.0</td>\n",
       "      <td>5753890.0</td>\n",
       "      <td>47271800.0</td>\n",
       "      <td>72069200.0</td>\n",
       "      <td>26577500.0</td>\n",
       "      <td>3.686470e+08</td>\n",
       "      <td>19172300.0</td>\n",
       "      <td>31174000.0</td>\n",
       "      <td>...</td>\n",
       "      <td>6913650.0</td>\n",
       "      <td>14709500.0</td>\n",
       "      <td>62348100.0</td>\n",
       "      <td>13988900.0</td>\n",
       "      <td>71690300.0</td>\n",
       "      <td>7794720.0</td>\n",
       "      <td>254115000.0</td>\n",
       "      <td>56071500.0</td>\n",
       "      <td>563142000.0</td>\n",
       "      <td>56673300.0</td>\n",
       "    </tr>\n",
       "    <tr>\n",
       "      <th>2022-10-11</th>\n",
       "      <td>4.767490e+08</td>\n",
       "      <td>1.516870e+09</td>\n",
       "      <td>8672260.0</td>\n",
       "      <td>8510860.0</td>\n",
       "      <td>41285200.0</td>\n",
       "      <td>79334400.0</td>\n",
       "      <td>22123800.0</td>\n",
       "      <td>3.726480e+08</td>\n",
       "      <td>14461000.0</td>\n",
       "      <td>24180400.0</td>\n",
       "      <td>...</td>\n",
       "      <td>11721800.0</td>\n",
       "      <td>14250900.0</td>\n",
       "      <td>49655600.0</td>\n",
       "      <td>10010100.0</td>\n",
       "      <td>46829400.0</td>\n",
       "      <td>5314030.0</td>\n",
       "      <td>150898000.0</td>\n",
       "      <td>99059900.0</td>\n",
       "      <td>497254000.0</td>\n",
       "      <td>43373700.0</td>\n",
       "    </tr>\n",
       "    <tr>\n",
       "      <th>2022-10-12</th>\n",
       "      <td>6.417770e+08</td>\n",
       "      <td>9.907400e+08</td>\n",
       "      <td>8274180.0</td>\n",
       "      <td>8018090.0</td>\n",
       "      <td>40542800.0</td>\n",
       "      <td>84453600.0</td>\n",
       "      <td>22290000.0</td>\n",
       "      <td>6.692610e+08</td>\n",
       "      <td>18110600.0</td>\n",
       "      <td>21934700.0</td>\n",
       "      <td>...</td>\n",
       "      <td>11025100.0</td>\n",
       "      <td>14774000.0</td>\n",
       "      <td>32077300.0</td>\n",
       "      <td>14541500.0</td>\n",
       "      <td>53130700.0</td>\n",
       "      <td>6618310.0</td>\n",
       "      <td>165024000.0</td>\n",
       "      <td>115841000.0</td>\n",
       "      <td>486605000.0</td>\n",
       "      <td>100373000.0</td>\n",
       "    </tr>\n",
       "    <tr>\n",
       "      <th>2022-10-13</th>\n",
       "      <td>9.700220e+08</td>\n",
       "      <td>1.172310e+09</td>\n",
       "      <td>13915600.0</td>\n",
       "      <td>6638570.0</td>\n",
       "      <td>53278000.0</td>\n",
       "      <td>54734100.0</td>\n",
       "      <td>26120900.0</td>\n",
       "      <td>1.462620e+09</td>\n",
       "      <td>16386500.0</td>\n",
       "      <td>21414500.0</td>\n",
       "      <td>...</td>\n",
       "      <td>8806150.0</td>\n",
       "      <td>21012500.0</td>\n",
       "      <td>46264400.0</td>\n",
       "      <td>12286100.0</td>\n",
       "      <td>58302200.0</td>\n",
       "      <td>25833100.0</td>\n",
       "      <td>138440000.0</td>\n",
       "      <td>205754000.0</td>\n",
       "      <td>520559000.0</td>\n",
       "      <td>65760700.0</td>\n",
       "    </tr>\n",
       "    <tr>\n",
       "      <th>2022-10-14</th>\n",
       "      <td>1.265490e+09</td>\n",
       "      <td>1.137720e+09</td>\n",
       "      <td>12158000.0</td>\n",
       "      <td>6686070.0</td>\n",
       "      <td>47763500.0</td>\n",
       "      <td>94444100.0</td>\n",
       "      <td>29750500.0</td>\n",
       "      <td>2.025740e+09</td>\n",
       "      <td>28728400.0</td>\n",
       "      <td>24792700.0</td>\n",
       "      <td>...</td>\n",
       "      <td>42781500.0</td>\n",
       "      <td>21291900.0</td>\n",
       "      <td>54790700.0</td>\n",
       "      <td>16619100.0</td>\n",
       "      <td>67980800.0</td>\n",
       "      <td>45960000.0</td>\n",
       "      <td>91450900.0</td>\n",
       "      <td>133191000.0</td>\n",
       "      <td>715303000.0</td>\n",
       "      <td>73378400.0</td>\n",
       "    </tr>\n",
       "  </tbody>\n",
       "</table>\n",
       "<p>4319 rows × 5001 columns</p>\n",
       "</div>"
      ],
      "text/plain": [
       "               000001.SZ     000002.SZ   000004.SZ   000005.SZ   000006.SZ  \\\n",
       "trade_date                                                                   \n",
       "2005-01-04  1.146560e+07  5.451420e+07   1789900.0   1864270.0   1191630.0   \n",
       "2005-01-05  2.071860e+07  9.478190e+07   3190160.0   1810880.0   1238550.0   \n",
       "2005-01-06  1.733380e+07  9.925340e+07   3103200.0   1697600.0   1089230.0   \n",
       "2005-01-07  1.230290e+07  9.756400e+07   2308610.0   6725460.0  11011800.0   \n",
       "2005-01-10  1.711150e+07  3.884000e+07   2042040.0  16799500.0  60591500.0   \n",
       "...                  ...           ...         ...         ...         ...   \n",
       "2022-10-10  1.119090e+09  1.703650e+09   9780170.0   5753890.0  47271800.0   \n",
       "2022-10-11  4.767490e+08  1.516870e+09   8672260.0   8510860.0  41285200.0   \n",
       "2022-10-12  6.417770e+08  9.907400e+08   8274180.0   8018090.0  40542800.0   \n",
       "2022-10-13  9.700220e+08  1.172310e+09  13915600.0   6638570.0  53278000.0   \n",
       "2022-10-14  1.265490e+09  1.137720e+09  12158000.0   6686070.0  47763500.0   \n",
       "\n",
       "             000007.SZ   000008.SZ     000009.SZ   000010.SZ   000011.SZ  ...  \\\n",
       "trade_date                                                                ...   \n",
       "2005-01-04    974110.0    592675.0  2.805200e+06   1534490.0   1832270.0  ...   \n",
       "2005-01-05   1122530.0    722853.0  2.767720e+06   2383290.0   1346120.0  ...   \n",
       "2005-01-06   1050550.0   1774380.0  2.134000e+06   3015490.0    567355.0  ...   \n",
       "2005-01-07   1665260.0   1496010.0  5.542720e+06   3511960.0    520476.0  ...   \n",
       "2005-01-10   3430210.0   1731760.0  1.274260e+07   6510420.0    613480.0  ...   \n",
       "...                ...         ...           ...         ...         ...  ...   \n",
       "2022-10-10  72069200.0  26577500.0  3.686470e+08  19172300.0  31174000.0  ...   \n",
       "2022-10-11  79334400.0  22123800.0  3.726480e+08  14461000.0  24180400.0  ...   \n",
       "2022-10-12  84453600.0  22290000.0  6.692610e+08  18110600.0  21934700.0  ...   \n",
       "2022-10-13  54734100.0  26120900.0  1.462620e+09  16386500.0  21414500.0  ...   \n",
       "2022-10-14  94444100.0  29750500.0  2.025740e+09  28728400.0  24792700.0  ...   \n",
       "\n",
       "             688787.SH   688788.SH   688789.SH   688793.SH   688798.SH  \\\n",
       "trade_date                                                               \n",
       "2005-01-04         NaN         NaN         NaN         NaN         NaN   \n",
       "2005-01-05         NaN         NaN         NaN         NaN         NaN   \n",
       "2005-01-06         NaN         NaN         NaN         NaN         NaN   \n",
       "2005-01-07         NaN         NaN         NaN         NaN         NaN   \n",
       "2005-01-10         NaN         NaN         NaN         NaN         NaN   \n",
       "...                ...         ...         ...         ...         ...   \n",
       "2022-10-10   6913650.0  14709500.0  62348100.0  13988900.0  71690300.0   \n",
       "2022-10-11  11721800.0  14250900.0  49655600.0  10010100.0  46829400.0   \n",
       "2022-10-12  11025100.0  14774000.0  32077300.0  14541500.0  53130700.0   \n",
       "2022-10-13   8806150.0  21012500.0  46264400.0  12286100.0  58302200.0   \n",
       "2022-10-14  42781500.0  21291900.0  54790700.0  16619100.0  67980800.0   \n",
       "\n",
       "             688799.SH    688800.SH    688819.SH    688981.SH    689009.SH  \n",
       "trade_date                                                                  \n",
       "2005-01-04         NaN          NaN          NaN          NaN          NaN  \n",
       "2005-01-05         NaN          NaN          NaN          NaN          NaN  \n",
       "2005-01-06         NaN          NaN          NaN          NaN          NaN  \n",
       "2005-01-07         NaN          NaN          NaN          NaN          NaN  \n",
       "2005-01-10         NaN          NaN          NaN          NaN          NaN  \n",
       "...                ...          ...          ...          ...          ...  \n",
       "2022-10-10   7794720.0  254115000.0   56071500.0  563142000.0   56673300.0  \n",
       "2022-10-11   5314030.0  150898000.0   99059900.0  497254000.0   43373700.0  \n",
       "2022-10-12   6618310.0  165024000.0  115841000.0  486605000.0  100373000.0  \n",
       "2022-10-13  25833100.0  138440000.0  205754000.0  520559000.0   65760700.0  \n",
       "2022-10-14  45960000.0   91450900.0  133191000.0  715303000.0   73378400.0  \n",
       "\n",
       "[4319 rows x 5001 columns]"
      ]
     },
     "execution_count": 8,
     "metadata": {},
     "output_type": "execute_result"
    }
   ],
   "source": [
    "fg.money"
   ]
  },
  {
   "cell_type": "code",
   "execution_count": 5,
   "id": "e1c29b57",
   "metadata": {},
   "outputs": [],
   "source": [
    "tbmic = fg.IC(tbm)"
   ]
  },
  {
   "cell_type": "code",
   "execution_count": 11,
   "id": "d1f147f0",
   "metadata": {},
   "outputs": [],
   "source": [
    "lst = []\n",
    "for i in range(2, len(fg.hs300)):\n",
    "    count = 0\n",
    "    if fg.hs300.iloc[i][0] >= fg.hs300.iloc[i-1][0]:\n",
    "        upper, lower = fg.hs300.iloc[i][0], fg.hs300.iloc[i-1][0]\n",
    "    else:\n",
    "        lower, upper = fg.hs300.iloc[i][0], fg.hs300.iloc[i-1][0]\n",
    "    for j in range(len(fg.hs300)-2):\n",
    "        if lower <= fg.hs300.iloc[j][0] <= upper:\n",
    "            count += 1\n",
    "    lst.append(count)"
   ]
  },
  {
   "cell_type": "code",
   "execution_count": 29,
   "id": "8063aad0",
   "metadata": {},
   "outputs": [],
   "source": [
    "lst1 = [lst[i] for i in range(len(lst)) if lst[i] != 0]"
   ]
  },
  {
   "cell_type": "code",
   "execution_count": 30,
   "id": "910db410",
   "metadata": {},
   "outputs": [
    {
     "data": {
      "image/png": "[encoded data removed]",
      "text/plain": [
       "<Figure size 1600x1200 with 1 Axes>"
      ]
     },
     "metadata": {},
     "output_type": "display_data"
    }
   ],
   "source": [
    "plt.figure(figsize=(16, 12))\n",
    "sns.histplot(lst1, bins=200, kde=True)\n",
    "plt.show()"
   ]
  },
  {
   "cell_type": "code",
   "execution_count": 17,
   "id": "04b604aa",
   "metadata": {
    "ExecuteTime": {
     "end_time": "2022-10-28T12:47:31.588728Z",
     "start_time": "2022-10-28T12:47:31.572659Z"
    }
   },
   "outputs": [
    {
     "data": {
      "text/plain": [
       "0.2915957632423657"
      ]
     },
     "execution_count": 17,
     "metadata": {},
     "output_type": "execute_result"
    }
   ],
   "source": [
    "fg.rate[\"600519.SH\"].corr(fg.rate[\"601988.SH\"])"
   ]
  },
  {
   "cell_type": "code",
   "execution_count": 21,
   "id": "1a25ba09",
   "metadata": {
    "ExecuteTime": {
     "end_time": "2022-10-28T12:52:29.947171Z",
     "start_time": "2022-10-28T12:51:18.511596Z"
    }
   },
   "outputs": [],
   "source": [
    "corrmat = fg.rate.corr()"
   ]
  },
  {
   "cell_type": "code",
   "execution_count": 46,
   "id": "56b66889",
   "metadata": {
    "ExecuteTime": {
     "end_time": "2022-10-28T13:01:47.003066Z",
     "start_time": "2022-10-28T13:01:46.377925Z"
    }
   },
   "outputs": [],
   "source": [
    "data = corrmat.replace(1, np.nan).values.reshape(corrmat.size)[~np.isnan(corrmat.replace(1, np.nan).values.reshape(corrmat.size))]"
   ]
  },
  {
   "cell_type": "code",
   "execution_count": 50,
   "id": "ce47aa43",
   "metadata": {
    "ExecuteTime": {
     "end_time": "2022-10-28T13:04:19.081505Z",
     "start_time": "2022-10-28T13:04:18.831288Z"
    }
   },
   "outputs": [],
   "source": [
    "data_standard = (data - np.mean(data)) / np.std(data)"
   ]
  },
  {
   "cell_type": "code",
   "execution_count": 54,
   "id": "5202536e",
   "metadata": {
    "ExecuteTime": {
     "end_time": "2022-10-28T13:05:23.950664Z",
     "start_time": "2022-10-28T13:05:23.589694Z"
    }
   },
   "outputs": [
    {
     "data": {
      "text/plain": [
       "(array([2.040000e+02, 1.080000e+02, 1.500000e+02, 1.740000e+02,\n",
       "        2.260000e+02, 2.260000e+02, 3.040000e+02, 3.380000e+02,\n",
       "        3.640000e+02, 3.920000e+02, 4.660000e+02, 5.200000e+02,\n",
       "        5.820000e+02, 5.940000e+02, 6.940000e+02, 8.220000e+02,\n",
       "        8.320000e+02, 9.080000e+02, 1.102000e+03, 1.196000e+03,\n",
       "        1.296000e+03, 1.468000e+03, 1.730000e+03, 1.840000e+03,\n",
       "        1.966000e+03, 2.120000e+03, 2.344000e+03, 2.682000e+03,\n",
       "        2.906000e+03, 3.300000e+03, 3.626000e+03, 3.958000e+03,\n",
       "        4.254000e+03, 4.932000e+03, 5.484000e+03, 6.330000e+03,\n",
       "        7.476000e+03, 8.566000e+03, 9.840000e+03, 1.230200e+04,\n",
       "        1.489200e+04, 1.848400e+04, 2.365200e+04, 3.118000e+04,\n",
       "        4.037200e+04, 5.644200e+04, 8.122200e+04, 1.235240e+05,\n",
       "        1.973040e+05, 3.155400e+05, 4.701920e+05, 6.178300e+05,\n",
       "        7.159300e+05, 7.784880e+05, 8.445580e+05, 9.346100e+05,\n",
       "        1.040118e+06, 1.160182e+06, 1.277986e+06, 1.385610e+06,\n",
       "        1.470554e+06, 1.522446e+06, 1.530514e+06, 1.484152e+06,\n",
       "        1.404812e+06, 1.306866e+06, 1.191926e+06, 1.064336e+06,\n",
       "        9.160640e+05, 7.508200e+05, 5.766700e+05, 4.118240e+05,\n",
       "        2.699180e+05, 1.612180e+05, 9.012200e+04, 4.880400e+04,\n",
       "        2.771600e+04, 1.672000e+04, 1.173000e+04, 8.586000e+03,\n",
       "        6.314000e+03, 5.168000e+03, 4.160000e+03, 3.264000e+03,\n",
       "        2.742000e+03, 2.238000e+03, 1.848000e+03, 1.474000e+03,\n",
       "        1.200000e+03, 9.340000e+02, 7.200000e+02, 7.100000e+02,\n",
       "        4.920000e+02, 4.340000e+02, 3.200000e+02, 2.940000e+02,\n",
       "        2.720000e+02, 2.500000e+02, 2.060000e+02, 1.480000e+02]),\n",
       " array([-9.38001945e+00, -9.22623225e+00, -9.07244505e+00, -8.91865786e+00,\n",
       "        -8.76487066e+00, -8.61108346e+00, -8.45729626e+00, -8.30350907e+00,\n",
       "        -8.14972187e+00, -7.99593467e+00, -7.84214748e+00, -7.68836028e+00,\n",
       "        -7.53457308e+00, -7.38078588e+00, -7.22699869e+00, -7.07321149e+00,\n",
       "        -6.91942429e+00, -6.76563710e+00, -6.61184990e+00, -6.45806270e+00,\n",
       "        -6.30427550e+00, -6.15048831e+00, -5.99670111e+00, -5.84291391e+00,\n",
       "        -5.68912671e+00, -5.53533952e+00, -5.38155232e+00, -5.22776512e+00,\n",
       "        -5.07397793e+00, -4.92019073e+00, -4.76640353e+00, -4.61261633e+00,\n",
       "        -4.45882914e+00, -4.30504194e+00, -4.15125474e+00, -3.99746755e+00,\n",
       "        -3.84368035e+00, -3.68989315e+00, -3.53610595e+00, -3.38231876e+00,\n",
       "        -3.22853156e+00, -3.07474436e+00, -2.92095716e+00, -2.76716997e+00,\n",
       "        -2.61338277e+00, -2.45959557e+00, -2.30580838e+00, -2.15202118e+00,\n",
       "        -1.99823398e+00, -1.84444678e+00, -1.69065959e+00, -1.53687239e+00,\n",
       "        -1.38308519e+00, -1.22929800e+00, -1.07551080e+00, -9.21723601e-01,\n",
       "        -7.67936404e-01, -6.14149206e-01, -4.60362009e-01, -3.06574812e-01,\n",
       "        -1.52787615e-01,  9.99582462e-04,  1.54786780e-01,  3.08573977e-01,\n",
       "         4.62361174e-01,  6.16148371e-01,  7.69935569e-01,  9.23722766e-01,\n",
       "         1.07750996e+00,  1.23129716e+00,  1.38508436e+00,  1.53887155e+00,\n",
       "         1.69265875e+00,  1.84644595e+00,  2.00023315e+00,  2.15402034e+00,\n",
       "         2.30780754e+00,  2.46159474e+00,  2.61538194e+00,  2.76916913e+00,\n",
       "         2.92295633e+00,  3.07674353e+00,  3.23053072e+00,  3.38431792e+00,\n",
       "         3.53810512e+00,  3.69189232e+00,  3.84567951e+00,  3.99946671e+00,\n",
       "         4.15325391e+00,  4.30704110e+00,  4.46082830e+00,  4.61461550e+00,\n",
       "         4.76840270e+00,  4.92218989e+00,  5.07597709e+00,  5.22976429e+00,\n",
       "         5.38355149e+00,  5.53733868e+00,  5.69112588e+00,  5.84491308e+00,\n",
       "         5.99870027e+00]),\n",
       " <BarContainer object of 100 artists>)"
      ]
     },
     "execution_count": 54,
     "metadata": {},
     "output_type": "execute_result"
    },
    {
     "data": {
      "image/png": "[encoded data removed]",
      "text/plain": [
       "<Figure size 640x480 with 1 Axes>"
      ]
     },
     "metadata": {},
     "output_type": "display_data"
    }
   ],
   "source": [
    "plt.hist(data_standard, bins=100)"
   ]
  },
  {
   "cell_type": "code",
   "execution_count": 55,
   "id": "8b5357ff",
   "metadata": {
    "ExecuteTime": {
     "end_time": "2022-10-29T01:13:09.416403Z",
     "start_time": "2022-10-29T01:13:09.390689Z"
    }
   },
   "outputs": [
    {
     "data": {
      "text/plain": [
       "1000"
      ]
     },
     "execution_count": 55,
     "metadata": {},
     "output_type": "execute_result"
    }
   ],
   "source": [
    "365 + 40 + 5 + 40 + 41 + 4 + 41 + 364 + 5 +40+ 5+1+1+4+40+4"
   ]
  },
  {
   "cell_type": "code",
   "execution_count": 68,
   "id": "2259eb76",
   "metadata": {
    "ExecuteTime": {
     "end_time": "2022-10-29T02:54:52.586061Z",
     "start_time": "2022-10-29T02:54:52.569212Z"
    },
    "scrolled": true
   },
   "outputs": [
    {
     "data": {
      "text/plain": [
       "150.0"
      ]
     },
     "execution_count": 68,
     "metadata": {},
     "output_type": "execute_result"
    }
   ],
   "source": [
    "450/3"
   ]
  },
  {
   "cell_type": "code",
   "execution_count": 77,
   "id": "b10f8af2",
   "metadata": {
    "ExecuteTime": {
     "end_time": "2022-10-29T03:03:00.374944Z",
     "start_time": "2022-10-29T03:03:00.364947Z"
    }
   },
   "outputs": [
    {
     "data": {
      "text/plain": [
       "19.52173913043478"
      ]
     },
     "execution_count": 77,
     "metadata": {},
     "output_type": "execute_result"
    }
   ],
   "source": [
    "449/23\n"
   ]
  },
  {
   "cell_type": "code",
   "execution_count": 71,
   "id": "bfda6e56",
   "metadata": {
    "ExecuteTime": {
     "end_time": "2022-10-29T02:56:46.907216Z",
     "start_time": "2022-10-29T02:56:46.892155Z"
    }
   },
   "outputs": [
    {
     "data": {
      "text/plain": [
       "450"
      ]
     },
     "execution_count": 71,
     "metadata": {},
     "output_type": "execute_result"
    }
   ],
   "source": [
    "365+40+5+40"
   ]
  },
  {
   "cell_type": "code",
   "execution_count": 80,
   "id": "9dfad9b0",
   "metadata": {
    "ExecuteTime": {
     "end_time": "2022-10-29T03:10:23.096788Z",
     "start_time": "2022-10-29T03:10:23.090788Z"
    }
   },
   "outputs": [
    {
     "data": {
      "text/plain": [
       "0.23017365269461082"
      ]
     },
     "execution_count": 80,
     "metadata": {},
     "output_type": "execute_result"
    }
   ],
   "source": [
    "150/167 * (8/45 * 501 / 1000 + 4/25 * 499/1000) + 17/167 *(41/51 * 501 /1000 + 368/449 * 449 /1000)"
   ]
  },
  {
   "cell_type": "code",
   "execution_count": null,
   "id": "4777e9f1",
   "metadata": {},
   "outputs": [],
   "source": []
  }
 ],
 "metadata": {
  "kernelspec": {
   "display_name": "Python 3 (ipykernel)",
   "language": "python",
   "name": "python3"
  },
  "language_info": {
   "codemirror_mode": {
    "name": "ipython",
    "version": 3
   },
   "file_extension": ".py",
   "mimetype": "text/x-python",
   "name": "python",
   "nbconvert_exporter": "python",
   "pygments_lexer": "ipython3",
   "version": "3.9.13"
  },
  "notify_time": "5",
  "toc": {
   "base_numbering": 1,
   "nav_menu": {},
   "number_sections": false,
   "sideBar": true,
   "skip_h1_title": true,
   "title_cell": "Table of Contents",
   "title_sidebar": "Contents",
   "toc_cell": false,
   "toc_position": {},
   "toc_section_display": true,
   "toc_window_display": false
  },
  "varInspector": {
   "cols": {
    "lenName": 16,
    "lenType": 16,
    "lenVar": 40
   },
   "kernels_config": {
    "python": {
     "delete_cmd_postfix": "",
     "delete_cmd_prefix": "del ",
     "library": "var_list.py",
     "varRefreshCmd": "print(var_dic_list())"
    },
    "r": {
     "delete_cmd_postfix": ") ",
     "delete_cmd_prefix": "rm(",
     "library": "var_list.r",
     "varRefreshCmd": "cat(var_dic_list()) "
    }
   },
   "types_to_exclude": [
    "module",
    "function",
    "builtin_function_or_method",
    "instance",
    "_Feature"
   ],
   "window_display": false
  }
 },
 "nbformat": 4,
 "nbformat_minor": 5
}
